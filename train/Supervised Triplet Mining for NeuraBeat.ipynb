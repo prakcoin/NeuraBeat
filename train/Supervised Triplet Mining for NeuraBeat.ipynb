{
  "cells": [
    {
      "cell_type": "markdown",
      "metadata": {
        "id": "LrtmFa8IAtps"
      },
      "source": [
        "# Imports"
      ]
    },
    {
      "cell_type": "code",
      "execution_count": 20,
      "metadata": {
        "colab": {
          "base_uri": "https://localhost:8080/"
        },
        "id": "tUn1Z--HIHSc",
        "outputId": "bca3ffb8-49bf-468f-e0e0-c3a2f8427269"
      },
      "outputs": [
        {
          "output_type": "stream",
          "name": "stdout",
          "text": [
            "Requirement already satisfied: audiomentations in /usr/local/lib/python3.10/dist-packages (0.36.0)\n",
            "Requirement already satisfied: numpy>=1.21.0 in /usr/local/lib/python3.10/dist-packages (from audiomentations) (1.25.2)\n",
            "Requirement already satisfied: librosa!=0.10.0,<0.11.0,>=0.8.0 in /usr/local/lib/python3.10/dist-packages (from audiomentations) (0.10.2.post1)\n",
            "Requirement already satisfied: scipy<1.13,>=1.4 in /usr/local/lib/python3.10/dist-packages (from audiomentations) (1.12.0)\n",
            "Requirement already satisfied: soxr<1.0.0,>=0.3.2 in /usr/local/lib/python3.10/dist-packages (from audiomentations) (0.3.7)\n",
            "Requirement already satisfied: audioread>=2.1.9 in /usr/local/lib/python3.10/dist-packages (from librosa!=0.10.0,<0.11.0,>=0.8.0->audiomentations) (3.0.1)\n",
            "Requirement already satisfied: scikit-learn>=0.20.0 in /usr/local/lib/python3.10/dist-packages (from librosa!=0.10.0,<0.11.0,>=0.8.0->audiomentations) (1.3.2)\n",
            "Requirement already satisfied: joblib>=0.14 in /usr/local/lib/python3.10/dist-packages (from librosa!=0.10.0,<0.11.0,>=0.8.0->audiomentations) (1.4.2)\n",
            "Requirement already satisfied: decorator>=4.3.0 in /usr/local/lib/python3.10/dist-packages (from librosa!=0.10.0,<0.11.0,>=0.8.0->audiomentations) (4.4.2)\n",
            "Requirement already satisfied: numba>=0.51.0 in /usr/local/lib/python3.10/dist-packages (from librosa!=0.10.0,<0.11.0,>=0.8.0->audiomentations) (0.60.0)\n",
            "Requirement already satisfied: soundfile>=0.12.1 in /usr/local/lib/python3.10/dist-packages (from librosa!=0.10.0,<0.11.0,>=0.8.0->audiomentations) (0.12.1)\n",
            "Requirement already satisfied: pooch>=1.1 in /usr/local/lib/python3.10/dist-packages (from librosa!=0.10.0,<0.11.0,>=0.8.0->audiomentations) (1.8.2)\n",
            "Requirement already satisfied: typing-extensions>=4.1.1 in /usr/local/lib/python3.10/dist-packages (from librosa!=0.10.0,<0.11.0,>=0.8.0->audiomentations) (4.12.2)\n",
            "Requirement already satisfied: lazy-loader>=0.1 in /usr/local/lib/python3.10/dist-packages (from librosa!=0.10.0,<0.11.0,>=0.8.0->audiomentations) (0.4)\n",
            "Requirement already satisfied: msgpack>=1.0 in /usr/local/lib/python3.10/dist-packages (from librosa!=0.10.0,<0.11.0,>=0.8.0->audiomentations) (1.0.8)\n",
            "Requirement already satisfied: packaging in /usr/local/lib/python3.10/dist-packages (from lazy-loader>=0.1->librosa!=0.10.0,<0.11.0,>=0.8.0->audiomentations) (24.1)\n",
            "Requirement already satisfied: llvmlite<0.44,>=0.43.0dev0 in /usr/local/lib/python3.10/dist-packages (from numba>=0.51.0->librosa!=0.10.0,<0.11.0,>=0.8.0->audiomentations) (0.43.0)\n",
            "Requirement already satisfied: platformdirs>=2.5.0 in /usr/local/lib/python3.10/dist-packages (from pooch>=1.1->librosa!=0.10.0,<0.11.0,>=0.8.0->audiomentations) (4.2.2)\n",
            "Requirement already satisfied: requests>=2.19.0 in /usr/local/lib/python3.10/dist-packages (from pooch>=1.1->librosa!=0.10.0,<0.11.0,>=0.8.0->audiomentations) (2.31.0)\n",
            "Requirement already satisfied: threadpoolctl>=2.0.0 in /usr/local/lib/python3.10/dist-packages (from scikit-learn>=0.20.0->librosa!=0.10.0,<0.11.0,>=0.8.0->audiomentations) (3.5.0)\n",
            "Requirement already satisfied: cffi>=1.0 in /usr/local/lib/python3.10/dist-packages (from soundfile>=0.12.1->librosa!=0.10.0,<0.11.0,>=0.8.0->audiomentations) (1.16.0)\n",
            "Requirement already satisfied: pycparser in /usr/local/lib/python3.10/dist-packages (from cffi>=1.0->soundfile>=0.12.1->librosa!=0.10.0,<0.11.0,>=0.8.0->audiomentations) (2.22)\n",
            "Requirement already satisfied: charset-normalizer<4,>=2 in /usr/local/lib/python3.10/dist-packages (from requests>=2.19.0->pooch>=1.1->librosa!=0.10.0,<0.11.0,>=0.8.0->audiomentations) (3.3.2)\n",
            "Requirement already satisfied: idna<4,>=2.5 in /usr/local/lib/python3.10/dist-packages (from requests>=2.19.0->pooch>=1.1->librosa!=0.10.0,<0.11.0,>=0.8.0->audiomentations) (3.7)\n",
            "Requirement already satisfied: urllib3<3,>=1.21.1 in /usr/local/lib/python3.10/dist-packages (from requests>=2.19.0->pooch>=1.1->librosa!=0.10.0,<0.11.0,>=0.8.0->audiomentations) (2.0.7)\n",
            "Requirement already satisfied: certifi>=2017.4.17 in /usr/local/lib/python3.10/dist-packages (from requests>=2.19.0->pooch>=1.1->librosa!=0.10.0,<0.11.0,>=0.8.0->audiomentations) (2024.7.4)\n",
            "Requirement already satisfied: torch-audiomentations in /usr/local/lib/python3.10/dist-packages (0.11.1)\n",
            "Requirement already satisfied: julius<0.3,>=0.2.3 in /usr/local/lib/python3.10/dist-packages (from torch-audiomentations) (0.2.7)\n",
            "Requirement already satisfied: librosa>=0.6.0 in /usr/local/lib/python3.10/dist-packages (from torch-audiomentations) (0.10.2.post1)\n",
            "Requirement already satisfied: torch>=1.7.0 in /usr/local/lib/python3.10/dist-packages (from torch-audiomentations) (2.3.1+cu121)\n",
            "Requirement already satisfied: torchaudio>=0.9.0 in /usr/local/lib/python3.10/dist-packages (from torch-audiomentations) (2.3.1+cu121)\n",
            "Requirement already satisfied: torch-pitch-shift>=1.2.2 in /usr/local/lib/python3.10/dist-packages (from torch-audiomentations) (1.2.4)\n",
            "Requirement already satisfied: audioread>=2.1.9 in /usr/local/lib/python3.10/dist-packages (from librosa>=0.6.0->torch-audiomentations) (3.0.1)\n",
            "Requirement already satisfied: numpy!=1.22.0,!=1.22.1,!=1.22.2,>=1.20.3 in /usr/local/lib/python3.10/dist-packages (from librosa>=0.6.0->torch-audiomentations) (1.25.2)\n",
            "Requirement already satisfied: scipy>=1.2.0 in /usr/local/lib/python3.10/dist-packages (from librosa>=0.6.0->torch-audiomentations) (1.12.0)\n",
            "Requirement already satisfied: scikit-learn>=0.20.0 in /usr/local/lib/python3.10/dist-packages (from librosa>=0.6.0->torch-audiomentations) (1.3.2)\n",
            "Requirement already satisfied: joblib>=0.14 in /usr/local/lib/python3.10/dist-packages (from librosa>=0.6.0->torch-audiomentations) (1.4.2)\n",
            "Requirement already satisfied: decorator>=4.3.0 in /usr/local/lib/python3.10/dist-packages (from librosa>=0.6.0->torch-audiomentations) (4.4.2)\n",
            "Requirement already satisfied: numba>=0.51.0 in /usr/local/lib/python3.10/dist-packages (from librosa>=0.6.0->torch-audiomentations) (0.60.0)\n",
            "Requirement already satisfied: soundfile>=0.12.1 in /usr/local/lib/python3.10/dist-packages (from librosa>=0.6.0->torch-audiomentations) (0.12.1)\n",
            "Requirement already satisfied: pooch>=1.1 in /usr/local/lib/python3.10/dist-packages (from librosa>=0.6.0->torch-audiomentations) (1.8.2)\n",
            "Requirement already satisfied: soxr>=0.3.2 in /usr/local/lib/python3.10/dist-packages (from librosa>=0.6.0->torch-audiomentations) (0.3.7)\n",
            "Requirement already satisfied: typing-extensions>=4.1.1 in /usr/local/lib/python3.10/dist-packages (from librosa>=0.6.0->torch-audiomentations) (4.12.2)\n",
            "Requirement already satisfied: lazy-loader>=0.1 in /usr/local/lib/python3.10/dist-packages (from librosa>=0.6.0->torch-audiomentations) (0.4)\n",
            "Requirement already satisfied: msgpack>=1.0 in /usr/local/lib/python3.10/dist-packages (from librosa>=0.6.0->torch-audiomentations) (1.0.8)\n",
            "Requirement already satisfied: filelock in /usr/local/lib/python3.10/dist-packages (from torch>=1.7.0->torch-audiomentations) (3.15.4)\n",
            "Requirement already satisfied: sympy in /usr/local/lib/python3.10/dist-packages (from torch>=1.7.0->torch-audiomentations) (1.13.1)\n",
            "Requirement already satisfied: networkx in /usr/local/lib/python3.10/dist-packages (from torch>=1.7.0->torch-audiomentations) (3.3)\n",
            "Requirement already satisfied: jinja2 in /usr/local/lib/python3.10/dist-packages (from torch>=1.7.0->torch-audiomentations) (3.1.4)\n",
            "Requirement already satisfied: fsspec in /usr/local/lib/python3.10/dist-packages (from torch>=1.7.0->torch-audiomentations) (2024.6.1)\n",
            "Requirement already satisfied: nvidia-cuda-nvrtc-cu12==12.1.105 in /usr/local/lib/python3.10/dist-packages (from torch>=1.7.0->torch-audiomentations) (12.1.105)\n",
            "Requirement already satisfied: nvidia-cuda-runtime-cu12==12.1.105 in /usr/local/lib/python3.10/dist-packages (from torch>=1.7.0->torch-audiomentations) (12.1.105)\n",
            "Requirement already satisfied: nvidia-cuda-cupti-cu12==12.1.105 in /usr/local/lib/python3.10/dist-packages (from torch>=1.7.0->torch-audiomentations) (12.1.105)\n",
            "Requirement already satisfied: nvidia-cudnn-cu12==8.9.2.26 in /usr/local/lib/python3.10/dist-packages (from torch>=1.7.0->torch-audiomentations) (8.9.2.26)\n",
            "Requirement already satisfied: nvidia-cublas-cu12==12.1.3.1 in /usr/local/lib/python3.10/dist-packages (from torch>=1.7.0->torch-audiomentations) (12.1.3.1)\n",
            "Requirement already satisfied: nvidia-cufft-cu12==11.0.2.54 in /usr/local/lib/python3.10/dist-packages (from torch>=1.7.0->torch-audiomentations) (11.0.2.54)\n",
            "Requirement already satisfied: nvidia-curand-cu12==10.3.2.106 in /usr/local/lib/python3.10/dist-packages (from torch>=1.7.0->torch-audiomentations) (10.3.2.106)\n",
            "Requirement already satisfied: nvidia-cusolver-cu12==11.4.5.107 in /usr/local/lib/python3.10/dist-packages (from torch>=1.7.0->torch-audiomentations) (11.4.5.107)\n",
            "Requirement already satisfied: nvidia-cusparse-cu12==12.1.0.106 in /usr/local/lib/python3.10/dist-packages (from torch>=1.7.0->torch-audiomentations) (12.1.0.106)\n",
            "Requirement already satisfied: nvidia-nccl-cu12==2.20.5 in /usr/local/lib/python3.10/dist-packages (from torch>=1.7.0->torch-audiomentations) (2.20.5)\n",
            "Requirement already satisfied: nvidia-nvtx-cu12==12.1.105 in /usr/local/lib/python3.10/dist-packages (from torch>=1.7.0->torch-audiomentations) (12.1.105)\n",
            "Requirement already satisfied: triton==2.3.1 in /usr/local/lib/python3.10/dist-packages (from torch>=1.7.0->torch-audiomentations) (2.3.1)\n",
            "Requirement already satisfied: nvidia-nvjitlink-cu12 in /usr/local/lib/python3.10/dist-packages (from nvidia-cusolver-cu12==11.4.5.107->torch>=1.7.0->torch-audiomentations) (12.5.82)\n",
            "Requirement already satisfied: primePy>=1.3 in /usr/local/lib/python3.10/dist-packages (from torch-pitch-shift>=1.2.2->torch-audiomentations) (1.3)\n",
            "Requirement already satisfied: packaging>=21.3 in /usr/local/lib/python3.10/dist-packages (from torch-pitch-shift>=1.2.2->torch-audiomentations) (24.1)\n",
            "Requirement already satisfied: llvmlite<0.44,>=0.43.0dev0 in /usr/local/lib/python3.10/dist-packages (from numba>=0.51.0->librosa>=0.6.0->torch-audiomentations) (0.43.0)\n",
            "Requirement already satisfied: platformdirs>=2.5.0 in /usr/local/lib/python3.10/dist-packages (from pooch>=1.1->librosa>=0.6.0->torch-audiomentations) (4.2.2)\n",
            "Requirement already satisfied: requests>=2.19.0 in /usr/local/lib/python3.10/dist-packages (from pooch>=1.1->librosa>=0.6.0->torch-audiomentations) (2.31.0)\n",
            "Requirement already satisfied: threadpoolctl>=2.0.0 in /usr/local/lib/python3.10/dist-packages (from scikit-learn>=0.20.0->librosa>=0.6.0->torch-audiomentations) (3.5.0)\n",
            "Requirement already satisfied: cffi>=1.0 in /usr/local/lib/python3.10/dist-packages (from soundfile>=0.12.1->librosa>=0.6.0->torch-audiomentations) (1.16.0)\n",
            "Requirement already satisfied: MarkupSafe>=2.0 in /usr/local/lib/python3.10/dist-packages (from jinja2->torch>=1.7.0->torch-audiomentations) (2.1.5)\n",
            "Requirement already satisfied: mpmath<1.4,>=1.1.0 in /usr/local/lib/python3.10/dist-packages (from sympy->torch>=1.7.0->torch-audiomentations) (1.3.0)\n",
            "Requirement already satisfied: pycparser in /usr/local/lib/python3.10/dist-packages (from cffi>=1.0->soundfile>=0.12.1->librosa>=0.6.0->torch-audiomentations) (2.22)\n",
            "Requirement already satisfied: charset-normalizer<4,>=2 in /usr/local/lib/python3.10/dist-packages (from requests>=2.19.0->pooch>=1.1->librosa>=0.6.0->torch-audiomentations) (3.3.2)\n",
            "Requirement already satisfied: idna<4,>=2.5 in /usr/local/lib/python3.10/dist-packages (from requests>=2.19.0->pooch>=1.1->librosa>=0.6.0->torch-audiomentations) (3.7)\n",
            "Requirement already satisfied: urllib3<3,>=1.21.1 in /usr/local/lib/python3.10/dist-packages (from requests>=2.19.0->pooch>=1.1->librosa>=0.6.0->torch-audiomentations) (2.0.7)\n",
            "Requirement already satisfied: certifi>=2017.4.17 in /usr/local/lib/python3.10/dist-packages (from requests>=2.19.0->pooch>=1.1->librosa>=0.6.0->torch-audiomentations) (2024.7.4)\n",
            "Requirement already satisfied: torchinfo in /usr/local/lib/python3.10/dist-packages (1.8.0)\n",
            "Requirement already satisfied: pytorch-metric-learning in /usr/local/lib/python3.10/dist-packages (2.6.0)\n",
            "Requirement already satisfied: numpy<2.0 in /usr/local/lib/python3.10/dist-packages (from pytorch-metric-learning) (1.25.2)\n",
            "Requirement already satisfied: scikit-learn in /usr/local/lib/python3.10/dist-packages (from pytorch-metric-learning) (1.3.2)\n",
            "Requirement already satisfied: torch>=1.6.0 in /usr/local/lib/python3.10/dist-packages (from pytorch-metric-learning) (2.3.1+cu121)\n",
            "Requirement already satisfied: tqdm in /usr/local/lib/python3.10/dist-packages (from pytorch-metric-learning) (4.66.4)\n",
            "Requirement already satisfied: filelock in /usr/local/lib/python3.10/dist-packages (from torch>=1.6.0->pytorch-metric-learning) (3.15.4)\n",
            "Requirement already satisfied: typing-extensions>=4.8.0 in /usr/local/lib/python3.10/dist-packages (from torch>=1.6.0->pytorch-metric-learning) (4.12.2)\n",
            "Requirement already satisfied: sympy in /usr/local/lib/python3.10/dist-packages (from torch>=1.6.0->pytorch-metric-learning) (1.13.1)\n",
            "Requirement already satisfied: networkx in /usr/local/lib/python3.10/dist-packages (from torch>=1.6.0->pytorch-metric-learning) (3.3)\n",
            "Requirement already satisfied: jinja2 in /usr/local/lib/python3.10/dist-packages (from torch>=1.6.0->pytorch-metric-learning) (3.1.4)\n",
            "Requirement already satisfied: fsspec in /usr/local/lib/python3.10/dist-packages (from torch>=1.6.0->pytorch-metric-learning) (2024.6.1)\n",
            "Requirement already satisfied: nvidia-cuda-nvrtc-cu12==12.1.105 in /usr/local/lib/python3.10/dist-packages (from torch>=1.6.0->pytorch-metric-learning) (12.1.105)\n",
            "Requirement already satisfied: nvidia-cuda-runtime-cu12==12.1.105 in /usr/local/lib/python3.10/dist-packages (from torch>=1.6.0->pytorch-metric-learning) (12.1.105)\n",
            "Requirement already satisfied: nvidia-cuda-cupti-cu12==12.1.105 in /usr/local/lib/python3.10/dist-packages (from torch>=1.6.0->pytorch-metric-learning) (12.1.105)\n",
            "Requirement already satisfied: nvidia-cudnn-cu12==8.9.2.26 in /usr/local/lib/python3.10/dist-packages (from torch>=1.6.0->pytorch-metric-learning) (8.9.2.26)\n",
            "Requirement already satisfied: nvidia-cublas-cu12==12.1.3.1 in /usr/local/lib/python3.10/dist-packages (from torch>=1.6.0->pytorch-metric-learning) (12.1.3.1)\n",
            "Requirement already satisfied: nvidia-cufft-cu12==11.0.2.54 in /usr/local/lib/python3.10/dist-packages (from torch>=1.6.0->pytorch-metric-learning) (11.0.2.54)\n",
            "Requirement already satisfied: nvidia-curand-cu12==10.3.2.106 in /usr/local/lib/python3.10/dist-packages (from torch>=1.6.0->pytorch-metric-learning) (10.3.2.106)\n",
            "Requirement already satisfied: nvidia-cusolver-cu12==11.4.5.107 in /usr/local/lib/python3.10/dist-packages (from torch>=1.6.0->pytorch-metric-learning) (11.4.5.107)\n",
            "Requirement already satisfied: nvidia-cusparse-cu12==12.1.0.106 in /usr/local/lib/python3.10/dist-packages (from torch>=1.6.0->pytorch-metric-learning) (12.1.0.106)\n",
            "Requirement already satisfied: nvidia-nccl-cu12==2.20.5 in /usr/local/lib/python3.10/dist-packages (from torch>=1.6.0->pytorch-metric-learning) (2.20.5)\n",
            "Requirement already satisfied: nvidia-nvtx-cu12==12.1.105 in /usr/local/lib/python3.10/dist-packages (from torch>=1.6.0->pytorch-metric-learning) (12.1.105)\n",
            "Requirement already satisfied: triton==2.3.1 in /usr/local/lib/python3.10/dist-packages (from torch>=1.6.0->pytorch-metric-learning) (2.3.1)\n",
            "Requirement already satisfied: nvidia-nvjitlink-cu12 in /usr/local/lib/python3.10/dist-packages (from nvidia-cusolver-cu12==11.4.5.107->torch>=1.6.0->pytorch-metric-learning) (12.5.82)\n",
            "Requirement already satisfied: scipy>=1.5.0 in /usr/local/lib/python3.10/dist-packages (from scikit-learn->pytorch-metric-learning) (1.12.0)\n",
            "Requirement already satisfied: joblib>=1.1.1 in /usr/local/lib/python3.10/dist-packages (from scikit-learn->pytorch-metric-learning) (1.4.2)\n",
            "Requirement already satisfied: threadpoolctl>=2.0.0 in /usr/local/lib/python3.10/dist-packages (from scikit-learn->pytorch-metric-learning) (3.5.0)\n",
            "Requirement already satisfied: MarkupSafe>=2.0 in /usr/local/lib/python3.10/dist-packages (from jinja2->torch>=1.6.0->pytorch-metric-learning) (2.1.5)\n",
            "Requirement already satisfied: mpmath<1.4,>=1.1.0 in /usr/local/lib/python3.10/dist-packages (from sympy->torch>=1.6.0->pytorch-metric-learning) (1.3.0)\n",
            "Collecting faiss-cpu\n",
            "  Downloading faiss_cpu-1.8.0.post1-cp310-cp310-manylinux_2_17_x86_64.manylinux2014_x86_64.whl.metadata (3.7 kB)\n",
            "Requirement already satisfied: numpy<2.0,>=1.0 in /usr/local/lib/python3.10/dist-packages (from faiss-cpu) (1.25.2)\n",
            "Requirement already satisfied: packaging in /usr/local/lib/python3.10/dist-packages (from faiss-cpu) (24.1)\n",
            "Downloading faiss_cpu-1.8.0.post1-cp310-cp310-manylinux_2_17_x86_64.manylinux2014_x86_64.whl (27.0 MB)\n",
            "\u001b[2K   \u001b[90m━━━━━━━━━━━━━━━━━━━━━━━━━━━━━━━━━━━━━━━━\u001b[0m \u001b[32m27.0/27.0 MB\u001b[0m \u001b[31m81.5 MB/s\u001b[0m eta \u001b[36m0:00:00\u001b[0m\n",
            "\u001b[?25hInstalling collected packages: faiss-cpu\n",
            "Successfully installed faiss-cpu-1.8.0.post1\n",
            "Drive already mounted at /content/drive; to attempt to forcibly remount, call drive.mount(\"/content/drive\", force_remount=True).\n"
          ]
        }
      ],
      "source": [
        "import os\n",
        "import torch\n",
        "import random\n",
        "import math\n",
        "import h5py\n",
        "import torchaudio\n",
        "import logging\n",
        "import matplotlib.pyplot as plt\n",
        "import numpy as np\n",
        "import torch.nn as nn\n",
        "import torch.nn.functional as F\n",
        "import torchaudio.transforms as T\n",
        "import torch.optim as optim\n",
        "import seaborn as sns\n",
        "from cycler import cycler\n",
        "from sklearn.manifold import TSNE\n",
        "from sklearn.decomposition import PCA\n",
        "from torch.optim import lr_scheduler\n",
        "from google.colab import drive, runtime\n",
        "from tqdm import tqdm\n",
        "from torch.utils.data import BatchSampler, TensorDataset, DataLoader, Dataset, Subset\n",
        "from torchvision import models, transforms\n",
        "from torchvision.transforms import v2\n",
        "!pip install audiomentations\n",
        "!pip install torch-audiomentations\n",
        "!pip install torchinfo\n",
        "!pip install pytorch-metric-learning\n",
        "!pip install faiss-cpu\n",
        "import faiss\n",
        "import audiomentations as C\n",
        "import torch_audiomentations as G\n",
        "from pytorch_metric_learning import losses, miners, regularizers, samplers, distances, reducers, trainers, testers\n",
        "from pytorch_metric_learning.utils.accuracy_calculator import AccuracyCalculator\n",
        "from torchinfo import summary\n",
        "\n",
        "drive.mount('/content/drive')"
      ]
    },
    {
      "cell_type": "markdown",
      "metadata": {
        "id": "lrAl3KiDATum"
      },
      "source": [
        "# Data"
      ]
    },
    {
      "cell_type": "markdown",
      "metadata": {
        "id": "j-mIqsO2IHSi"
      },
      "source": [
        "Loading Data"
      ]
    },
    {
      "cell_type": "code",
      "execution_count": 2,
      "metadata": {
        "id": "DpPQXzhIl0tO"
      },
      "outputs": [],
      "source": [
        "with h5py.File('/content/drive/My Drive/Projects/NeuraBeat/Data/train_data.h5', 'r') as train_file:\n",
        "    train_data = np.array(train_file['data'])\n",
        "    train_labels = np.array(train_file['labels'])\n",
        "\n",
        "with h5py.File('/content/drive/My Drive/Projects/NeuraBeat/Data/val_data.h5', 'r') as val_file:\n",
        "    val_data = np.array(val_file['data'])\n",
        "    val_labels = np.array(val_file['labels'])\n",
        "\n",
        "with h5py.File('/content/drive/My Drive/Projects/NeuraBeat/Data/test_data.h5', 'r') as test_file:\n",
        "    test_data = np.array(test_file['data'])\n",
        "    test_labels = np.array(test_file['labels'])"
      ]
    },
    {
      "cell_type": "markdown",
      "source": [
        "Data Augmentation"
      ],
      "metadata": {
        "id": "58erhwFnGr0y"
      }
    },
    {
      "cell_type": "code",
      "source": [
        "class DataAugmentationCPU(nn.Module):\n",
        "    def __init__(self):\n",
        "        super(DataAugmentationCPU, self).__init__()\n",
        "        self.transforms = C.Compose([\n",
        "            C.AddGaussianNoise(min_amplitude=0.001, max_amplitude=0.015, p=0.5),\n",
        "            C.TimeStretch(min_rate=0.8, max_rate=1.25, p=0.5),\n",
        "            C.PitchShift(min_semitones=-4, max_semitones=4, p=0.5),\n",
        "        ])\n",
        "\n",
        "    def forward(self, song, sample_rate):\n",
        "        augmented_song = self.transforms(song, sample_rate=sample_rate)\n",
        "        return augmented_song"
      ],
      "metadata": {
        "id": "1Guq_6-nUckv"
      },
      "execution_count": 3,
      "outputs": []
    },
    {
      "cell_type": "markdown",
      "metadata": {
        "id": "e4vv4yfYLlWP"
      },
      "source": [
        "Create Dataset"
      ]
    },
    {
      "cell_type": "code",
      "execution_count": 4,
      "metadata": {
        "id": "mE2oqAvE3VYt"
      },
      "outputs": [],
      "source": [
        "class AudioDataset(Dataset):\n",
        "    def __init__(self, input_data, input_labels, sample_rate=16000, n_mels=128, mean=6.5304, std=11.8924, transform=None):\n",
        "        self.input_data = input_data\n",
        "        self.input_labels = input_labels\n",
        "        self.sr = sample_rate\n",
        "        self.n_mels = n_mels\n",
        "        self.mean = mean\n",
        "        self.std = std\n",
        "        self.transform = transform\n",
        "        self.mel_spec_transform = T.MelSpectrogram(sample_rate=self.sr, n_mels=self.n_mels, n_fft=2048, hop_length=512)\n",
        "        self.log_mel_spec_transform = T.AmplitudeToDB()\n",
        "        self.image_transforms = transform = v2.Compose([\n",
        "                                                        v2.Resize((64, 47)),\n",
        "                                                        v2.Compose([v2.ToImage(), v2.ToDtype(torch.float32, scale=True)]),\n",
        "                                                        v2.Normalize((self.mean,), (self.std,))\n",
        "                                                    ])\n",
        "\n",
        "    def __len__(self):\n",
        "        return len(self.input_data)\n",
        "\n",
        "    def __getitem__(self, idx):\n",
        "        song = self.input_data[idx]\n",
        "        genre = self.input_labels[idx]\n",
        "        if self.transform:\n",
        "            song = self.transform(song, self.sr)\n",
        "\n",
        "        mel_spec = self.mel_spec_transform(torch.from_numpy(song))\n",
        "        log_mel_spec = self.log_mel_spec_transform(mel_spec)\n",
        "        mel_spec_tensor = log_mel_spec.unsqueeze(0)\n",
        "        mel_spec_tensor = self.image_transforms(mel_spec_tensor)\n",
        "\n",
        "        return mel_spec_tensor, genre\n",
        "\n",
        "batch_size = 960\n",
        "\n",
        "audio_train_dataset = AudioDataset(input_data=train_data, input_labels=train_labels, transform=None)\n",
        "audio_val_dataset = AudioDataset(input_data=val_data, input_labels=val_labels, transform=None)\n",
        "audio_test_dataset = AudioDataset(input_data=test_data, input_labels=test_labels, transform=None)\n",
        "\n",
        "train_batch_sampler = samplers.MPerClassSampler(labels=audio_train_dataset.input_labels, m=120, batch_size=batch_size)\n",
        "val_batch_sampler = samplers.MPerClassSampler(labels=audio_val_dataset.input_labels, m=120, batch_size=batch_size)\n",
        "test_batch_sampler = samplers.MPerClassSampler(labels=audio_test_dataset.input_labels, m=120, batch_size=batch_size)\n",
        "\n",
        "audio_train_loader = DataLoader(audio_train_dataset, batch_size=batch_size, sampler=train_batch_sampler, pin_memory=True)\n",
        "audio_val_loader = DataLoader(audio_val_dataset, batch_size=batch_size, sampler=val_batch_sampler, pin_memory=True)\n",
        "audio_test_loader = DataLoader(audio_test_dataset, batch_size=batch_size, sampler=test_batch_sampler, pin_memory=True)"
      ]
    },
    {
      "cell_type": "markdown",
      "source": [
        "Dataset Mean/Std"
      ],
      "metadata": {
        "id": "RzmT-7IVcXG1"
      }
    },
    {
      "cell_type": "code",
      "source": [
        "# From: https://stackoverflow.com/questions/60101240/finding-mean-and-standard-deviation-across-image-channels-pytorch\n",
        "def dataset_mean_std(data_loader):\n",
        "  nimages = 0\n",
        "  mean = 0.\n",
        "  std = 0.\n",
        "  for batch, _ in data_loader:\n",
        "      # Rearrange batch to be the shape of [B, C, W * H]\n",
        "      batch = batch.view(batch.size(0), batch.size(1), -1)\n",
        "      # Update total number of images\n",
        "      nimages += batch.size(0)\n",
        "      # Compute mean and std here\n",
        "      mean += batch.float().mean(2).sum(0)\n",
        "      std += batch.float().std(2).sum(0)\n",
        "\n",
        "  # Final step\n",
        "  mean /= nimages\n",
        "  std /= nimages\n",
        "\n",
        "  print(\"Training set mean\", mean)\n",
        "  print(\"Training set std\", std)\n",
        "\n",
        "  return mean, std"
      ],
      "metadata": {
        "id": "SAhb0BTj4ovl"
      },
      "execution_count": 5,
      "outputs": []
    },
    {
      "cell_type": "markdown",
      "metadata": {
        "id": "UbE0ZJlSAbkL"
      },
      "source": [
        "# Model"
      ]
    },
    {
      "cell_type": "markdown",
      "metadata": {
        "id": "CbUesLLxhQ4E"
      },
      "source": [
        "Print Layer (debugging)"
      ]
    },
    {
      "cell_type": "code",
      "execution_count": 6,
      "metadata": {
        "id": "nWc2Rmz9hQNh"
      },
      "outputs": [],
      "source": [
        "class PrintLayer(nn.Module):\n",
        "    def __init__(self):\n",
        "        super(PrintLayer, self).__init__()\n",
        "\n",
        "    def forward(self, x):\n",
        "        # Do your print / debug stuff here\n",
        "        print(\"X shape:\", x.shape)\n",
        "        return x\n"
      ]
    },
    {
      "cell_type": "markdown",
      "source": [
        "Positional Encoding"
      ],
      "metadata": {
        "id": "0b8PGs4MY0lZ"
      }
    },
    {
      "cell_type": "code",
      "source": [
        "# From: https://github.com/wzlxjtu/PositionalEncoding2D\n",
        "class PositionalEncoding2d(nn.Module):\n",
        "    def __init__(self, d_model, height, width):\n",
        "        super(PositionalEncoding2d, self).__init__()\n",
        "        if d_model % 4 != 0:\n",
        "            raise ValueError(\"Cannot use sin/cos positional encoding with \"\n",
        "                            \"odd dimension (got dim={:d})\".format(d_model))\n",
        "        pe = torch.zeros(d_model, height, width)\n",
        "        # Each dimension use half of d_model\n",
        "        d_model = int(d_model / 2)\n",
        "        div_term = torch.exp(torch.arange(0., d_model, 2) *\n",
        "                            -(math.log(10000.0) / d_model))\n",
        "        pos_w = torch.arange(0., width).unsqueeze(1)\n",
        "        pos_h = torch.arange(0., height).unsqueeze(1)\n",
        "        pe[0:d_model:2, :, :] = torch.sin(pos_w * div_term).transpose(0, 1).unsqueeze(1).repeat(1, height, 1)\n",
        "        pe[1:d_model:2, :, :] = torch.cos(pos_w * div_term).transpose(0, 1).unsqueeze(1).repeat(1, height, 1)\n",
        "        pe[d_model::2, :, :] = torch.sin(pos_h * div_term).transpose(0, 1).unsqueeze(2).repeat(1, 1, width)\n",
        "        pe[d_model + 1::2, :, :] = torch.cos(pos_h * div_term).transpose(0, 1).unsqueeze(2).repeat(1, 1, width)\n",
        "        self.register_buffer('pe', pe)\n",
        "\n",
        "    def forward(self, x):\n",
        "        return x + self.pe"
      ],
      "metadata": {
        "id": "Pvo_HoTlYzod"
      },
      "execution_count": 7,
      "outputs": []
    },
    {
      "cell_type": "markdown",
      "source": [
        "Separable Convolution 2D Layer"
      ],
      "metadata": {
        "id": "iq58xQoFurNG"
      }
    },
    {
      "cell_type": "code",
      "source": [
        "# Inspired by: https://github.com/reshalfahsi/separableconv-torch\n",
        "class SeparableConv2d(nn.Module):\n",
        "    def __init__(self, in_channels, out_channels, kernel_size, stride=1, padding=1, bias=False):\n",
        "        super(SeparableConv2d, self).__init__()\n",
        "        self.depthwise = nn.Conv2d(in_channels, in_channels, kernel_size=kernel_size, stride=stride, padding=padding, groups=in_channels, bias=bias)\n",
        "        self.pointwise = nn.Conv2d(in_channels, out_channels, kernel_size=1, bias=bias)\n",
        "\n",
        "    def forward(self, x):\n",
        "        x = self.depthwise(x)\n",
        "        x = self.pointwise(x)\n",
        "        return x"
      ],
      "metadata": {
        "id": "AzNfP3uMuuA5"
      },
      "execution_count": 8,
      "outputs": []
    },
    {
      "cell_type": "markdown",
      "source": [
        "Residual Block"
      ],
      "metadata": {
        "id": "H-nLapjftrVW"
      }
    },
    {
      "cell_type": "code",
      "source": [
        "class ResidualBlock(nn.Module):\n",
        "    def __init__(self, in_channels: int, out_channels: int, kernel_size: int, stride: int, num_layers: int):\n",
        "        super().__init__()\n",
        "        assert num_layers >= 2, \"num_layers must be at least 2\"\n",
        "        self.in_channels = in_channels\n",
        "        self.out_channels = out_channels\n",
        "        self.kernel_size = kernel_size\n",
        "\n",
        "        self.inconv = nn.Sequential(\n",
        "            SeparableConv2d(in_channels=in_channels, out_channels=out_channels, kernel_size=kernel_size, bias=False),\n",
        "            nn.SELU()\n",
        "        )\n",
        "\n",
        "        layers = []\n",
        "        for _ in range(num_layers - 2):\n",
        "            layers.append(SeparableConv2d(in_channels=out_channels, out_channels=out_channels, kernel_size=kernel_size, bias=False))\n",
        "            layers.append(nn.SELU())\n",
        "        self.convlayers = nn.Sequential(*layers)\n",
        "\n",
        "        self.out_conv = SeparableConv2d(in_channels=out_channels, out_channels=out_channels, kernel_size=kernel_size, stride=stride, bias=False)\n",
        "        self.shortcut = nn.Conv2d(in_channels, out_channels, kernel_size=1, stride=2, bias=False)\n",
        "        self.sact = nn.SELU()\n",
        "\n",
        "    def forward(self, x):\n",
        "        out = self.inconv(x)\n",
        "        out = self.convlayers(out)\n",
        "        out = self.out_conv(out)\n",
        "\n",
        "        shortcut = self.shortcut(x)\n",
        "        out = out + shortcut\n",
        "        out = self.sact(out)\n",
        "\n",
        "        return out"
      ],
      "metadata": {
        "id": "s3f_RdYZtqoS"
      },
      "execution_count": 9,
      "outputs": []
    },
    {
      "cell_type": "markdown",
      "metadata": {
        "id": "SN5LxjCdKani"
      },
      "source": [
        "Embedding Model"
      ]
    },
    {
      "cell_type": "code",
      "execution_count": 10,
      "metadata": {
        "id": "6TKXXLVXfxHo"
      },
      "outputs": [],
      "source": [
        "class EmbeddingModel(nn.Module):\n",
        "    def __init__(self):\n",
        "      super(EmbeddingModel, self).__init__()\n",
        "      self.input_layer = nn.Sequential(\n",
        "          nn.Conv2d(in_channels=1, out_channels=8, kernel_size=5, bias=False),\n",
        "          nn.SELU(),\n",
        "      )\n",
        "\n",
        "      self.conv_layers = nn.Sequential(\n",
        "          ResidualBlock(in_channels=8, out_channels=8, kernel_size=3, stride=2, num_layers=2),\n",
        "          ResidualBlock(in_channels=8, out_channels=16, kernel_size=3, stride=2, num_layers=2),\n",
        "          ResidualBlock(in_channels=16, out_channels=32, kernel_size=3, stride=2, num_layers=2),\n",
        "          ResidualBlock(in_channels=32, out_channels=64, kernel_size=3, stride=2, num_layers=2),\n",
        "      )\n",
        "\n",
        "      self.dense_layers = nn.Sequential(\n",
        "          nn.Linear(in_features=64, out_features=256, bias=False),\n",
        "          nn.SELU(),\n",
        "          nn.Linear(in_features=256, out_features=128, bias=False),\n",
        "          nn.SELU(),\n",
        "          nn.Linear(in_features=128, out_features=64)\n",
        "      )\n",
        "\n",
        "    def forward(self, x):\n",
        "      x = self.input_layer(x)\n",
        "      x = self.conv_layers(x)\n",
        "      x = torch.mean(x.view(x.size(0), x.size(1), -1), dim=2)\n",
        "      x = self.dense_layers(x)\n",
        "      return x\n",
        "\n",
        "    def get_embedding(self, x):\n",
        "      return self.forward(x)"
      ]
    },
    {
      "cell_type": "markdown",
      "metadata": {
        "id": "HvwY-DtHAgIk"
      },
      "source": [
        "# Utils"
      ]
    },
    {
      "cell_type": "markdown",
      "metadata": {
        "id": "ZQdZH7di-4FI"
      },
      "source": [
        "Early Stopping"
      ]
    },
    {
      "cell_type": "code",
      "execution_count": 11,
      "metadata": {
        "id": "yHfW_2Qv-4-8"
      },
      "outputs": [],
      "source": [
        "class EarlyStopping:\n",
        "    def __init__(self, patience=3, min_delta=0):\n",
        "        self.patience = patience\n",
        "        self.min_delta = min_delta\n",
        "        self.counter = 0\n",
        "        self.min_validation_loss = float('inf')\n",
        "\n",
        "    def early_stop(self, validation_loss):\n",
        "        if validation_loss < self.min_validation_loss:\n",
        "            self.min_validation_loss = validation_loss\n",
        "            self.counter = 0\n",
        "        elif validation_loss > (self.min_validation_loss + self.min_delta):\n",
        "            self.counter += 1\n",
        "            if self.counter >= self.patience:\n",
        "                return True\n",
        "        return False\n",
        "\n",
        "    def reset_loss(self):\n",
        "        self.min_validation_loss = float('inf')"
      ]
    },
    {
      "cell_type": "markdown",
      "metadata": {
        "id": "gQ9LNzJpANwb"
      },
      "source": [
        "Autoclip"
      ]
    },
    {
      "cell_type": "code",
      "execution_count": 12,
      "metadata": {
        "id": "dq9wL52aANCt"
      },
      "outputs": [],
      "source": [
        "# From: https://github.com/pseeth/autoclip/blob/master/autoclip.py\n",
        "class AutoClip:\n",
        "    def __init__(self, percentile):\n",
        "        self.grad_history = []\n",
        "        self.percentile = percentile\n",
        "\n",
        "    def compute_grad_norm(self, model):\n",
        "        total_norm = 0\n",
        "        for p in model.parameters():\n",
        "            if p.grad is not None:\n",
        "                param_norm = p.grad.data.norm(2)\n",
        "                total_norm += param_norm.item() ** 2\n",
        "        total_norm = total_norm ** (1. / 2)\n",
        "\n",
        "        return total_norm\n",
        "\n",
        "    def __call__(self, model):\n",
        "        grad_norm = self.compute_grad_norm(model)\n",
        "        self.grad_history.append(grad_norm)\n",
        "        clip_value = np.percentile(self.grad_history, self.percentile)\n",
        "        torch.nn.utils.clip_grad_norm_(model.parameters(), clip_value)"
      ]
    },
    {
      "cell_type": "markdown",
      "source": [
        "Model Checkpoint"
      ],
      "metadata": {
        "id": "mGs_42BZ5aK9"
      }
    },
    {
      "cell_type": "code",
      "source": [
        "def save_checkpoint(model, optimizer, scheduler, epoch, train_losses, val_losses, train_mined_triplets, val_mined_triplets):\n",
        "  checkpoint = {\n",
        "          'epoch': epoch,\n",
        "          'model_state_dict': model.state_dict(),\n",
        "          'optimizer_state_dict': optimizer.state_dict(),\n",
        "          'scheduler_state_dict': scheduler.state_dict(),\n",
        "          'train_losses': train_losses,\n",
        "          'val_losses': val_losses,\n",
        "          'train_mined_triplets': train_mined_triplets,\n",
        "          'val_mined_triplets': val_mined_triplets\n",
        "      }\n",
        "  torch.save(checkpoint, f'/content/drive/My Drive/Projects/NeuraBeat/Checkpoints/model_checkpoint_{epoch}.pt')\n",
        "  torch.save(model.state_dict(), f'/content/drive/My Drive/Projects/NeuraBeat/Models/embedding_model_{epoch}.pt')\n",
        "\n",
        "def load_checkpoint(filepath, model, optimizer, scheduler):\n",
        "    checkpoint = torch.load(filepath)\n",
        "    model.load_state_dict(checkpoint['model_state_dict'])\n",
        "    optimizer.load_state_dict(checkpoint['optimizer_state_dict'])\n",
        "    scheduler.load_state_dict(checkpoint['scheduler_state_dict'])\n",
        "    start_epoch = checkpoint['epoch']\n",
        "    train_losses = checkpoint['train_losses']\n",
        "    val_losses = checkpoint['val_losses']\n",
        "    train_mined_triplets = checkpoint['train_mined_triplets']\n",
        "    val_mined_triplets = checkpoint['val_mined_triplets']\n",
        "    return model, optimizer, scheduler, start_epoch, train_losses, val_losses, train_mined_triplets, val_mined_triplets"
      ],
      "metadata": {
        "id": "PV_ZfM_E5bhQ"
      },
      "execution_count": 13,
      "outputs": []
    },
    {
      "cell_type": "markdown",
      "metadata": {
        "id": "xkh_iRGFAkqF"
      },
      "source": [
        "# Training"
      ]
    },
    {
      "cell_type": "markdown",
      "source": [
        "Train Loop"
      ],
      "metadata": {
        "id": "YaQAA3WZHUJT"
      }
    },
    {
      "cell_type": "code",
      "source": [
        "def train_loop(train_loader, model, miner, criterion, optimizer, device, epoch):\n",
        "    size = len(train_loader.dataset)\n",
        "    model.train()\n",
        "    avg_train_loss = 0.0\n",
        "    avg_mined_triplets = 0.0\n",
        "    num_batches = len(train_loader)\n",
        "\n",
        "    for batch, (inputs, targets) in enumerate(tqdm(train_loader)):\n",
        "        optimizer.zero_grad()\n",
        "        inputs, targets = inputs.to(device), targets.to(device)\n",
        "        outputs = model(inputs)\n",
        "        triplets = miner(outputs, targets)\n",
        "\n",
        "        loss = criterion(outputs, targets, triplets)\n",
        "        avg_train_loss += loss.item()\n",
        "        avg_mined_triplets += miner.num_triplets\n",
        "        loss.backward()\n",
        "\n",
        "        autoclipper(model)\n",
        "        optimizer.step()\n",
        "\n",
        "        if (batch + 1) % 10 == 0:\n",
        "            current_loss = avg_train_loss / (batch + 1)\n",
        "            current_mined_triplets = avg_mined_triplets / (batch + 1)\n",
        "            print(f\"Training loss: {current_loss:>7f} - Train mined triplets: {current_mined_triplets:>7f}\")\n",
        "\n",
        "    avg_train_loss = avg_train_loss / num_batches\n",
        "    avg_mined_triplets = avg_mined_triplets / num_batches\n",
        "    return avg_train_loss, avg_mined_triplets"
      ],
      "metadata": {
        "id": "UprzATl9HVR7"
      },
      "execution_count": 14,
      "outputs": []
    },
    {
      "cell_type": "markdown",
      "source": [
        "Val Loop"
      ],
      "metadata": {
        "id": "7F47f28vHX1M"
      }
    },
    {
      "cell_type": "code",
      "source": [
        "def val_loop(val_loader, model, miner, criterion, device, epoch):\n",
        "    model.eval()\n",
        "    avg_val_loss = 0.0\n",
        "    avg_mined_triplets = 0.0\n",
        "    num_batches = len(val_loader)\n",
        "\n",
        "    with torch.no_grad():\n",
        "        for inputs, targets in val_loader:\n",
        "            inputs, targets = inputs.to(device), targets.to(device)\n",
        "            outputs = model(inputs)\n",
        "            triplets = miner(outputs, targets)\n",
        "\n",
        "            loss = criterion(outputs, targets, triplets)\n",
        "            avg_val_loss += loss.item()\n",
        "            avg_mined_triplets += miner.num_triplets\n",
        "\n",
        "\n",
        "    avg_val_loss = avg_val_loss / num_batches\n",
        "    avg_mined_triplets = avg_mined_triplets / num_batches\n",
        "    return avg_val_loss, avg_mined_triplets"
      ],
      "metadata": {
        "id": "T4VKygIsHYsb"
      },
      "execution_count": 15,
      "outputs": []
    },
    {
      "cell_type": "markdown",
      "source": [
        "Training"
      ],
      "metadata": {
        "id": "kDraQLgpHoGu"
      }
    },
    {
      "cell_type": "code",
      "source": [
        "device = torch.device('cuda:0' if torch.cuda.is_available() else 'cpu')\n",
        "embedding_model = EmbeddingModel().to(device)\n",
        "start_epoch = 0\n",
        "num_epochs = 30\n",
        "learning_rate = 0.001\n",
        "margin = 0.2\n",
        "loss_fn = losses.TripletMarginLoss(margin=margin, distance=distances.LpDistance(),\n",
        "                                     embedding_regularizer=regularizers.LpRegularizer())\n",
        "miner = miners.TripletMarginMiner(margin=margin, type_of_triplets=\"semihard\")\n",
        "optimizer = optim.AdamW(embedding_model.parameters(), lr=learning_rate, weight_decay=0.01)\n",
        "scheduler = lr_scheduler.CosineAnnealingLR(optimizer=optimizer, T_max=num_epochs)\n",
        "autoclipper = AutoClip(percentile=10)\n",
        "\n",
        "train_losses = []\n",
        "val_losses = []\n",
        "train_mined_triplets = []\n",
        "val_mined_triplets = []\n",
        "\n",
        "print(summary(embedding_model, input_size=(batch_size, 1, 64, 47)))\n",
        "\n",
        "# checkpoint_path = '/content/drive/My Drive/Projects/NeuraBeat/Checkpoints/model_checkpoint_95.pt'\n",
        "# if os.path.isfile(checkpoint_path):\n",
        "#     embedding_model, optimizer, scheduler, start_epoch, train_losses, val_losses = load_checkpoint(checkpoint_path, embedding_model, optimizer, scheduler)\n",
        "#     print(f\"Loaded checkpoint from epoch {start_epoch}\")\n",
        "\n",
        "for epoch in range(start_epoch, num_epochs):\n",
        "    print(f\"Epoch {epoch+1}\\n-------------------------------\")\n",
        "    avg_train_loss, avg_train_mined_triplets = train_loop(audio_train_loader, embedding_model, miner, loss_fn, optimizer, device, epoch+1)\n",
        "    avg_val_loss, avg_val_mined_triplets = val_loop(audio_val_loader, embedding_model, miner, loss_fn, device, epoch+1)\n",
        "    print(f\"Train loss: {avg_train_loss:>8f} - Val loss: {avg_val_loss:>8f} \\n\")\n",
        "    print(f\"Train mined triplets: {avg_train_mined_triplets:>8f} - Val mined triplets: {avg_val_mined_triplets:>8f} \\n\")\n",
        "    train_losses.append(avg_train_loss)\n",
        "    val_losses.append(avg_val_loss)\n",
        "    train_mined_triplets.append(avg_train_mined_triplets)\n",
        "    val_mined_triplets.append(avg_val_mined_triplets)\n",
        "    print(\"Last learning rate:\", scheduler.get_last_lr())\n",
        "    scheduler.step()\n",
        "    save_checkpoint(embedding_model, optimizer, scheduler, epoch+1, train_losses, val_losses, train_mined_triplets, val_mined_triplets)"
      ],
      "metadata": {
        "id": "f0a5M3Ix1d5i",
        "colab": {
          "base_uri": "https://localhost:8080/"
        },
        "outputId": "df11b631-4ef1-4ba7-ae77-af37ee0414b7"
      },
      "execution_count": 17,
      "outputs": [
        {
          "metadata": {
            "tags": null
          },
          "name": "stdout",
          "output_type": "stream",
          "text": [
            "===============================================================================================\n",
            "Layer (type:depth-idx)                        Output Shape              Param #\n",
            "===============================================================================================\n",
            "EmbeddingModel                                [960, 64]                 --\n",
            "├─Sequential: 1-1                             [960, 8, 60, 43]          --\n",
            "│    └─Conv2d: 2-1                            [960, 8, 60, 43]          200\n",
            "│    └─SELU: 2-2                              [960, 8, 60, 43]          --\n",
            "├─Sequential: 1-2                             [960, 64, 4, 3]           --\n",
            "│    └─ResidualBlock: 2-3                     [960, 8, 30, 22]          --\n",
            "│    │    └─Sequential: 3-1                   [960, 8, 60, 43]          136\n",
            "│    │    └─Sequential: 3-2                   [960, 8, 60, 43]          --\n",
            "│    │    └─SeparableConv2d: 3-3              [960, 8, 30, 22]          136\n",
            "│    │    └─Conv2d: 3-4                       [960, 8, 30, 22]          64\n",
            "│    │    └─SELU: 3-5                         [960, 8, 30, 22]          --\n",
            "│    └─ResidualBlock: 2-4                     [960, 16, 15, 11]         --\n",
            "│    │    └─Sequential: 3-6                   [960, 16, 30, 22]         200\n",
            "│    │    └─Sequential: 3-7                   [960, 16, 30, 22]         --\n",
            "│    │    └─SeparableConv2d: 3-8              [960, 16, 15, 11]         400\n",
            "│    │    └─Conv2d: 3-9                       [960, 16, 15, 11]         128\n",
            "│    │    └─SELU: 3-10                        [960, 16, 15, 11]         --\n",
            "│    └─ResidualBlock: 2-5                     [960, 32, 8, 6]           --\n",
            "│    │    └─Sequential: 3-11                  [960, 32, 15, 11]         656\n",
            "│    │    └─Sequential: 3-12                  [960, 32, 15, 11]         --\n",
            "│    │    └─SeparableConv2d: 3-13             [960, 32, 8, 6]           1,312\n",
            "│    │    └─Conv2d: 3-14                      [960, 32, 8, 6]           512\n",
            "│    │    └─SELU: 3-15                        [960, 32, 8, 6]           --\n",
            "│    └─ResidualBlock: 2-6                     [960, 64, 4, 3]           --\n",
            "│    │    └─Sequential: 3-16                  [960, 64, 8, 6]           2,336\n",
            "│    │    └─Sequential: 3-17                  [960, 64, 8, 6]           --\n",
            "│    │    └─SeparableConv2d: 3-18             [960, 64, 4, 3]           4,672\n",
            "│    │    └─Conv2d: 3-19                      [960, 64, 4, 3]           2,048\n",
            "│    │    └─SELU: 3-20                        [960, 64, 4, 3]           --\n",
            "├─Sequential: 1-3                             [960, 64]                 --\n",
            "│    └─Linear: 2-7                            [960, 256]                16,384\n",
            "│    └─SELU: 2-8                              [960, 256]                --\n",
            "│    └─Linear: 2-9                            [960, 128]                32,768\n",
            "│    └─SELU: 2-10                             [960, 128]                --\n",
            "│    └─Linear: 2-11                           [960, 64]                 8,256\n",
            "===============================================================================================\n",
            "Total params: 70,208\n",
            "Trainable params: 70,208\n",
            "Non-trainable params: 0\n",
            "Total mult-adds (G): 1.60\n",
            "===============================================================================================\n",
            "Input size (MB): 11.55\n",
            "Forward/backward pass size (MB): 932.41\n",
            "Params size (MB): 0.28\n",
            "Estimated Total Size (MB): 944.25\n",
            "===============================================================================================\n",
            "Epoch 1\n",
            "-------------------------------\n"
          ]
        },
        {
          "metadata": {
            "tags": null
          },
          "name": "stderr",
          "output_type": "stream",
          "text": [
            " 10%|▉         | 10/104 [00:16<02:28,  1.58s/it]"
          ]
        },
        {
          "metadata": {
            "tags": null
          },
          "name": "stdout",
          "output_type": "stream",
          "text": [
            "Training loss: 0.394211 - Train mined triplets: 16143567.000000\n"
          ]
        },
        {
          "metadata": {
            "tags": null
          },
          "name": "stderr",
          "output_type": "stream",
          "text": [
            " 19%|█▉        | 20/104 [00:32<02:16,  1.63s/it]"
          ]
        },
        {
          "metadata": {
            "tags": null
          },
          "name": "stdout",
          "output_type": "stream",
          "text": [
            "Training loss: 0.306031 - Train mined triplets: 15314206.250000\n"
          ]
        },
        {
          "metadata": {
            "tags": null
          },
          "name": "stderr",
          "output_type": "stream",
          "text": [
            " 29%|██▉       | 30/104 [00:48<01:57,  1.59s/it]"
          ]
        },
        {
          "metadata": {
            "tags": null
          },
          "name": "stdout",
          "output_type": "stream",
          "text": [
            "Training loss: 0.268455 - Train mined triplets: 14772548.200000\n"
          ]
        },
        {
          "metadata": {
            "tags": null
          },
          "name": "stderr",
          "output_type": "stream",
          "text": [
            " 38%|███▊      | 40/104 [01:03<01:40,  1.56s/it]"
          ]
        },
        {
          "metadata": {
            "tags": null
          },
          "name": "stdout",
          "output_type": "stream",
          "text": [
            "Training loss: 0.246378 - Train mined triplets: 14324401.250000\n"
          ]
        },
        {
          "metadata": {
            "tags": null
          },
          "name": "stderr",
          "output_type": "stream",
          "text": [
            " 48%|████▊     | 50/104 [01:19<01:22,  1.53s/it]"
          ]
        },
        {
          "metadata": {
            "tags": null
          },
          "name": "stdout",
          "output_type": "stream",
          "text": [
            "Training loss: 0.232144 - Train mined triplets: 14031923.160000\n"
          ]
        },
        {
          "metadata": {
            "tags": null
          },
          "name": "stderr",
          "output_type": "stream",
          "text": [
            " 58%|█████▊    | 60/104 [01:35<01:08,  1.57s/it]"
          ]
        },
        {
          "metadata": {
            "tags": null
          },
          "name": "stdout",
          "output_type": "stream",
          "text": [
            "Training loss: 0.221623 - Train mined triplets: 13798694.616667\n"
          ]
        },
        {
          "metadata": {
            "tags": null
          },
          "name": "stderr",
          "output_type": "stream",
          "text": [
            " 67%|██████▋   | 70/104 [01:51<00:54,  1.62s/it]"
          ]
        },
        {
          "metadata": {
            "tags": null
          },
          "name": "stdout",
          "output_type": "stream",
          "text": [
            "Training loss: 0.212937 - Train mined triplets: 13672870.714286\n"
          ]
        },
        {
          "metadata": {
            "tags": null
          },
          "name": "stderr",
          "output_type": "stream",
          "text": [
            " 77%|███████▋  | 80/104 [02:06<00:37,  1.58s/it]"
          ]
        },
        {
          "metadata": {
            "tags": null
          },
          "name": "stdout",
          "output_type": "stream",
          "text": [
            "Training loss: 0.206135 - Train mined triplets: 13541662.800000\n"
          ]
        },
        {
          "metadata": {
            "tags": null
          },
          "name": "stderr",
          "output_type": "stream",
          "text": [
            " 87%|████████▋ | 90/104 [02:22<00:21,  1.54s/it]"
          ]
        },
        {
          "metadata": {
            "tags": null
          },
          "name": "stdout",
          "output_type": "stream",
          "text": [
            "Training loss: 0.200825 - Train mined triplets: 13467137.400000\n"
          ]
        },
        {
          "metadata": {
            "tags": null
          },
          "name": "stderr",
          "output_type": "stream",
          "text": [
            " 96%|█████████▌| 100/104 [02:38<00:06,  1.55s/it]"
          ]
        },
        {
          "metadata": {
            "tags": null
          },
          "name": "stdout",
          "output_type": "stream",
          "text": [
            "Training loss: 0.196510 - Train mined triplets: 13370892.390000\n"
          ]
        },
        {
          "metadata": {
            "tags": null
          },
          "name": "stderr",
          "output_type": "stream",
          "text": [
            "100%|██████████| 104/104 [02:45<00:00,  1.59s/it]\n"
          ]
        },
        {
          "metadata": {
            "tags": null
          },
          "name": "stdout",
          "output_type": "stream",
          "text": [
            "Train loss: 0.195023 - Val loss: 0.159813 \n",
            "\n",
            "Train mined triplets: 13334000.894231 - Val mined triplets: 12046744.634615 \n",
            "\n",
            "Last learning rate: [0.001]\n",
            "Epoch 2\n",
            "-------------------------------\n"
          ]
        },
        {
          "metadata": {
            "tags": null
          },
          "name": "stderr",
          "output_type": "stream",
          "text": [
            " 10%|▉         | 10/104 [00:15<02:29,  1.59s/it]"
          ]
        },
        {
          "metadata": {
            "tags": null
          },
          "name": "stdout",
          "output_type": "stream",
          "text": [
            "Training loss: 0.153336 - Train mined triplets: 12497936.100000\n"
          ]
        },
        {
          "metadata": {
            "tags": null
          },
          "name": "stderr",
          "output_type": "stream",
          "text": [
            " 19%|█▉        | 20/104 [00:31<02:08,  1.53s/it]"
          ]
        },
        {
          "metadata": {
            "tags": null
          },
          "name": "stdout",
          "output_type": "stream",
          "text": [
            "Training loss: 0.152606 - Train mined triplets: 12356131.950000\n"
          ]
        },
        {
          "metadata": {
            "tags": null
          },
          "name": "stderr",
          "output_type": "stream",
          "text": [
            " 29%|██▉       | 30/104 [00:47<01:52,  1.53s/it]"
          ]
        },
        {
          "metadata": {
            "tags": null
          },
          "name": "stdout",
          "output_type": "stream",
          "text": [
            "Training loss: 0.151601 - Train mined triplets: 12399569.533333\n"
          ]
        },
        {
          "metadata": {
            "tags": null
          },
          "name": "stderr",
          "output_type": "stream",
          "text": [
            " 38%|███▊      | 40/104 [01:02<01:43,  1.62s/it]"
          ]
        },
        {
          "metadata": {
            "tags": null
          },
          "name": "stdout",
          "output_type": "stream",
          "text": [
            "Training loss: 0.152400 - Train mined triplets: 12369118.325000\n"
          ]
        },
        {
          "metadata": {
            "tags": null
          },
          "name": "stderr",
          "output_type": "stream",
          "text": [
            " 48%|████▊     | 50/104 [01:18<01:26,  1.60s/it]"
          ]
        },
        {
          "metadata": {
            "tags": null
          },
          "name": "stdout",
          "output_type": "stream",
          "text": [
            "Training loss: 0.152340 - Train mined triplets: 12349180.040000\n"
          ]
        },
        {
          "metadata": {
            "tags": null
          },
          "name": "stderr",
          "output_type": "stream",
          "text": [
            " 58%|█████▊    | 60/104 [01:34<01:07,  1.54s/it]"
          ]
        },
        {
          "metadata": {
            "tags": null
          },
          "name": "stdout",
          "output_type": "stream",
          "text": [
            "Training loss: 0.152032 - Train mined triplets: 12308079.416667\n"
          ]
        },
        {
          "metadata": {
            "tags": null
          },
          "name": "stderr",
          "output_type": "stream",
          "text": [
            " 67%|██████▋   | 70/104 [01:49<00:52,  1.53s/it]"
          ]
        },
        {
          "metadata": {
            "tags": null
          },
          "name": "stdout",
          "output_type": "stream",
          "text": [
            "Training loss: 0.151514 - Train mined triplets: 12255263.871429\n"
          ]
        },
        {
          "metadata": {
            "tags": null
          },
          "name": "stderr",
          "output_type": "stream",
          "text": [
            " 77%|███████▋  | 80/104 [02:05<00:37,  1.55s/it]"
          ]
        },
        {
          "metadata": {
            "tags": null
          },
          "name": "stdout",
          "output_type": "stream",
          "text": [
            "Training loss: 0.150974 - Train mined triplets: 12219086.625000\n"
          ]
        },
        {
          "metadata": {
            "tags": null
          },
          "name": "stderr",
          "output_type": "stream",
          "text": [
            " 87%|████████▋ | 90/104 [02:21<00:22,  1.60s/it]"
          ]
        },
        {
          "metadata": {
            "tags": null
          },
          "name": "stdout",
          "output_type": "stream",
          "text": [
            "Training loss: 0.150684 - Train mined triplets: 12227651.622222\n"
          ]
        },
        {
          "metadata": {
            "tags": null
          },
          "name": "stderr",
          "output_type": "stream",
          "text": [
            " 96%|█████████▌| 100/104 [02:36<00:06,  1.58s/it]"
          ]
        },
        {
          "metadata": {
            "tags": null
          },
          "name": "stdout",
          "output_type": "stream",
          "text": [
            "Training loss: 0.150525 - Train mined triplets: 12196025.590000\n"
          ]
        },
        {
          "metadata": {
            "tags": null
          },
          "name": "stderr",
          "output_type": "stream",
          "text": [
            "100%|██████████| 104/104 [02:42<00:00,  1.57s/it]\n"
          ]
        },
        {
          "metadata": {
            "tags": null
          },
          "name": "stdout",
          "output_type": "stream",
          "text": [
            "Train loss: 0.150427 - Val loss: 0.144475 \n",
            "\n",
            "Train mined triplets: 12165389.221154 - Val mined triplets: 11758704.000000 \n",
            "\n",
            "Last learning rate: [0.0009972609476841367]\n",
            "Epoch 3\n",
            "-------------------------------\n"
          ]
        },
        {
          "metadata": {
            "tags": null
          },
          "name": "stderr",
          "output_type": "stream",
          "text": [
            " 10%|▉         | 10/104 [00:15<02:23,  1.53s/it]"
          ]
        },
        {
          "metadata": {
            "tags": null
          },
          "name": "stdout",
          "output_type": "stream",
          "text": [
            "Training loss: 0.145960 - Train mined triplets: 11707582.300000\n"
          ]
        },
        {
          "metadata": {
            "tags": null
          },
          "name": "stderr",
          "output_type": "stream",
          "text": [
            " 19%|█▉        | 20/104 [00:30<02:07,  1.52s/it]"
          ]
        },
        {
          "metadata": {
            "tags": null
          },
          "name": "stdout",
          "output_type": "stream",
          "text": [
            "Training loss: 0.145838 - Train mined triplets: 12003904.200000\n"
          ]
        },
        {
          "metadata": {
            "tags": null
          },
          "name": "stderr",
          "output_type": "stream",
          "text": [
            " 29%|██▉       | 30/104 [00:46<01:56,  1.58s/it]"
          ]
        },
        {
          "metadata": {
            "tags": null
          },
          "name": "stdout",
          "output_type": "stream",
          "text": [
            "Training loss: 0.146881 - Train mined triplets: 11999352.800000\n"
          ]
        },
        {
          "metadata": {
            "tags": null
          },
          "name": "stderr",
          "output_type": "stream",
          "text": [
            " 38%|███▊      | 40/104 [01:02<01:43,  1.61s/it]"
          ]
        },
        {
          "metadata": {
            "tags": null
          },
          "name": "stdout",
          "output_type": "stream",
          "text": [
            "Training loss: 0.146136 - Train mined triplets: 12100121.050000\n"
          ]
        },
        {
          "metadata": {
            "tags": null
          },
          "name": "stderr",
          "output_type": "stream",
          "text": [
            " 48%|████▊     | 50/104 [01:17<01:24,  1.56s/it]"
          ]
        },
        {
          "metadata": {
            "tags": null
          },
          "name": "stdout",
          "output_type": "stream",
          "text": [
            "Training loss: 0.145881 - Train mined triplets: 12095927.060000\n"
          ]
        },
        {
          "metadata": {
            "tags": null
          },
          "name": "stderr",
          "output_type": "stream",
          "text": [
            " 58%|█████▊    | 60/104 [01:33<01:08,  1.56s/it]"
          ]
        },
        {
          "metadata": {
            "tags": null
          },
          "name": "stdout",
          "output_type": "stream",
          "text": [
            "Training loss: 0.145122 - Train mined triplets: 12120181.500000\n"
          ]
        },
        {
          "metadata": {
            "tags": null
          },
          "name": "stderr",
          "output_type": "stream",
          "text": [
            " 67%|██████▋   | 70/104 [01:49<00:52,  1.55s/it]"
          ]
        },
        {
          "metadata": {
            "tags": null
          },
          "name": "stdout",
          "output_type": "stream",
          "text": [
            "Training loss: 0.144613 - Train mined triplets: 12188301.657143\n"
          ]
        },
        {
          "metadata": {
            "tags": null
          },
          "name": "stderr",
          "output_type": "stream",
          "text": [
            " 77%|███████▋  | 80/104 [02:05<00:38,  1.61s/it]"
          ]
        },
        {
          "metadata": {
            "tags": null
          },
          "name": "stdout",
          "output_type": "stream",
          "text": [
            "Training loss: 0.143913 - Train mined triplets: 12241988.175000\n"
          ]
        },
        {
          "metadata": {
            "tags": null
          },
          "name": "stderr",
          "output_type": "stream",
          "text": [
            " 87%|████████▋ | 90/104 [02:20<00:21,  1.56s/it]"
          ]
        },
        {
          "metadata": {
            "tags": null
          },
          "name": "stdout",
          "output_type": "stream",
          "text": [
            "Training loss: 0.143353 - Train mined triplets: 12252723.966667\n"
          ]
        },
        {
          "metadata": {
            "tags": null
          },
          "name": "stderr",
          "output_type": "stream",
          "text": [
            " 96%|█████████▌| 100/104 [02:36<00:06,  1.56s/it]"
          ]
        },
        {
          "metadata": {
            "tags": null
          },
          "name": "stdout",
          "output_type": "stream",
          "text": [
            "Training loss: 0.142788 - Train mined triplets: 12279718.210000\n"
          ]
        },
        {
          "metadata": {
            "tags": null
          },
          "name": "stderr",
          "output_type": "stream",
          "text": [
            "100%|██████████| 104/104 [02:42<00:00,  1.56s/it]\n"
          ]
        },
        {
          "metadata": {
            "tags": null
          },
          "name": "stdout",
          "output_type": "stream",
          "text": [
            "Train loss: 0.142524 - Val loss: 0.136635 \n",
            "\n",
            "Train mined triplets: 12289404.067308 - Val mined triplets: 12442437.307692 \n",
            "\n",
            "Last learning rate: [0.0009890738003669028]\n",
            "Epoch 4\n",
            "-------------------------------\n"
          ]
        },
        {
          "metadata": {
            "tags": null
          },
          "name": "stderr",
          "output_type": "stream",
          "text": [
            " 10%|▉         | 10/104 [00:15<02:25,  1.55s/it]"
          ]
        },
        {
          "metadata": {
            "tags": null
          },
          "name": "stdout",
          "output_type": "stream",
          "text": [
            "Training loss: 0.138299 - Train mined triplets: 12546102.400000\n"
          ]
        },
        {
          "metadata": {
            "tags": null
          },
          "name": "stderr",
          "output_type": "stream",
          "text": [
            " 19%|█▉        | 20/104 [00:31<02:16,  1.62s/it]"
          ]
        },
        {
          "metadata": {
            "tags": null
          },
          "name": "stdout",
          "output_type": "stream",
          "text": [
            "Training loss: 0.136225 - Train mined triplets: 12613775.400000\n"
          ]
        },
        {
          "metadata": {
            "tags": null
          },
          "name": "stderr",
          "output_type": "stream",
          "text": [
            " 29%|██▉       | 30/104 [00:47<01:55,  1.56s/it]"
          ]
        },
        {
          "metadata": {
            "tags": null
          },
          "name": "stdout",
          "output_type": "stream",
          "text": [
            "Training loss: 0.135860 - Train mined triplets: 12598444.600000\n"
          ]
        },
        {
          "metadata": {
            "tags": null
          },
          "name": "stderr",
          "output_type": "stream",
          "text": [
            " 38%|███▊      | 40/104 [01:03<01:39,  1.56s/it]"
          ]
        },
        {
          "metadata": {
            "tags": null
          },
          "name": "stdout",
          "output_type": "stream",
          "text": [
            "Training loss: 0.136359 - Train mined triplets: 12615050.400000\n"
          ]
        },
        {
          "metadata": {
            "tags": null
          },
          "name": "stderr",
          "output_type": "stream",
          "text": [
            " 48%|████▊     | 50/104 [01:18<01:22,  1.54s/it]"
          ]
        },
        {
          "metadata": {
            "tags": null
          },
          "name": "stdout",
          "output_type": "stream",
          "text": [
            "Training loss: 0.135865 - Train mined triplets: 12620925.760000\n"
          ]
        },
        {
          "metadata": {
            "tags": null
          },
          "name": "stderr",
          "output_type": "stream",
          "text": [
            " 58%|█████▊    | 60/104 [01:34<01:09,  1.58s/it]"
          ]
        },
        {
          "metadata": {
            "tags": null
          },
          "name": "stdout",
          "output_type": "stream",
          "text": [
            "Training loss: 0.135707 - Train mined triplets: 12621240.950000\n"
          ]
        },
        {
          "metadata": {
            "tags": null
          },
          "name": "stderr",
          "output_type": "stream",
          "text": [
            " 67%|██████▋   | 70/104 [01:50<00:53,  1.56s/it]"
          ]
        },
        {
          "metadata": {
            "tags": null
          },
          "name": "stdout",
          "output_type": "stream",
          "text": [
            "Training loss: 0.135377 - Train mined triplets: 12630680.528571\n"
          ]
        },
        {
          "metadata": {
            "tags": null
          },
          "name": "stderr",
          "output_type": "stream",
          "text": [
            " 77%|███████▋  | 80/104 [02:05<00:36,  1.54s/it]"
          ]
        },
        {
          "metadata": {
            "tags": null
          },
          "name": "stdout",
          "output_type": "stream",
          "text": [
            "Training loss: 0.134975 - Train mined triplets: 12611097.550000\n"
          ]
        },
        {
          "metadata": {
            "tags": null
          },
          "name": "stderr",
          "output_type": "stream",
          "text": [
            " 87%|████████▋ | 90/104 [02:21<00:21,  1.53s/it]"
          ]
        },
        {
          "metadata": {
            "tags": null
          },
          "name": "stdout",
          "output_type": "stream",
          "text": [
            "Training loss: 0.134497 - Train mined triplets: 12574098.844444\n"
          ]
        },
        {
          "metadata": {
            "tags": null
          },
          "name": "stderr",
          "output_type": "stream",
          "text": [
            " 96%|█████████▌| 100/104 [02:36<00:06,  1.52s/it]"
          ]
        },
        {
          "metadata": {
            "tags": null
          },
          "name": "stdout",
          "output_type": "stream",
          "text": [
            "Training loss: 0.134165 - Train mined triplets: 12567096.130000\n"
          ]
        },
        {
          "metadata": {
            "tags": null
          },
          "name": "stderr",
          "output_type": "stream",
          "text": [
            "100%|██████████| 104/104 [02:43<00:00,  1.57s/it]\n"
          ]
        },
        {
          "metadata": {
            "tags": null
          },
          "name": "stdout",
          "output_type": "stream",
          "text": [
            "Train loss: 0.134090 - Val loss: 0.130551 \n",
            "\n",
            "Train mined triplets: 12543762.740385 - Val mined triplets: 12553524.115385 \n",
            "\n",
            "Last learning rate: [0.0009755282581475768]\n",
            "Epoch 5\n",
            "-------------------------------\n"
          ]
        },
        {
          "metadata": {
            "tags": null
          },
          "name": "stderr",
          "output_type": "stream",
          "text": [
            " 10%|▉         | 10/104 [00:15<02:25,  1.54s/it]"
          ]
        },
        {
          "metadata": {
            "tags": null
          },
          "name": "stdout",
          "output_type": "stream",
          "text": [
            "Training loss: 0.129584 - Train mined triplets: 12359879.500000\n"
          ]
        },
        {
          "metadata": {
            "tags": null
          },
          "name": "stderr",
          "output_type": "stream",
          "text": [
            " 19%|█▉        | 20/104 [00:31<02:08,  1.53s/it]"
          ]
        },
        {
          "metadata": {
            "tags": null
          },
          "name": "stdout",
          "output_type": "stream",
          "text": [
            "Training loss: 0.129176 - Train mined triplets: 12454718.450000\n"
          ]
        },
        {
          "metadata": {
            "tags": null
          },
          "name": "stderr",
          "output_type": "stream",
          "text": [
            " 29%|██▉       | 30/104 [00:46<01:56,  1.57s/it]"
          ]
        },
        {
          "metadata": {
            "tags": null
          },
          "name": "stdout",
          "output_type": "stream",
          "text": [
            "Training loss: 0.128961 - Train mined triplets: 12448185.266667\n"
          ]
        },
        {
          "metadata": {
            "tags": null
          },
          "name": "stderr",
          "output_type": "stream",
          "text": [
            " 38%|███▊      | 40/104 [01:02<01:39,  1.55s/it]"
          ]
        },
        {
          "metadata": {
            "tags": null
          },
          "name": "stdout",
          "output_type": "stream",
          "text": [
            "Training loss: 0.128510 - Train mined triplets: 12419053.650000\n"
          ]
        },
        {
          "metadata": {
            "tags": null
          },
          "name": "stderr",
          "output_type": "stream",
          "text": [
            " 48%|████▊     | 50/104 [01:17<01:23,  1.55s/it]"
          ]
        },
        {
          "metadata": {
            "tags": null
          },
          "name": "stdout",
          "output_type": "stream",
          "text": [
            "Training loss: 0.128519 - Train mined triplets: 12344341.440000\n"
          ]
        },
        {
          "metadata": {
            "tags": null
          },
          "name": "stderr",
          "output_type": "stream",
          "text": [
            " 58%|█████▊    | 60/104 [01:33<01:08,  1.55s/it]"
          ]
        },
        {
          "metadata": {
            "tags": null
          },
          "name": "stdout",
          "output_type": "stream",
          "text": [
            "Training loss: 0.128288 - Train mined triplets: 12300813.483333\n"
          ]
        },
        {
          "metadata": {
            "tags": null
          },
          "name": "stderr",
          "output_type": "stream",
          "text": [
            " 67%|██████▋   | 70/104 [01:48<00:51,  1.52s/it]"
          ]
        },
        {
          "metadata": {
            "tags": null
          },
          "name": "stdout",
          "output_type": "stream",
          "text": [
            "Training loss: 0.128196 - Train mined triplets: 12282963.157143\n"
          ]
        },
        {
          "metadata": {
            "tags": null
          },
          "name": "stderr",
          "output_type": "stream",
          "text": [
            " 77%|███████▋  | 80/104 [02:04<00:36,  1.51s/it]"
          ]
        },
        {
          "metadata": {
            "tags": null
          },
          "name": "stdout",
          "output_type": "stream",
          "text": [
            "Training loss: 0.128021 - Train mined triplets: 12299201.150000\n"
          ]
        },
        {
          "metadata": {
            "tags": null
          },
          "name": "stderr",
          "output_type": "stream",
          "text": [
            " 87%|████████▋ | 90/104 [02:19<00:22,  1.58s/it]"
          ]
        },
        {
          "metadata": {
            "tags": null
          },
          "name": "stdout",
          "output_type": "stream",
          "text": [
            "Training loss: 0.128186 - Train mined triplets: 12308036.711111\n"
          ]
        },
        {
          "metadata": {
            "tags": null
          },
          "name": "stderr",
          "output_type": "stream",
          "text": [
            " 96%|█████████▌| 100/104 [02:35<00:06,  1.59s/it]"
          ]
        },
        {
          "metadata": {
            "tags": null
          },
          "name": "stdout",
          "output_type": "stream",
          "text": [
            "Training loss: 0.128181 - Train mined triplets: 12291183.970000\n"
          ]
        },
        {
          "metadata": {
            "tags": null
          },
          "name": "stderr",
          "output_type": "stream",
          "text": [
            "100%|██████████| 104/104 [02:41<00:00,  1.55s/it]\n"
          ]
        },
        {
          "metadata": {
            "tags": null
          },
          "name": "stdout",
          "output_type": "stream",
          "text": [
            "Train loss: 0.128166 - Val loss: 0.127175 \n",
            "\n",
            "Train mined triplets: 12284209.586538 - Val mined triplets: 12269782.057692 \n",
            "\n",
            "Last learning rate: [0.0009567727288213003]\n",
            "Epoch 6\n",
            "-------------------------------\n"
          ]
        },
        {
          "metadata": {
            "tags": null
          },
          "name": "stderr",
          "output_type": "stream",
          "text": [
            " 10%|▉         | 10/104 [00:15<02:22,  1.52s/it]"
          ]
        },
        {
          "metadata": {
            "tags": null
          },
          "name": "stdout",
          "output_type": "stream",
          "text": [
            "Training loss: 0.126817 - Train mined triplets: 11987246.500000\n"
          ]
        },
        {
          "metadata": {
            "tags": null
          },
          "name": "stderr",
          "output_type": "stream",
          "text": [
            " 19%|█▉        | 20/104 [00:31<02:19,  1.66s/it]"
          ]
        },
        {
          "metadata": {
            "tags": null
          },
          "name": "stdout",
          "output_type": "stream",
          "text": [
            "Training loss: 0.125983 - Train mined triplets: 12001164.100000\n"
          ]
        },
        {
          "metadata": {
            "tags": null
          },
          "name": "stderr",
          "output_type": "stream",
          "text": [
            " 29%|██▉       | 30/104 [00:47<01:57,  1.59s/it]"
          ]
        },
        {
          "metadata": {
            "tags": null
          },
          "name": "stdout",
          "output_type": "stream",
          "text": [
            "Training loss: 0.125357 - Train mined triplets: 12084782.100000\n"
          ]
        },
        {
          "metadata": {
            "tags": null
          },
          "name": "stderr",
          "output_type": "stream",
          "text": [
            " 38%|███▊      | 40/104 [01:02<01:39,  1.56s/it]"
          ]
        },
        {
          "metadata": {
            "tags": null
          },
          "name": "stdout",
          "output_type": "stream",
          "text": [
            "Training loss: 0.125029 - Train mined triplets: 12125984.300000\n"
          ]
        },
        {
          "metadata": {
            "tags": null
          },
          "name": "stderr",
          "output_type": "stream",
          "text": [
            " 48%|████▊     | 50/104 [01:18<01:23,  1.55s/it]"
          ]
        },
        {
          "metadata": {
            "tags": null
          },
          "name": "stdout",
          "output_type": "stream",
          "text": [
            "Training loss: 0.124679 - Train mined triplets: 12139747.580000\n"
          ]
        },
        {
          "metadata": {
            "tags": null
          },
          "name": "stderr",
          "output_type": "stream",
          "text": [
            " 58%|█████▊    | 60/104 [01:34<01:07,  1.54s/it]"
          ]
        },
        {
          "metadata": {
            "tags": null
          },
          "name": "stdout",
          "output_type": "stream",
          "text": [
            "Training loss: 0.124161 - Train mined triplets: 12143357.983333\n"
          ]
        },
        {
          "metadata": {
            "tags": null
          },
          "name": "stderr",
          "output_type": "stream",
          "text": [
            " 67%|██████▋   | 70/104 [01:49<00:53,  1.58s/it]"
          ]
        },
        {
          "metadata": {
            "tags": null
          },
          "name": "stdout",
          "output_type": "stream",
          "text": [
            "Training loss: 0.123910 - Train mined triplets: 12142041.042857\n"
          ]
        },
        {
          "metadata": {
            "tags": null
          },
          "name": "stderr",
          "output_type": "stream",
          "text": [
            " 77%|███████▋  | 80/104 [02:05<00:37,  1.56s/it]"
          ]
        },
        {
          "metadata": {
            "tags": null
          },
          "name": "stdout",
          "output_type": "stream",
          "text": [
            "Training loss: 0.123620 - Train mined triplets: 12197192.950000\n"
          ]
        },
        {
          "metadata": {
            "tags": null
          },
          "name": "stderr",
          "output_type": "stream",
          "text": [
            " 87%|████████▋ | 90/104 [02:21<00:21,  1.53s/it]"
          ]
        },
        {
          "metadata": {
            "tags": null
          },
          "name": "stdout",
          "output_type": "stream",
          "text": [
            "Training loss: 0.123402 - Train mined triplets: 12213052.400000\n"
          ]
        },
        {
          "metadata": {
            "tags": null
          },
          "name": "stderr",
          "output_type": "stream",
          "text": [
            " 96%|█████████▌| 100/104 [02:36<00:06,  1.56s/it]"
          ]
        },
        {
          "metadata": {
            "tags": null
          },
          "name": "stdout",
          "output_type": "stream",
          "text": [
            "Training loss: 0.123344 - Train mined triplets: 12207274.410000\n"
          ]
        },
        {
          "metadata": {
            "tags": null
          },
          "name": "stderr",
          "output_type": "stream",
          "text": [
            "100%|██████████| 104/104 [02:42<00:00,  1.57s/it]\n"
          ]
        },
        {
          "metadata": {
            "tags": null
          },
          "name": "stdout",
          "output_type": "stream",
          "text": [
            "Train loss: 0.123163 - Val loss: 0.119695 \n",
            "\n",
            "Train mined triplets: 12211706.413462 - Val mined triplets: 12443519.903846 \n",
            "\n",
            "Last learning rate: [0.0009330127018922195]\n",
            "Epoch 7\n",
            "-------------------------------\n"
          ]
        },
        {
          "metadata": {
            "tags": null
          },
          "name": "stderr",
          "output_type": "stream",
          "text": [
            " 10%|▉         | 10/104 [00:15<02:24,  1.54s/it]"
          ]
        },
        {
          "metadata": {
            "tags": null
          },
          "name": "stdout",
          "output_type": "stream",
          "text": [
            "Training loss: 0.121738 - Train mined triplets: 12325587.400000\n"
          ]
        },
        {
          "metadata": {
            "tags": null
          },
          "name": "stderr",
          "output_type": "stream",
          "text": [
            " 19%|█▉        | 20/104 [00:31<02:09,  1.54s/it]"
          ]
        },
        {
          "metadata": {
            "tags": null
          },
          "name": "stdout",
          "output_type": "stream",
          "text": [
            "Training loss: 0.122141 - Train mined triplets: 12290959.650000\n"
          ]
        },
        {
          "metadata": {
            "tags": null
          },
          "name": "stderr",
          "output_type": "stream",
          "text": [
            " 29%|██▉       | 30/104 [00:46<01:54,  1.55s/it]"
          ]
        },
        {
          "metadata": {
            "tags": null
          },
          "name": "stdout",
          "output_type": "stream",
          "text": [
            "Training loss: 0.121198 - Train mined triplets: 12280905.000000\n"
          ]
        },
        {
          "metadata": {
            "tags": null
          },
          "name": "stderr",
          "output_type": "stream",
          "text": [
            " 38%|███▊      | 40/104 [01:02<01:41,  1.59s/it]"
          ]
        },
        {
          "metadata": {
            "tags": null
          },
          "name": "stdout",
          "output_type": "stream",
          "text": [
            "Training loss: 0.120656 - Train mined triplets: 12201124.525000\n"
          ]
        },
        {
          "metadata": {
            "tags": null
          },
          "name": "stderr",
          "output_type": "stream",
          "text": [
            " 48%|████▊     | 50/104 [01:18<01:24,  1.57s/it]"
          ]
        },
        {
          "metadata": {
            "tags": null
          },
          "name": "stdout",
          "output_type": "stream",
          "text": [
            "Training loss: 0.120702 - Train mined triplets: 12144515.880000\n"
          ]
        },
        {
          "metadata": {
            "tags": null
          },
          "name": "stderr",
          "output_type": "stream",
          "text": [
            " 58%|█████▊    | 60/104 [01:34<01:08,  1.56s/it]"
          ]
        },
        {
          "metadata": {
            "tags": null
          },
          "name": "stdout",
          "output_type": "stream",
          "text": [
            "Training loss: 0.120509 - Train mined triplets: 12109485.283333\n"
          ]
        },
        {
          "metadata": {
            "tags": null
          },
          "name": "stderr",
          "output_type": "stream",
          "text": [
            " 67%|██████▋   | 70/104 [01:49<00:52,  1.55s/it]"
          ]
        },
        {
          "metadata": {
            "tags": null
          },
          "name": "stdout",
          "output_type": "stream",
          "text": [
            "Training loss: 0.120312 - Train mined triplets: 12107641.357143\n"
          ]
        },
        {
          "metadata": {
            "tags": null
          },
          "name": "stderr",
          "output_type": "stream",
          "text": [
            " 77%|███████▋  | 80/104 [02:05<00:38,  1.60s/it]"
          ]
        },
        {
          "metadata": {
            "tags": null
          },
          "name": "stdout",
          "output_type": "stream",
          "text": [
            "Training loss: 0.120041 - Train mined triplets: 12087672.075000\n"
          ]
        },
        {
          "metadata": {
            "tags": null
          },
          "name": "stderr",
          "output_type": "stream",
          "text": [
            " 87%|████████▋ | 90/104 [02:20<00:21,  1.55s/it]"
          ]
        },
        {
          "metadata": {
            "tags": null
          },
          "name": "stdout",
          "output_type": "stream",
          "text": [
            "Training loss: 0.119723 - Train mined triplets: 12084338.144444\n"
          ]
        },
        {
          "metadata": {
            "tags": null
          },
          "name": "stderr",
          "output_type": "stream",
          "text": [
            " 96%|█████████▌| 100/104 [02:36<00:06,  1.54s/it]"
          ]
        },
        {
          "metadata": {
            "tags": null
          },
          "name": "stdout",
          "output_type": "stream",
          "text": [
            "Training loss: 0.119550 - Train mined triplets: 12089467.930000\n"
          ]
        },
        {
          "metadata": {
            "tags": null
          },
          "name": "stderr",
          "output_type": "stream",
          "text": [
            "100%|██████████| 104/104 [02:42<00:00,  1.57s/it]\n"
          ]
        },
        {
          "metadata": {
            "tags": null
          },
          "name": "stdout",
          "output_type": "stream",
          "text": [
            "Train loss: 0.119526 - Val loss: 0.119647 \n",
            "\n",
            "Train mined triplets: 12071910.028846 - Val mined triplets: 12626607.586538 \n",
            "\n",
            "Last learning rate: [0.0009045084971874739]\n",
            "Epoch 8\n",
            "-------------------------------\n"
          ]
        },
        {
          "metadata": {
            "tags": null
          },
          "name": "stderr",
          "output_type": "stream",
          "text": [
            " 10%|▉         | 10/104 [00:16<02:31,  1.61s/it]"
          ]
        },
        {
          "metadata": {
            "tags": null
          },
          "name": "stdout",
          "output_type": "stream",
          "text": [
            "Training loss: 0.120582 - Train mined triplets: 11896699.200000\n"
          ]
        },
        {
          "metadata": {
            "tags": null
          },
          "name": "stderr",
          "output_type": "stream",
          "text": [
            " 19%|█▉        | 20/104 [00:31<02:09,  1.54s/it]"
          ]
        },
        {
          "metadata": {
            "tags": null
          },
          "name": "stdout",
          "output_type": "stream",
          "text": [
            "Training loss: 0.118663 - Train mined triplets: 11917342.750000\n"
          ]
        },
        {
          "metadata": {
            "tags": null
          },
          "name": "stderr",
          "output_type": "stream",
          "text": [
            " 29%|██▉       | 30/104 [00:47<01:54,  1.54s/it]"
          ]
        },
        {
          "metadata": {
            "tags": null
          },
          "name": "stdout",
          "output_type": "stream",
          "text": [
            "Training loss: 0.118226 - Train mined triplets: 11879970.366667\n"
          ]
        },
        {
          "metadata": {
            "tags": null
          },
          "name": "stderr",
          "output_type": "stream",
          "text": [
            " 38%|███▊      | 40/104 [01:02<01:41,  1.58s/it]"
          ]
        },
        {
          "metadata": {
            "tags": null
          },
          "name": "stdout",
          "output_type": "stream",
          "text": [
            "Training loss: 0.117888 - Train mined triplets: 11870299.325000\n"
          ]
        },
        {
          "metadata": {
            "tags": null
          },
          "name": "stderr",
          "output_type": "stream",
          "text": [
            " 48%|████▊     | 50/104 [01:18<01:25,  1.59s/it]"
          ]
        },
        {
          "metadata": {
            "tags": null
          },
          "name": "stdout",
          "output_type": "stream",
          "text": [
            "Training loss: 0.117630 - Train mined triplets: 11855132.520000\n"
          ]
        },
        {
          "metadata": {
            "tags": null
          },
          "name": "stderr",
          "output_type": "stream",
          "text": [
            " 58%|█████▊    | 60/104 [01:34<01:10,  1.59s/it]"
          ]
        },
        {
          "metadata": {
            "tags": null
          },
          "name": "stdout",
          "output_type": "stream",
          "text": [
            "Training loss: 0.117444 - Train mined triplets: 11844441.033333\n"
          ]
        },
        {
          "metadata": {
            "tags": null
          },
          "name": "stderr",
          "output_type": "stream",
          "text": [
            " 67%|██████▋   | 70/104 [01:49<00:52,  1.54s/it]"
          ]
        },
        {
          "metadata": {
            "tags": null
          },
          "name": "stdout",
          "output_type": "stream",
          "text": [
            "Training loss: 0.117381 - Train mined triplets: 11848843.228571\n"
          ]
        },
        {
          "metadata": {
            "tags": null
          },
          "name": "stderr",
          "output_type": "stream",
          "text": [
            " 77%|███████▋  | 80/104 [02:05<00:37,  1.55s/it]"
          ]
        },
        {
          "metadata": {
            "tags": null
          },
          "name": "stdout",
          "output_type": "stream",
          "text": [
            "Training loss: 0.117573 - Train mined triplets: 11862119.525000\n"
          ]
        },
        {
          "metadata": {
            "tags": null
          },
          "name": "stderr",
          "output_type": "stream",
          "text": [
            " 87%|████████▋ | 90/104 [02:21<00:21,  1.56s/it]"
          ]
        },
        {
          "metadata": {
            "tags": null
          },
          "name": "stdout",
          "output_type": "stream",
          "text": [
            "Training loss: 0.117372 - Train mined triplets: 11865644.366667\n"
          ]
        },
        {
          "metadata": {
            "tags": null
          },
          "name": "stderr",
          "output_type": "stream",
          "text": [
            " 96%|█████████▌| 100/104 [02:37<00:06,  1.57s/it]"
          ]
        },
        {
          "metadata": {
            "tags": null
          },
          "name": "stdout",
          "output_type": "stream",
          "text": [
            "Training loss: 0.117305 - Train mined triplets: 11861862.530000\n"
          ]
        },
        {
          "metadata": {
            "tags": null
          },
          "name": "stderr",
          "output_type": "stream",
          "text": [
            "100%|██████████| 104/104 [02:43<00:00,  1.57s/it]\n"
          ]
        },
        {
          "metadata": {
            "tags": null
          },
          "name": "stdout",
          "output_type": "stream",
          "text": [
            "Train loss: 0.117268 - Val loss: 0.115575 \n",
            "\n",
            "Train mined triplets: 11883221.500000 - Val mined triplets: 11960504.009615 \n",
            "\n",
            "Last learning rate: [0.0008715724127386972]\n",
            "Epoch 9\n",
            "-------------------------------\n"
          ]
        },
        {
          "metadata": {
            "tags": null
          },
          "name": "stderr",
          "output_type": "stream",
          "text": [
            " 10%|▉         | 10/104 [00:15<02:25,  1.55s/it]"
          ]
        },
        {
          "metadata": {
            "tags": null
          },
          "name": "stdout",
          "output_type": "stream",
          "text": [
            "Training loss: 0.115835 - Train mined triplets: 11766403.400000\n"
          ]
        },
        {
          "metadata": {
            "tags": null
          },
          "name": "stderr",
          "output_type": "stream",
          "text": [
            " 19%|█▉        | 20/104 [00:31<02:13,  1.59s/it]"
          ]
        },
        {
          "metadata": {
            "tags": null
          },
          "name": "stdout",
          "output_type": "stream",
          "text": [
            "Training loss: 0.116063 - Train mined triplets: 11756945.050000\n"
          ]
        },
        {
          "metadata": {
            "tags": null
          },
          "name": "stderr",
          "output_type": "stream",
          "text": [
            " 29%|██▉       | 30/104 [00:46<01:57,  1.58s/it]"
          ]
        },
        {
          "metadata": {
            "tags": null
          },
          "name": "stdout",
          "output_type": "stream",
          "text": [
            "Training loss: 0.115997 - Train mined triplets: 11768182.533333\n"
          ]
        },
        {
          "metadata": {
            "tags": null
          },
          "name": "stderr",
          "output_type": "stream",
          "text": [
            " 38%|███▊      | 40/104 [01:02<01:38,  1.55s/it]"
          ]
        },
        {
          "metadata": {
            "tags": null
          },
          "name": "stdout",
          "output_type": "stream",
          "text": [
            "Training loss: 0.115911 - Train mined triplets: 11801620.250000\n"
          ]
        },
        {
          "metadata": {
            "tags": null
          },
          "name": "stderr",
          "output_type": "stream",
          "text": [
            " 48%|████▊     | 50/104 [01:18<01:22,  1.53s/it]"
          ]
        },
        {
          "metadata": {
            "tags": null
          },
          "name": "stdout",
          "output_type": "stream",
          "text": [
            "Training loss: 0.115800 - Train mined triplets: 11801058.560000\n"
          ]
        },
        {
          "metadata": {
            "tags": null
          },
          "name": "stderr",
          "output_type": "stream",
          "text": [
            " 58%|█████▊    | 60/104 [01:33<01:08,  1.56s/it]"
          ]
        },
        {
          "metadata": {
            "tags": null
          },
          "name": "stdout",
          "output_type": "stream",
          "text": [
            "Training loss: 0.115950 - Train mined triplets: 11787827.200000\n"
          ]
        },
        {
          "metadata": {
            "tags": null
          },
          "name": "stderr",
          "output_type": "stream",
          "text": [
            " 67%|██████▋   | 70/104 [01:49<00:54,  1.61s/it]"
          ]
        },
        {
          "metadata": {
            "tags": null
          },
          "name": "stdout",
          "output_type": "stream",
          "text": [
            "Training loss: 0.115808 - Train mined triplets: 11761401.871429\n"
          ]
        },
        {
          "metadata": {
            "tags": null
          },
          "name": "stderr",
          "output_type": "stream",
          "text": [
            " 77%|███████▋  | 80/104 [02:05<00:36,  1.53s/it]"
          ]
        },
        {
          "metadata": {
            "tags": null
          },
          "name": "stdout",
          "output_type": "stream",
          "text": [
            "Training loss: 0.115633 - Train mined triplets: 11784921.100000\n"
          ]
        },
        {
          "metadata": {
            "tags": null
          },
          "name": "stderr",
          "output_type": "stream",
          "text": [
            " 87%|████████▋ | 90/104 [02:20<00:21,  1.54s/it]"
          ]
        },
        {
          "metadata": {
            "tags": null
          },
          "name": "stdout",
          "output_type": "stream",
          "text": [
            "Training loss: 0.115590 - Train mined triplets: 11776465.966667\n"
          ]
        },
        {
          "metadata": {
            "tags": null
          },
          "name": "stderr",
          "output_type": "stream",
          "text": [
            " 96%|█████████▌| 100/104 [02:36<00:06,  1.54s/it]"
          ]
        },
        {
          "metadata": {
            "tags": null
          },
          "name": "stdout",
          "output_type": "stream",
          "text": [
            "Training loss: 0.115598 - Train mined triplets: 11763541.600000\n"
          ]
        },
        {
          "metadata": {
            "tags": null
          },
          "name": "stderr",
          "output_type": "stream",
          "text": [
            "100%|██████████| 104/104 [02:42<00:00,  1.57s/it]\n"
          ]
        },
        {
          "metadata": {
            "tags": null
          },
          "name": "stdout",
          "output_type": "stream",
          "text": [
            "Train loss: 0.115627 - Val loss: 0.117161 \n",
            "\n",
            "Train mined triplets: 11763849.076923 - Val mined triplets: 11824072.644231 \n",
            "\n",
            "Last learning rate: [0.0008345653031794292]\n",
            "Epoch 10\n",
            "-------------------------------\n"
          ]
        },
        {
          "metadata": {
            "tags": null
          },
          "name": "stderr",
          "output_type": "stream",
          "text": [
            " 10%|▉         | 10/104 [00:15<02:24,  1.54s/it]"
          ]
        },
        {
          "metadata": {
            "tags": null
          },
          "name": "stdout",
          "output_type": "stream",
          "text": [
            "Training loss: 0.117714 - Train mined triplets: 11578196.400000\n"
          ]
        },
        {
          "metadata": {
            "tags": null
          },
          "name": "stderr",
          "output_type": "stream",
          "text": [
            " 19%|█▉        | 20/104 [00:31<02:11,  1.56s/it]"
          ]
        },
        {
          "metadata": {
            "tags": null
          },
          "name": "stdout",
          "output_type": "stream",
          "text": [
            "Training loss: 0.117075 - Train mined triplets: 11555685.900000\n"
          ]
        },
        {
          "metadata": {
            "tags": null
          },
          "name": "stderr",
          "output_type": "stream",
          "text": [
            " 29%|██▉       | 30/104 [00:46<01:54,  1.55s/it]"
          ]
        },
        {
          "metadata": {
            "tags": null
          },
          "name": "stdout",
          "output_type": "stream",
          "text": [
            "Training loss: 0.116435 - Train mined triplets: 11676117.700000\n"
          ]
        },
        {
          "metadata": {
            "tags": null
          },
          "name": "stderr",
          "output_type": "stream",
          "text": [
            " 38%|███▊      | 40/104 [01:02<01:42,  1.60s/it]"
          ]
        },
        {
          "metadata": {
            "tags": null
          },
          "name": "stdout",
          "output_type": "stream",
          "text": [
            "Training loss: 0.116235 - Train mined triplets: 11657455.875000\n"
          ]
        },
        {
          "metadata": {
            "tags": null
          },
          "name": "stderr",
          "output_type": "stream",
          "text": [
            " 48%|████▊     | 50/104 [01:17<01:24,  1.56s/it]"
          ]
        },
        {
          "metadata": {
            "tags": null
          },
          "name": "stdout",
          "output_type": "stream",
          "text": [
            "Training loss: 0.115968 - Train mined triplets: 11730852.860000\n"
          ]
        },
        {
          "metadata": {
            "tags": null
          },
          "name": "stderr",
          "output_type": "stream",
          "text": [
            " 58%|█████▊    | 60/104 [01:33<01:08,  1.55s/it]"
          ]
        },
        {
          "metadata": {
            "tags": null
          },
          "name": "stdout",
          "output_type": "stream",
          "text": [
            "Training loss: 0.115792 - Train mined triplets: 11739440.933333\n"
          ]
        },
        {
          "metadata": {
            "tags": null
          },
          "name": "stderr",
          "output_type": "stream",
          "text": [
            " 67%|██████▋   | 70/104 [01:49<00:51,  1.52s/it]"
          ]
        },
        {
          "metadata": {
            "tags": null
          },
          "name": "stdout",
          "output_type": "stream",
          "text": [
            "Training loss: 0.115684 - Train mined triplets: 11748635.714286\n"
          ]
        },
        {
          "metadata": {
            "tags": null
          },
          "name": "stderr",
          "output_type": "stream",
          "text": [
            " 77%|███████▋  | 80/104 [02:04<00:38,  1.59s/it]"
          ]
        },
        {
          "metadata": {
            "tags": null
          },
          "name": "stdout",
          "output_type": "stream",
          "text": [
            "Training loss: 0.115377 - Train mined triplets: 11774746.000000\n"
          ]
        },
        {
          "metadata": {
            "tags": null
          },
          "name": "stderr",
          "output_type": "stream",
          "text": [
            " 87%|████████▋ | 90/104 [02:20<00:21,  1.56s/it]"
          ]
        },
        {
          "metadata": {
            "tags": null
          },
          "name": "stdout",
          "output_type": "stream",
          "text": [
            "Training loss: 0.115335 - Train mined triplets: 11747469.922222\n"
          ]
        },
        {
          "metadata": {
            "tags": null
          },
          "name": "stderr",
          "output_type": "stream",
          "text": [
            " 96%|█████████▌| 100/104 [02:35<00:06,  1.54s/it]"
          ]
        },
        {
          "metadata": {
            "tags": null
          },
          "name": "stdout",
          "output_type": "stream",
          "text": [
            "Training loss: 0.115276 - Train mined triplets: 11748229.890000\n"
          ]
        },
        {
          "metadata": {
            "tags": null
          },
          "name": "stderr",
          "output_type": "stream",
          "text": [
            "100%|██████████| 104/104 [02:41<00:00,  1.55s/it]\n"
          ]
        },
        {
          "metadata": {
            "tags": null
          },
          "name": "stdout",
          "output_type": "stream",
          "text": [
            "Train loss: 0.115235 - Val loss: 0.115622 \n",
            "\n",
            "Train mined triplets: 11748965.375000 - Val mined triplets: 12268534.759615 \n",
            "\n",
            "Last learning rate: [0.0007938926261462366]\n",
            "Epoch 11\n",
            "-------------------------------\n"
          ]
        },
        {
          "metadata": {
            "tags": null
          },
          "name": "stderr",
          "output_type": "stream",
          "text": [
            " 10%|▉         | 10/104 [00:15<02:26,  1.56s/it]"
          ]
        },
        {
          "metadata": {
            "tags": null
          },
          "name": "stdout",
          "output_type": "stream",
          "text": [
            "Training loss: 0.114759 - Train mined triplets: 11736624.500000\n"
          ]
        },
        {
          "metadata": {
            "tags": null
          },
          "name": "stderr",
          "output_type": "stream",
          "text": [
            " 19%|█▉        | 20/104 [00:31<02:10,  1.56s/it]"
          ]
        },
        {
          "metadata": {
            "tags": null
          },
          "name": "stdout",
          "output_type": "stream",
          "text": [
            "Training loss: 0.115039 - Train mined triplets: 11646634.600000\n"
          ]
        },
        {
          "metadata": {
            "tags": null
          },
          "name": "stderr",
          "output_type": "stream",
          "text": [
            " 29%|██▉       | 30/104 [00:46<01:52,  1.52s/it]"
          ]
        },
        {
          "metadata": {
            "tags": null
          },
          "name": "stdout",
          "output_type": "stream",
          "text": [
            "Training loss: 0.115346 - Train mined triplets: 11690532.000000\n"
          ]
        },
        {
          "metadata": {
            "tags": null
          },
          "name": "stderr",
          "output_type": "stream",
          "text": [
            " 38%|███▊      | 40/104 [01:02<01:39,  1.55s/it]"
          ]
        },
        {
          "metadata": {
            "tags": null
          },
          "name": "stdout",
          "output_type": "stream",
          "text": [
            "Training loss: 0.115259 - Train mined triplets: 11649628.475000\n"
          ]
        },
        {
          "metadata": {
            "tags": null
          },
          "name": "stderr",
          "output_type": "stream",
          "text": [
            " 48%|████▊     | 50/104 [01:18<01:25,  1.59s/it]"
          ]
        },
        {
          "metadata": {
            "tags": null
          },
          "name": "stdout",
          "output_type": "stream",
          "text": [
            "Training loss: 0.115194 - Train mined triplets: 11658202.340000\n"
          ]
        },
        {
          "metadata": {
            "tags": null
          },
          "name": "stderr",
          "output_type": "stream",
          "text": [
            " 58%|█████▊    | 60/104 [01:33<01:09,  1.57s/it]"
          ]
        },
        {
          "metadata": {
            "tags": null
          },
          "name": "stdout",
          "output_type": "stream",
          "text": [
            "Training loss: 0.115026 - Train mined triplets: 11640497.750000\n"
          ]
        },
        {
          "metadata": {
            "tags": null
          },
          "name": "stderr",
          "output_type": "stream",
          "text": [
            " 67%|██████▋   | 70/104 [01:49<00:53,  1.57s/it]"
          ]
        },
        {
          "metadata": {
            "tags": null
          },
          "name": "stdout",
          "output_type": "stream",
          "text": [
            "Training loss: 0.114737 - Train mined triplets: 11651441.842857\n"
          ]
        },
        {
          "metadata": {
            "tags": null
          },
          "name": "stderr",
          "output_type": "stream",
          "text": [
            " 77%|███████▋  | 80/104 [02:04<00:36,  1.53s/it]"
          ]
        },
        {
          "metadata": {
            "tags": null
          },
          "name": "stdout",
          "output_type": "stream",
          "text": [
            "Training loss: 0.114586 - Train mined triplets: 11644519.787500\n"
          ]
        },
        {
          "metadata": {
            "tags": null
          },
          "name": "stderr",
          "output_type": "stream",
          "text": [
            " 87%|████████▋ | 90/104 [02:20<00:21,  1.53s/it]"
          ]
        },
        {
          "metadata": {
            "tags": null
          },
          "name": "stdout",
          "output_type": "stream",
          "text": [
            "Training loss: 0.114496 - Train mined triplets: 11631467.944444\n"
          ]
        },
        {
          "metadata": {
            "tags": null
          },
          "name": "stderr",
          "output_type": "stream",
          "text": [
            " 96%|█████████▌| 100/104 [02:36<00:06,  1.60s/it]"
          ]
        },
        {
          "metadata": {
            "tags": null
          },
          "name": "stdout",
          "output_type": "stream",
          "text": [
            "Training loss: 0.114365 - Train mined triplets: 11622866.740000\n"
          ]
        },
        {
          "metadata": {
            "tags": null
          },
          "name": "stderr",
          "output_type": "stream",
          "text": [
            "100%|██████████| 104/104 [02:42<00:00,  1.56s/it]\n"
          ]
        },
        {
          "metadata": {
            "tags": null
          },
          "name": "stdout",
          "output_type": "stream",
          "text": [
            "Train loss: 0.114287 - Val loss: 0.112198 \n",
            "\n",
            "Train mined triplets: 11621571.509615 - Val mined triplets: 11839761.355769 \n",
            "\n",
            "Last learning rate: [0.00075]\n",
            "Epoch 12\n",
            "-------------------------------\n"
          ]
        },
        {
          "metadata": {
            "tags": null
          },
          "name": "stderr",
          "output_type": "stream",
          "text": [
            " 10%|▉         | 10/104 [00:15<02:26,  1.55s/it]"
          ]
        },
        {
          "metadata": {
            "tags": null
          },
          "name": "stdout",
          "output_type": "stream",
          "text": [
            "Training loss: 0.112788 - Train mined triplets: 11567172.600000\n"
          ]
        },
        {
          "metadata": {
            "tags": null
          },
          "name": "stderr",
          "output_type": "stream",
          "text": [
            " 19%|█▉        | 20/104 [00:31<02:13,  1.59s/it]"
          ]
        },
        {
          "metadata": {
            "tags": null
          },
          "name": "stdout",
          "output_type": "stream",
          "text": [
            "Training loss: 0.113084 - Train mined triplets: 11583057.700000\n"
          ]
        },
        {
          "metadata": {
            "tags": null
          },
          "name": "stderr",
          "output_type": "stream",
          "text": [
            " 29%|██▉       | 30/104 [00:47<01:55,  1.57s/it]"
          ]
        },
        {
          "metadata": {
            "tags": null
          },
          "name": "stdout",
          "output_type": "stream",
          "text": [
            "Training loss: 0.113506 - Train mined triplets: 11577095.666667\n"
          ]
        },
        {
          "metadata": {
            "tags": null
          },
          "name": "stderr",
          "output_type": "stream",
          "text": [
            " 38%|███▊      | 40/104 [01:02<01:40,  1.57s/it]"
          ]
        },
        {
          "metadata": {
            "tags": null
          },
          "name": "stdout",
          "output_type": "stream",
          "text": [
            "Training loss: 0.113419 - Train mined triplets: 11655938.950000\n"
          ]
        },
        {
          "metadata": {
            "tags": null
          },
          "name": "stderr",
          "output_type": "stream",
          "text": [
            " 48%|████▊     | 50/104 [01:18<01:23,  1.54s/it]"
          ]
        },
        {
          "metadata": {
            "tags": null
          },
          "name": "stdout",
          "output_type": "stream",
          "text": [
            "Training loss: 0.113185 - Train mined triplets: 11675672.700000\n"
          ]
        },
        {
          "metadata": {
            "tags": null
          },
          "name": "stderr",
          "output_type": "stream",
          "text": [
            " 58%|█████▊    | 60/104 [01:33<01:07,  1.53s/it]"
          ]
        },
        {
          "metadata": {
            "tags": null
          },
          "name": "stdout",
          "output_type": "stream",
          "text": [
            "Training loss: 0.113111 - Train mined triplets: 11635866.666667\n"
          ]
        },
        {
          "metadata": {
            "tags": null
          },
          "name": "stderr",
          "output_type": "stream",
          "text": [
            " 67%|██████▋   | 70/104 [01:49<00:53,  1.57s/it]"
          ]
        },
        {
          "metadata": {
            "tags": null
          },
          "name": "stdout",
          "output_type": "stream",
          "text": [
            "Training loss: 0.113033 - Train mined triplets: 11620324.271429\n"
          ]
        },
        {
          "metadata": {
            "tags": null
          },
          "name": "stderr",
          "output_type": "stream",
          "text": [
            " 77%|███████▋  | 80/104 [02:05<00:38,  1.59s/it]"
          ]
        },
        {
          "metadata": {
            "tags": null
          },
          "name": "stdout",
          "output_type": "stream",
          "text": [
            "Training loss: 0.113035 - Train mined triplets: 11606437.562500\n"
          ]
        },
        {
          "metadata": {
            "tags": null
          },
          "name": "stderr",
          "output_type": "stream",
          "text": [
            " 87%|████████▋ | 90/104 [02:20<00:21,  1.54s/it]"
          ]
        },
        {
          "metadata": {
            "tags": null
          },
          "name": "stdout",
          "output_type": "stream",
          "text": [
            "Training loss: 0.113028 - Train mined triplets: 11623601.533333\n"
          ]
        },
        {
          "metadata": {
            "tags": null
          },
          "name": "stderr",
          "output_type": "stream",
          "text": [
            " 96%|█████████▌| 100/104 [02:35<00:06,  1.53s/it]"
          ]
        },
        {
          "metadata": {
            "tags": null
          },
          "name": "stdout",
          "output_type": "stream",
          "text": [
            "Training loss: 0.113062 - Train mined triplets: 11620334.670000\n"
          ]
        },
        {
          "metadata": {
            "tags": null
          },
          "name": "stderr",
          "output_type": "stream",
          "text": [
            "100%|██████████| 104/104 [02:42<00:00,  1.56s/it]\n"
          ]
        },
        {
          "metadata": {
            "tags": null
          },
          "name": "stdout",
          "output_type": "stream",
          "text": [
            "Train loss: 0.113017 - Val loss: 0.112122 \n",
            "\n",
            "Train mined triplets: 11625096.932692 - Val mined triplets: 11551304.375000 \n",
            "\n",
            "Last learning rate: [0.0007033683215379003]\n",
            "Epoch 13\n",
            "-------------------------------\n"
          ]
        },
        {
          "metadata": {
            "tags": null
          },
          "name": "stderr",
          "output_type": "stream",
          "text": [
            " 10%|▉         | 10/104 [00:15<02:25,  1.55s/it]"
          ]
        },
        {
          "metadata": {
            "tags": null
          },
          "name": "stdout",
          "output_type": "stream",
          "text": [
            "Training loss: 0.112515 - Train mined triplets: 11520857.600000\n"
          ]
        },
        {
          "metadata": {
            "tags": null
          },
          "name": "stderr",
          "output_type": "stream",
          "text": [
            " 19%|█▉        | 20/104 [00:31<02:07,  1.52s/it]"
          ]
        },
        {
          "metadata": {
            "tags": null
          },
          "name": "stdout",
          "output_type": "stream",
          "text": [
            "Training loss: 0.112282 - Train mined triplets: 11475809.750000\n"
          ]
        },
        {
          "metadata": {
            "tags": null
          },
          "name": "stderr",
          "output_type": "stream",
          "text": [
            " 29%|██▉       | 30/104 [00:46<01:51,  1.50s/it]"
          ]
        },
        {
          "metadata": {
            "tags": null
          },
          "name": "stdout",
          "output_type": "stream",
          "text": [
            "Training loss: 0.112118 - Train mined triplets: 11422513.733333\n"
          ]
        },
        {
          "metadata": {
            "tags": null
          },
          "name": "stderr",
          "output_type": "stream",
          "text": [
            " 38%|███▊      | 40/104 [01:02<01:44,  1.63s/it]"
          ]
        },
        {
          "metadata": {
            "tags": null
          },
          "name": "stdout",
          "output_type": "stream",
          "text": [
            "Training loss: 0.112092 - Train mined triplets: 11405488.600000\n"
          ]
        },
        {
          "metadata": {
            "tags": null
          },
          "name": "stderr",
          "output_type": "stream",
          "text": [
            " 48%|████▊     | 50/104 [01:18<01:24,  1.57s/it]"
          ]
        },
        {
          "metadata": {
            "tags": null
          },
          "name": "stdout",
          "output_type": "stream",
          "text": [
            "Training loss: 0.112012 - Train mined triplets: 11420752.120000\n"
          ]
        },
        {
          "metadata": {
            "tags": null
          },
          "name": "stderr",
          "output_type": "stream",
          "text": [
            " 58%|█████▊    | 60/104 [01:33<01:07,  1.53s/it]"
          ]
        },
        {
          "metadata": {
            "tags": null
          },
          "name": "stdout",
          "output_type": "stream",
          "text": [
            "Training loss: 0.111923 - Train mined triplets: 11418117.100000\n"
          ]
        },
        {
          "metadata": {
            "tags": null
          },
          "name": "stderr",
          "output_type": "stream",
          "text": [
            " 67%|██████▋   | 70/104 [01:48<00:51,  1.52s/it]"
          ]
        },
        {
          "metadata": {
            "tags": null
          },
          "name": "stdout",
          "output_type": "stream",
          "text": [
            "Training loss: 0.111924 - Train mined triplets: 11418156.314286\n"
          ]
        },
        {
          "metadata": {
            "tags": null
          },
          "name": "stderr",
          "output_type": "stream",
          "text": [
            " 77%|███████▋  | 80/104 [02:04<00:36,  1.51s/it]"
          ]
        },
        {
          "metadata": {
            "tags": null
          },
          "name": "stdout",
          "output_type": "stream",
          "text": [
            "Training loss: 0.111997 - Train mined triplets: 11444531.912500\n"
          ]
        },
        {
          "metadata": {
            "tags": null
          },
          "name": "stderr",
          "output_type": "stream",
          "text": [
            " 87%|████████▋ | 90/104 [02:19<00:22,  1.57s/it]"
          ]
        },
        {
          "metadata": {
            "tags": null
          },
          "name": "stdout",
          "output_type": "stream",
          "text": [
            "Training loss: 0.112063 - Train mined triplets: 11448524.077778\n"
          ]
        },
        {
          "metadata": {
            "tags": null
          },
          "name": "stderr",
          "output_type": "stream",
          "text": [
            " 96%|█████████▌| 100/104 [02:35<00:06,  1.59s/it]"
          ]
        },
        {
          "metadata": {
            "tags": null
          },
          "name": "stdout",
          "output_type": "stream",
          "text": [
            "Training loss: 0.112002 - Train mined triplets: 11437358.940000\n"
          ]
        },
        {
          "metadata": {
            "tags": null
          },
          "name": "stderr",
          "output_type": "stream",
          "text": [
            "100%|██████████| 104/104 [02:41<00:00,  1.55s/it]\n"
          ]
        },
        {
          "metadata": {
            "tags": null
          },
          "name": "stdout",
          "output_type": "stream",
          "text": [
            "Train loss: 0.111954 - Val loss: 0.111459 \n",
            "\n",
            "Train mined triplets: 11438420.326923 - Val mined triplets: 11722958.096154 \n",
            "\n",
            "Last learning rate: [0.0006545084971874739]\n",
            "Epoch 14\n",
            "-------------------------------\n"
          ]
        },
        {
          "metadata": {
            "tags": null
          },
          "name": "stderr",
          "output_type": "stream",
          "text": [
            " 10%|▉         | 10/104 [00:15<02:29,  1.59s/it]"
          ]
        },
        {
          "metadata": {
            "tags": null
          },
          "name": "stdout",
          "output_type": "stream",
          "text": [
            "Training loss: 0.112205 - Train mined triplets: 11475854.300000\n"
          ]
        },
        {
          "metadata": {
            "tags": null
          },
          "name": "stderr",
          "output_type": "stream",
          "text": [
            " 19%|█▉        | 20/104 [00:31<02:13,  1.59s/it]"
          ]
        },
        {
          "metadata": {
            "tags": null
          },
          "name": "stdout",
          "output_type": "stream",
          "text": [
            "Training loss: 0.112165 - Train mined triplets: 11369818.550000\n"
          ]
        },
        {
          "metadata": {
            "tags": null
          },
          "name": "stderr",
          "output_type": "stream",
          "text": [
            " 29%|██▉       | 30/104 [00:46<01:54,  1.55s/it]"
          ]
        },
        {
          "metadata": {
            "tags": null
          },
          "name": "stdout",
          "output_type": "stream",
          "text": [
            "Training loss: 0.112072 - Train mined triplets: 11433276.466667\n"
          ]
        },
        {
          "metadata": {
            "tags": null
          },
          "name": "stderr",
          "output_type": "stream",
          "text": [
            " 38%|███▊      | 40/104 [01:02<01:37,  1.53s/it]"
          ]
        },
        {
          "metadata": {
            "tags": null
          },
          "name": "stdout",
          "output_type": "stream",
          "text": [
            "Training loss: 0.111990 - Train mined triplets: 11426249.700000\n"
          ]
        },
        {
          "metadata": {
            "tags": null
          },
          "name": "stderr",
          "output_type": "stream",
          "text": [
            " 48%|████▊     | 50/104 [01:17<01:22,  1.52s/it]"
          ]
        },
        {
          "metadata": {
            "tags": null
          },
          "name": "stdout",
          "output_type": "stream",
          "text": [
            "Training loss: 0.111901 - Train mined triplets: 11414550.500000\n"
          ]
        },
        {
          "metadata": {
            "tags": null
          },
          "name": "stderr",
          "output_type": "stream",
          "text": [
            " 58%|█████▊    | 60/104 [01:33<01:08,  1.55s/it]"
          ]
        },
        {
          "metadata": {
            "tags": null
          },
          "name": "stdout",
          "output_type": "stream",
          "text": [
            "Training loss: 0.111924 - Train mined triplets: 11418817.533333\n"
          ]
        },
        {
          "metadata": {
            "tags": null
          },
          "name": "stderr",
          "output_type": "stream",
          "text": [
            " 67%|██████▋   | 70/104 [01:48<00:53,  1.56s/it]"
          ]
        },
        {
          "metadata": {
            "tags": null
          },
          "name": "stdout",
          "output_type": "stream",
          "text": [
            "Training loss: 0.111835 - Train mined triplets: 11435215.485714\n"
          ]
        },
        {
          "metadata": {
            "tags": null
          },
          "name": "stderr",
          "output_type": "stream",
          "text": [
            " 77%|███████▋  | 80/104 [02:04<00:37,  1.57s/it]"
          ]
        },
        {
          "metadata": {
            "tags": null
          },
          "name": "stdout",
          "output_type": "stream",
          "text": [
            "Training loss: 0.111784 - Train mined triplets: 11434481.925000\n"
          ]
        },
        {
          "metadata": {
            "tags": null
          },
          "name": "stderr",
          "output_type": "stream",
          "text": [
            " 87%|████████▋ | 90/104 [02:20<00:21,  1.54s/it]"
          ]
        },
        {
          "metadata": {
            "tags": null
          },
          "name": "stdout",
          "output_type": "stream",
          "text": [
            "Training loss: 0.111765 - Train mined triplets: 11426994.822222\n"
          ]
        },
        {
          "metadata": {
            "tags": null
          },
          "name": "stderr",
          "output_type": "stream",
          "text": [
            " 96%|█████████▌| 100/104 [02:35<00:06,  1.51s/it]"
          ]
        },
        {
          "metadata": {
            "tags": null
          },
          "name": "stdout",
          "output_type": "stream",
          "text": [
            "Training loss: 0.111726 - Train mined triplets: 11421136.990000\n"
          ]
        },
        {
          "metadata": {
            "tags": null
          },
          "name": "stderr",
          "output_type": "stream",
          "text": [
            "100%|██████████| 104/104 [02:41<00:00,  1.56s/it]\n"
          ]
        },
        {
          "metadata": {
            "tags": null
          },
          "name": "stdout",
          "output_type": "stream",
          "text": [
            "Train loss: 0.111683 - Val loss: 0.111431 \n",
            "\n",
            "Train mined triplets: 11421400.096154 - Val mined triplets: 11636413.653846 \n",
            "\n",
            "Last learning rate: [0.0006039558454088797]\n",
            "Epoch 15\n",
            "-------------------------------\n"
          ]
        },
        {
          "metadata": {
            "tags": null
          },
          "name": "stderr",
          "output_type": "stream",
          "text": [
            " 10%|▉         | 10/104 [00:15<02:23,  1.53s/it]"
          ]
        },
        {
          "metadata": {
            "tags": null
          },
          "name": "stdout",
          "output_type": "stream",
          "text": [
            "Training loss: 0.111622 - Train mined triplets: 11234882.100000\n"
          ]
        },
        {
          "metadata": {
            "tags": null
          },
          "name": "stderr",
          "output_type": "stream",
          "text": [
            " 19%|█▉        | 20/104 [00:31<02:09,  1.54s/it]"
          ]
        },
        {
          "metadata": {
            "tags": null
          },
          "name": "stdout",
          "output_type": "stream",
          "text": [
            "Training loss: 0.111273 - Train mined triplets: 11380275.250000\n"
          ]
        },
        {
          "metadata": {
            "tags": null
          },
          "name": "stderr",
          "output_type": "stream",
          "text": [
            " 29%|██▉       | 30/104 [00:47<02:02,  1.65s/it]"
          ]
        },
        {
          "metadata": {
            "tags": null
          },
          "name": "stdout",
          "output_type": "stream",
          "text": [
            "Training loss: 0.111390 - Train mined triplets: 11326083.600000\n"
          ]
        },
        {
          "metadata": {
            "tags": null
          },
          "name": "stderr",
          "output_type": "stream",
          "text": [
            " 38%|███▊      | 40/104 [01:02<01:40,  1.58s/it]"
          ]
        },
        {
          "metadata": {
            "tags": null
          },
          "name": "stdout",
          "output_type": "stream",
          "text": [
            "Training loss: 0.111346 - Train mined triplets: 11296980.800000\n"
          ]
        },
        {
          "metadata": {
            "tags": null
          },
          "name": "stderr",
          "output_type": "stream",
          "text": [
            " 48%|████▊     | 50/104 [01:17<01:22,  1.52s/it]"
          ]
        },
        {
          "metadata": {
            "tags": null
          },
          "name": "stdout",
          "output_type": "stream",
          "text": [
            "Training loss: 0.111232 - Train mined triplets: 11268486.400000\n"
          ]
        },
        {
          "metadata": {
            "tags": null
          },
          "name": "stderr",
          "output_type": "stream",
          "text": [
            " 58%|█████▊    | 60/104 [01:33<01:07,  1.52s/it]"
          ]
        },
        {
          "metadata": {
            "tags": null
          },
          "name": "stdout",
          "output_type": "stream",
          "text": [
            "Training loss: 0.111186 - Train mined triplets: 11273440.600000\n"
          ]
        },
        {
          "metadata": {
            "tags": null
          },
          "name": "stderr",
          "output_type": "stream",
          "text": [
            " 67%|██████▋   | 70/104 [01:48<00:51,  1.51s/it]"
          ]
        },
        {
          "metadata": {
            "tags": null
          },
          "name": "stdout",
          "output_type": "stream",
          "text": [
            "Training loss: 0.111190 - Train mined triplets: 11300788.714286\n"
          ]
        },
        {
          "metadata": {
            "tags": null
          },
          "name": "stderr",
          "output_type": "stream",
          "text": [
            " 77%|███████▋  | 80/104 [02:04<00:38,  1.59s/it]"
          ]
        },
        {
          "metadata": {
            "tags": null
          },
          "name": "stdout",
          "output_type": "stream",
          "text": [
            "Training loss: 0.111158 - Train mined triplets: 11302847.787500\n"
          ]
        },
        {
          "metadata": {
            "tags": null
          },
          "name": "stderr",
          "output_type": "stream",
          "text": [
            " 87%|████████▋ | 90/104 [02:19<00:21,  1.54s/it]"
          ]
        },
        {
          "metadata": {
            "tags": null
          },
          "name": "stdout",
          "output_type": "stream",
          "text": [
            "Training loss: 0.111121 - Train mined triplets: 11322911.955556\n"
          ]
        },
        {
          "metadata": {
            "tags": null
          },
          "name": "stderr",
          "output_type": "stream",
          "text": [
            " 96%|█████████▌| 100/104 [02:35<00:06,  1.54s/it]"
          ]
        },
        {
          "metadata": {
            "tags": null
          },
          "name": "stdout",
          "output_type": "stream",
          "text": [
            "Training loss: 0.111154 - Train mined triplets: 11313313.940000\n"
          ]
        },
        {
          "metadata": {
            "tags": null
          },
          "name": "stderr",
          "output_type": "stream",
          "text": [
            "100%|██████████| 104/104 [02:41<00:00,  1.55s/it]\n"
          ]
        },
        {
          "metadata": {
            "tags": null
          },
          "name": "stdout",
          "output_type": "stream",
          "text": [
            "Train loss: 0.111159 - Val loss: 0.110434 \n",
            "\n",
            "Train mined triplets: 11310015.125000 - Val mined triplets: 11477746.009615 \n",
            "\n",
            "Last learning rate: [0.0005522642316338269]\n",
            "Epoch 16\n",
            "-------------------------------\n"
          ]
        },
        {
          "metadata": {
            "tags": null
          },
          "name": "stderr",
          "output_type": "stream",
          "text": [
            " 10%|▉         | 10/104 [00:15<02:26,  1.55s/it]"
          ]
        },
        {
          "metadata": {
            "tags": null
          },
          "name": "stdout",
          "output_type": "stream",
          "text": [
            "Training loss: 0.110455 - Train mined triplets: 11230973.700000\n"
          ]
        },
        {
          "metadata": {
            "tags": null
          },
          "name": "stderr",
          "output_type": "stream",
          "text": [
            " 19%|█▉        | 20/104 [00:30<02:11,  1.56s/it]"
          ]
        },
        {
          "metadata": {
            "tags": null
          },
          "name": "stdout",
          "output_type": "stream",
          "text": [
            "Training loss: 0.110259 - Train mined triplets: 11227784.350000\n"
          ]
        },
        {
          "metadata": {
            "tags": null
          },
          "name": "stderr",
          "output_type": "stream",
          "text": [
            " 29%|██▉       | 30/104 [00:46<01:52,  1.52s/it]"
          ]
        },
        {
          "metadata": {
            "tags": null
          },
          "name": "stdout",
          "output_type": "stream",
          "text": [
            "Training loss: 0.110141 - Train mined triplets: 11241215.933333\n"
          ]
        },
        {
          "metadata": {
            "tags": null
          },
          "name": "stderr",
          "output_type": "stream",
          "text": [
            " 38%|███▊      | 40/104 [01:01<01:36,  1.51s/it]"
          ]
        },
        {
          "metadata": {
            "tags": null
          },
          "name": "stdout",
          "output_type": "stream",
          "text": [
            "Training loss: 0.110321 - Train mined triplets: 11293453.500000\n"
          ]
        },
        {
          "metadata": {
            "tags": null
          },
          "name": "stderr",
          "output_type": "stream",
          "text": [
            " 48%|████▊     | 50/104 [01:17<01:23,  1.55s/it]"
          ]
        },
        {
          "metadata": {
            "tags": null
          },
          "name": "stdout",
          "output_type": "stream",
          "text": [
            "Training loss: 0.110357 - Train mined triplets: 11295584.180000\n"
          ]
        },
        {
          "metadata": {
            "tags": null
          },
          "name": "stderr",
          "output_type": "stream",
          "text": [
            " 58%|█████▊    | 60/104 [01:32<01:09,  1.59s/it]"
          ]
        },
        {
          "metadata": {
            "tags": null
          },
          "name": "stdout",
          "output_type": "stream",
          "text": [
            "Training loss: 0.110440 - Train mined triplets: 11300647.416667\n"
          ]
        },
        {
          "metadata": {
            "tags": null
          },
          "name": "stderr",
          "output_type": "stream",
          "text": [
            " 67%|██████▋   | 70/104 [01:48<00:52,  1.54s/it]"
          ]
        },
        {
          "metadata": {
            "tags": null
          },
          "name": "stdout",
          "output_type": "stream",
          "text": [
            "Training loss: 0.110568 - Train mined triplets: 11301541.542857\n"
          ]
        },
        {
          "metadata": {
            "tags": null
          },
          "name": "stderr",
          "output_type": "stream",
          "text": [
            " 77%|███████▋  | 80/104 [02:03<00:37,  1.54s/it]"
          ]
        },
        {
          "metadata": {
            "tags": null
          },
          "name": "stdout",
          "output_type": "stream",
          "text": [
            "Training loss: 0.110576 - Train mined triplets: 11300394.875000\n"
          ]
        },
        {
          "metadata": {
            "tags": null
          },
          "name": "stderr",
          "output_type": "stream",
          "text": [
            " 87%|████████▋ | 90/104 [02:19<00:22,  1.57s/it]"
          ]
        },
        {
          "metadata": {
            "tags": null
          },
          "name": "stdout",
          "output_type": "stream",
          "text": [
            "Training loss: 0.110583 - Train mined triplets: 11293763.322222\n"
          ]
        },
        {
          "metadata": {
            "tags": null
          },
          "name": "stderr",
          "output_type": "stream",
          "text": [
            " 96%|█████████▌| 100/104 [02:35<00:06,  1.68s/it]"
          ]
        },
        {
          "metadata": {
            "tags": null
          },
          "name": "stdout",
          "output_type": "stream",
          "text": [
            "Training loss: 0.110494 - Train mined triplets: 11288958.160000\n"
          ]
        },
        {
          "metadata": {
            "tags": null
          },
          "name": "stderr",
          "output_type": "stream",
          "text": [
            "100%|██████████| 104/104 [02:41<00:00,  1.55s/it]\n"
          ]
        },
        {
          "metadata": {
            "tags": null
          },
          "name": "stdout",
          "output_type": "stream",
          "text": [
            "Train loss: 0.110481 - Val loss: 0.111598 \n",
            "\n",
            "Train mined triplets: 11290647.538462 - Val mined triplets: 11155013.346154 \n",
            "\n",
            "Last learning rate: [0.0005000000000000002]\n",
            "Epoch 17\n",
            "-------------------------------\n"
          ]
        },
        {
          "metadata": {
            "tags": null
          },
          "name": "stderr",
          "output_type": "stream",
          "text": [
            " 10%|▉         | 10/104 [00:15<02:27,  1.57s/it]"
          ]
        },
        {
          "metadata": {
            "tags": null
          },
          "name": "stdout",
          "output_type": "stream",
          "text": [
            "Training loss: 0.110918 - Train mined triplets: 11185568.600000\n"
          ]
        },
        {
          "metadata": {
            "tags": null
          },
          "name": "stderr",
          "output_type": "stream",
          "text": [
            " 19%|█▉        | 20/104 [00:31<02:09,  1.54s/it]"
          ]
        },
        {
          "metadata": {
            "tags": null
          },
          "name": "stdout",
          "output_type": "stream",
          "text": [
            "Training loss: 0.110451 - Train mined triplets: 11185893.100000\n"
          ]
        },
        {
          "metadata": {
            "tags": null
          },
          "name": "stderr",
          "output_type": "stream",
          "text": [
            " 29%|██▉       | 30/104 [00:47<01:54,  1.55s/it]"
          ]
        },
        {
          "metadata": {
            "tags": null
          },
          "name": "stdout",
          "output_type": "stream",
          "text": [
            "Training loss: 0.110490 - Train mined triplets: 11248609.533333\n"
          ]
        },
        {
          "metadata": {
            "tags": null
          },
          "name": "stderr",
          "output_type": "stream",
          "text": [
            " 38%|███▊      | 40/104 [01:02<01:42,  1.60s/it]"
          ]
        },
        {
          "metadata": {
            "tags": null
          },
          "name": "stdout",
          "output_type": "stream",
          "text": [
            "Training loss: 0.110473 - Train mined triplets: 11276514.050000\n"
          ]
        },
        {
          "metadata": {
            "tags": null
          },
          "name": "stderr",
          "output_type": "stream",
          "text": [
            " 48%|████▊     | 50/104 [01:18<01:25,  1.59s/it]"
          ]
        },
        {
          "metadata": {
            "tags": null
          },
          "name": "stdout",
          "output_type": "stream",
          "text": [
            "Training loss: 0.110364 - Train mined triplets: 11279848.860000\n"
          ]
        },
        {
          "metadata": {
            "tags": null
          },
          "name": "stderr",
          "output_type": "stream",
          "text": [
            " 58%|█████▊    | 60/104 [01:34<01:07,  1.54s/it]"
          ]
        },
        {
          "metadata": {
            "tags": null
          },
          "name": "stdout",
          "output_type": "stream",
          "text": [
            "Training loss: 0.110346 - Train mined triplets: 11249293.016667\n"
          ]
        },
        {
          "metadata": {
            "tags": null
          },
          "name": "stderr",
          "output_type": "stream",
          "text": [
            " 67%|██████▋   | 70/104 [01:50<00:52,  1.56s/it]"
          ]
        },
        {
          "metadata": {
            "tags": null
          },
          "name": "stdout",
          "output_type": "stream",
          "text": [
            "Training loss: 0.110369 - Train mined triplets: 11244118.142857\n"
          ]
        },
        {
          "metadata": {
            "tags": null
          },
          "name": "stderr",
          "output_type": "stream",
          "text": [
            " 77%|███████▋  | 80/104 [02:05<00:37,  1.57s/it]"
          ]
        },
        {
          "metadata": {
            "tags": null
          },
          "name": "stdout",
          "output_type": "stream",
          "text": [
            "Training loss: 0.110375 - Train mined triplets: 11241371.950000\n"
          ]
        },
        {
          "metadata": {
            "tags": null
          },
          "name": "stderr",
          "output_type": "stream",
          "text": [
            " 87%|████████▋ | 90/104 [02:21<00:21,  1.57s/it]"
          ]
        },
        {
          "metadata": {
            "tags": null
          },
          "name": "stdout",
          "output_type": "stream",
          "text": [
            "Training loss: 0.110385 - Train mined triplets: 11231912.588889\n"
          ]
        },
        {
          "metadata": {
            "tags": null
          },
          "name": "stderr",
          "output_type": "stream",
          "text": [
            " 96%|█████████▌| 100/104 [02:37<00:06,  1.54s/it]"
          ]
        },
        {
          "metadata": {
            "tags": null
          },
          "name": "stdout",
          "output_type": "stream",
          "text": [
            "Training loss: 0.110284 - Train mined triplets: 11243929.790000\n"
          ]
        },
        {
          "metadata": {
            "tags": null
          },
          "name": "stderr",
          "output_type": "stream",
          "text": [
            "100%|██████████| 104/104 [02:43<00:00,  1.57s/it]\n"
          ]
        },
        {
          "metadata": {
            "tags": null
          },
          "name": "stdout",
          "output_type": "stream",
          "text": [
            "Train loss: 0.110255 - Val loss: 0.109676 \n",
            "\n",
            "Train mined triplets: 11251826.740385 - Val mined triplets: 11351429.855769 \n",
            "\n",
            "Last learning rate: [0.0004477357683661734]\n",
            "Epoch 18\n",
            "-------------------------------\n"
          ]
        },
        {
          "metadata": {
            "tags": null
          },
          "name": "stderr",
          "output_type": "stream",
          "text": [
            " 10%|▉         | 10/104 [00:15<02:26,  1.56s/it]"
          ]
        },
        {
          "metadata": {
            "tags": null
          },
          "name": "stdout",
          "output_type": "stream",
          "text": [
            "Training loss: 0.109997 - Train mined triplets: 11081381.400000\n"
          ]
        },
        {
          "metadata": {
            "tags": null
          },
          "name": "stderr",
          "output_type": "stream",
          "text": [
            " 19%|█▉        | 20/104 [00:31<02:08,  1.53s/it]"
          ]
        },
        {
          "metadata": {
            "tags": null
          },
          "name": "stdout",
          "output_type": "stream",
          "text": [
            "Training loss: 0.109642 - Train mined triplets: 11154877.500000\n"
          ]
        },
        {
          "metadata": {
            "tags": null
          },
          "name": "stderr",
          "output_type": "stream",
          "text": [
            " 29%|██▉       | 30/104 [00:46<01:55,  1.56s/it]"
          ]
        },
        {
          "metadata": {
            "tags": null
          },
          "name": "stdout",
          "output_type": "stream",
          "text": [
            "Training loss: 0.109732 - Train mined triplets: 11193833.166667\n"
          ]
        },
        {
          "metadata": {
            "tags": null
          },
          "name": "stderr",
          "output_type": "stream",
          "text": [
            " 38%|███▊      | 40/104 [01:02<01:39,  1.55s/it]"
          ]
        },
        {
          "metadata": {
            "tags": null
          },
          "name": "stdout",
          "output_type": "stream",
          "text": [
            "Training loss: 0.109907 - Train mined triplets: 11175406.875000\n"
          ]
        },
        {
          "metadata": {
            "tags": null
          },
          "name": "stderr",
          "output_type": "stream",
          "text": [
            " 48%|████▊     | 50/104 [01:17<01:24,  1.56s/it]"
          ]
        },
        {
          "metadata": {
            "tags": null
          },
          "name": "stdout",
          "output_type": "stream",
          "text": [
            "Training loss: 0.110033 - Train mined triplets: 11201651.020000\n"
          ]
        },
        {
          "metadata": {
            "tags": null
          },
          "name": "stderr",
          "output_type": "stream",
          "text": [
            " 58%|█████▊    | 60/104 [01:33<01:07,  1.53s/it]"
          ]
        },
        {
          "metadata": {
            "tags": null
          },
          "name": "stdout",
          "output_type": "stream",
          "text": [
            "Training loss: 0.109954 - Train mined triplets: 11234345.950000\n"
          ]
        },
        {
          "metadata": {
            "tags": null
          },
          "name": "stderr",
          "output_type": "stream",
          "text": [
            " 67%|██████▋   | 70/104 [01:49<00:52,  1.54s/it]"
          ]
        },
        {
          "metadata": {
            "tags": null
          },
          "name": "stdout",
          "output_type": "stream",
          "text": [
            "Training loss: 0.109893 - Train mined triplets: 11234267.357143\n"
          ]
        },
        {
          "metadata": {
            "tags": null
          },
          "name": "stderr",
          "output_type": "stream",
          "text": [
            " 77%|███████▋  | 80/104 [02:04<00:38,  1.59s/it]"
          ]
        },
        {
          "metadata": {
            "tags": null
          },
          "name": "stdout",
          "output_type": "stream",
          "text": [
            "Training loss: 0.109817 - Train mined triplets: 11219329.300000\n"
          ]
        },
        {
          "metadata": {
            "tags": null
          },
          "name": "stderr",
          "output_type": "stream",
          "text": [
            " 87%|████████▋ | 90/104 [02:20<00:21,  1.56s/it]"
          ]
        },
        {
          "metadata": {
            "tags": null
          },
          "name": "stdout",
          "output_type": "stream",
          "text": [
            "Training loss: 0.109788 - Train mined triplets: 11220312.722222\n"
          ]
        },
        {
          "metadata": {
            "tags": null
          },
          "name": "stderr",
          "output_type": "stream",
          "text": [
            " 96%|█████████▌| 100/104 [02:35<00:06,  1.59s/it]"
          ]
        },
        {
          "metadata": {
            "tags": null
          },
          "name": "stdout",
          "output_type": "stream",
          "text": [
            "Training loss: 0.109781 - Train mined triplets: 11204422.030000\n"
          ]
        },
        {
          "metadata": {
            "tags": null
          },
          "name": "stderr",
          "output_type": "stream",
          "text": [
            "100%|██████████| 104/104 [02:42<00:00,  1.56s/it]\n"
          ]
        },
        {
          "metadata": {
            "tags": null
          },
          "name": "stdout",
          "output_type": "stream",
          "text": [
            "Train loss: 0.109792 - Val loss: 0.109902 \n",
            "\n",
            "Train mined triplets: 11204124.423077 - Val mined triplets: 11387811.615385 \n",
            "\n",
            "Last learning rate: [0.00039604415459112036]\n",
            "Epoch 19\n",
            "-------------------------------\n"
          ]
        },
        {
          "metadata": {
            "tags": null
          },
          "name": "stderr",
          "output_type": "stream",
          "text": [
            " 10%|▉         | 10/104 [00:15<02:30,  1.60s/it]"
          ]
        },
        {
          "metadata": {
            "tags": null
          },
          "name": "stdout",
          "output_type": "stream",
          "text": [
            "Training loss: 0.109697 - Train mined triplets: 11375750.600000\n"
          ]
        },
        {
          "metadata": {
            "tags": null
          },
          "name": "stderr",
          "output_type": "stream",
          "text": [
            " 19%|█▉        | 20/104 [00:31<02:09,  1.54s/it]"
          ]
        },
        {
          "metadata": {
            "tags": null
          },
          "name": "stdout",
          "output_type": "stream",
          "text": [
            "Training loss: 0.109390 - Train mined triplets: 11234037.450000\n"
          ]
        },
        {
          "metadata": {
            "tags": null
          },
          "name": "stderr",
          "output_type": "stream",
          "text": [
            " 29%|██▉       | 30/104 [00:46<01:53,  1.54s/it]"
          ]
        },
        {
          "metadata": {
            "tags": null
          },
          "name": "stdout",
          "output_type": "stream",
          "text": [
            "Training loss: 0.109328 - Train mined triplets: 11180341.433333\n"
          ]
        },
        {
          "metadata": {
            "tags": null
          },
          "name": "stderr",
          "output_type": "stream",
          "text": [
            " 38%|███▊      | 40/104 [01:02<01:37,  1.52s/it]"
          ]
        },
        {
          "metadata": {
            "tags": null
          },
          "name": "stdout",
          "output_type": "stream",
          "text": [
            "Training loss: 0.109240 - Train mined triplets: 11144583.175000\n"
          ]
        },
        {
          "metadata": {
            "tags": null
          },
          "name": "stderr",
          "output_type": "stream",
          "text": [
            " 48%|████▊     | 50/104 [01:17<01:23,  1.55s/it]"
          ]
        },
        {
          "metadata": {
            "tags": null
          },
          "name": "stdout",
          "output_type": "stream",
          "text": [
            "Training loss: 0.109098 - Train mined triplets: 11145978.620000\n"
          ]
        },
        {
          "metadata": {
            "tags": null
          },
          "name": "stderr",
          "output_type": "stream",
          "text": [
            " 58%|█████▊    | 60/104 [01:33<01:10,  1.60s/it]"
          ]
        },
        {
          "metadata": {
            "tags": null
          },
          "name": "stdout",
          "output_type": "stream",
          "text": [
            "Training loss: 0.109041 - Train mined triplets: 11133794.900000\n"
          ]
        },
        {
          "metadata": {
            "tags": null
          },
          "name": "stderr",
          "output_type": "stream",
          "text": [
            " 67%|██████▋   | 70/104 [01:48<00:52,  1.54s/it]"
          ]
        },
        {
          "metadata": {
            "tags": null
          },
          "name": "stdout",
          "output_type": "stream",
          "text": [
            "Training loss: 0.109033 - Train mined triplets: 11115504.685714\n"
          ]
        },
        {
          "metadata": {
            "tags": null
          },
          "name": "stderr",
          "output_type": "stream",
          "text": [
            " 77%|███████▋  | 80/104 [02:04<00:36,  1.53s/it]"
          ]
        },
        {
          "metadata": {
            "tags": null
          },
          "name": "stdout",
          "output_type": "stream",
          "text": [
            "Training loss: 0.109033 - Train mined triplets: 11105422.725000\n"
          ]
        },
        {
          "metadata": {
            "tags": null
          },
          "name": "stderr",
          "output_type": "stream",
          "text": [
            " 87%|████████▋ | 90/104 [02:19<00:21,  1.52s/it]"
          ]
        },
        {
          "metadata": {
            "tags": null
          },
          "name": "stdout",
          "output_type": "stream",
          "text": [
            "Training loss: 0.109033 - Train mined triplets: 11114048.544444\n"
          ]
        },
        {
          "metadata": {
            "tags": null
          },
          "name": "stderr",
          "output_type": "stream",
          "text": [
            " 96%|█████████▌| 100/104 [02:35<00:06,  1.59s/it]"
          ]
        },
        {
          "metadata": {
            "tags": null
          },
          "name": "stdout",
          "output_type": "stream",
          "text": [
            "Training loss: 0.108985 - Train mined triplets: 11112320.760000\n"
          ]
        },
        {
          "metadata": {
            "tags": null
          },
          "name": "stderr",
          "output_type": "stream",
          "text": [
            "100%|██████████| 104/104 [02:41<00:00,  1.55s/it]\n"
          ]
        },
        {
          "metadata": {
            "tags": null
          },
          "name": "stdout",
          "output_type": "stream",
          "text": [
            "Train loss: 0.108998 - Val loss: 0.108711 \n",
            "\n",
            "Train mined triplets: 11106825.038462 - Val mined triplets: 11385138.471154 \n",
            "\n",
            "Last learning rate: [0.0003454915028125264]\n",
            "Epoch 20\n",
            "-------------------------------\n"
          ]
        },
        {
          "metadata": {
            "tags": null
          },
          "name": "stderr",
          "output_type": "stream",
          "text": [
            " 10%|▉         | 10/104 [00:15<02:27,  1.57s/it]"
          ]
        },
        {
          "metadata": {
            "tags": null
          },
          "name": "stdout",
          "output_type": "stream",
          "text": [
            "Training loss: 0.108461 - Train mined triplets: 11177380.400000\n"
          ]
        },
        {
          "metadata": {
            "tags": null
          },
          "name": "stderr",
          "output_type": "stream",
          "text": [
            " 19%|█▉        | 20/104 [00:30<02:09,  1.54s/it]"
          ]
        },
        {
          "metadata": {
            "tags": null
          },
          "name": "stdout",
          "output_type": "stream",
          "text": [
            "Training loss: 0.108463 - Train mined triplets: 11055601.500000\n"
          ]
        },
        {
          "metadata": {
            "tags": null
          },
          "name": "stderr",
          "output_type": "stream",
          "text": [
            " 29%|██▉       | 30/104 [00:46<01:53,  1.54s/it]"
          ]
        },
        {
          "metadata": {
            "tags": null
          },
          "name": "stdout",
          "output_type": "stream",
          "text": [
            "Training loss: 0.108448 - Train mined triplets: 11090446.000000\n"
          ]
        },
        {
          "metadata": {
            "tags": null
          },
          "name": "stderr",
          "output_type": "stream",
          "text": [
            " 38%|███▊      | 40/104 [01:02<01:38,  1.54s/it]"
          ]
        },
        {
          "metadata": {
            "tags": null
          },
          "name": "stdout",
          "output_type": "stream",
          "text": [
            "Training loss: 0.108511 - Train mined triplets: 11116935.900000\n"
          ]
        },
        {
          "metadata": {
            "tags": null
          },
          "name": "stderr",
          "output_type": "stream",
          "text": [
            " 48%|████▊     | 50/104 [01:17<01:23,  1.55s/it]"
          ]
        },
        {
          "metadata": {
            "tags": null
          },
          "name": "stdout",
          "output_type": "stream",
          "text": [
            "Training loss: 0.108565 - Train mined triplets: 11117349.880000\n"
          ]
        },
        {
          "metadata": {
            "tags": null
          },
          "name": "stderr",
          "output_type": "stream",
          "text": [
            " 58%|█████▊    | 60/104 [01:32<01:08,  1.56s/it]"
          ]
        },
        {
          "metadata": {
            "tags": null
          },
          "name": "stdout",
          "output_type": "stream",
          "text": [
            "Training loss: 0.108584 - Train mined triplets: 11077469.116667\n"
          ]
        },
        {
          "metadata": {
            "tags": null
          },
          "name": "stderr",
          "output_type": "stream",
          "text": [
            " 67%|██████▋   | 70/104 [01:48<00:52,  1.53s/it]"
          ]
        },
        {
          "metadata": {
            "tags": null
          },
          "name": "stdout",
          "output_type": "stream",
          "text": [
            "Training loss: 0.108543 - Train mined triplets: 11066215.142857\n"
          ]
        },
        {
          "metadata": {
            "tags": null
          },
          "name": "stderr",
          "output_type": "stream",
          "text": [
            " 77%|███████▋  | 80/104 [02:03<00:37,  1.55s/it]"
          ]
        },
        {
          "metadata": {
            "tags": null
          },
          "name": "stdout",
          "output_type": "stream",
          "text": [
            "Training loss: 0.108596 - Train mined triplets: 11064726.087500\n"
          ]
        },
        {
          "metadata": {
            "tags": null
          },
          "name": "stderr",
          "output_type": "stream",
          "text": [
            " 87%|████████▋ | 90/104 [02:19<00:21,  1.51s/it]"
          ]
        },
        {
          "metadata": {
            "tags": null
          },
          "name": "stdout",
          "output_type": "stream",
          "text": [
            "Training loss: 0.108575 - Train mined triplets: 11064288.977778\n"
          ]
        },
        {
          "metadata": {
            "tags": null
          },
          "name": "stderr",
          "output_type": "stream",
          "text": [
            " 96%|█████████▌| 100/104 [02:34<00:06,  1.59s/it]"
          ]
        },
        {
          "metadata": {
            "tags": null
          },
          "name": "stdout",
          "output_type": "stream",
          "text": [
            "Training loss: 0.108532 - Train mined triplets: 11058438.370000\n"
          ]
        },
        {
          "metadata": {
            "tags": null
          },
          "name": "stderr",
          "output_type": "stream",
          "text": [
            "100%|██████████| 104/104 [02:40<00:00,  1.55s/it]\n"
          ]
        },
        {
          "metadata": {
            "tags": null
          },
          "name": "stdout",
          "output_type": "stream",
          "text": [
            "Train loss: 0.108535 - Val loss: 0.108933 \n",
            "\n",
            "Train mined triplets: 11047660.423077 - Val mined triplets: 11230551.826923 \n",
            "\n",
            "Last learning rate: [0.00029663167846210003]\n",
            "Epoch 21\n",
            "-------------------------------\n"
          ]
        },
        {
          "metadata": {
            "tags": null
          },
          "name": "stderr",
          "output_type": "stream",
          "text": [
            " 10%|▉         | 10/104 [00:15<02:26,  1.56s/it]"
          ]
        },
        {
          "metadata": {
            "tags": null
          },
          "name": "stdout",
          "output_type": "stream",
          "text": [
            "Training loss: 0.108484 - Train mined triplets: 11161996.900000\n"
          ]
        },
        {
          "metadata": {
            "tags": null
          },
          "name": "stderr",
          "output_type": "stream",
          "text": [
            " 19%|█▉        | 20/104 [00:31<02:10,  1.56s/it]"
          ]
        },
        {
          "metadata": {
            "tags": null
          },
          "name": "stdout",
          "output_type": "stream",
          "text": [
            "Training loss: 0.108460 - Train mined triplets: 11072090.800000\n"
          ]
        },
        {
          "metadata": {
            "tags": null
          },
          "name": "stderr",
          "output_type": "stream",
          "text": [
            " 29%|██▉       | 30/104 [00:46<01:52,  1.52s/it]"
          ]
        },
        {
          "metadata": {
            "tags": null
          },
          "name": "stdout",
          "output_type": "stream",
          "text": [
            "Training loss: 0.108395 - Train mined triplets: 11093431.900000\n"
          ]
        },
        {
          "metadata": {
            "tags": null
          },
          "name": "stderr",
          "output_type": "stream",
          "text": [
            " 38%|███▊      | 40/104 [01:02<01:42,  1.59s/it]"
          ]
        },
        {
          "metadata": {
            "tags": null
          },
          "name": "stdout",
          "output_type": "stream",
          "text": [
            "Training loss: 0.108263 - Train mined triplets: 11086682.725000\n"
          ]
        },
        {
          "metadata": {
            "tags": null
          },
          "name": "stderr",
          "output_type": "stream",
          "text": [
            " 48%|████▊     | 50/104 [01:17<01:24,  1.57s/it]"
          ]
        },
        {
          "metadata": {
            "tags": null
          },
          "name": "stdout",
          "output_type": "stream",
          "text": [
            "Training loss: 0.108234 - Train mined triplets: 11034519.020000\n"
          ]
        },
        {
          "metadata": {
            "tags": null
          },
          "name": "stderr",
          "output_type": "stream",
          "text": [
            " 58%|█████▊    | 60/104 [01:33<01:08,  1.55s/it]"
          ]
        },
        {
          "metadata": {
            "tags": null
          },
          "name": "stdout",
          "output_type": "stream",
          "text": [
            "Training loss: 0.108231 - Train mined triplets: 11025794.450000\n"
          ]
        },
        {
          "metadata": {
            "tags": null
          },
          "name": "stderr",
          "output_type": "stream",
          "text": [
            " 67%|██████▋   | 70/104 [01:48<00:52,  1.54s/it]"
          ]
        },
        {
          "metadata": {
            "tags": null
          },
          "name": "stdout",
          "output_type": "stream",
          "text": [
            "Training loss: 0.108216 - Train mined triplets: 11015140.014286\n"
          ]
        },
        {
          "metadata": {
            "tags": null
          },
          "name": "stderr",
          "output_type": "stream",
          "text": [
            " 77%|███████▋  | 80/104 [02:04<00:37,  1.58s/it]"
          ]
        },
        {
          "metadata": {
            "tags": null
          },
          "name": "stdout",
          "output_type": "stream",
          "text": [
            "Training loss: 0.108189 - Train mined triplets: 10998092.362500\n"
          ]
        },
        {
          "metadata": {
            "tags": null
          },
          "name": "stderr",
          "output_type": "stream",
          "text": [
            " 87%|████████▋ | 90/104 [02:20<00:22,  1.63s/it]"
          ]
        },
        {
          "metadata": {
            "tags": null
          },
          "name": "stdout",
          "output_type": "stream",
          "text": [
            "Training loss: 0.108159 - Train mined triplets: 10996780.944444\n"
          ]
        },
        {
          "metadata": {
            "tags": null
          },
          "name": "stderr",
          "output_type": "stream",
          "text": [
            " 96%|█████████▌| 100/104 [02:35<00:06,  1.54s/it]"
          ]
        },
        {
          "metadata": {
            "tags": null
          },
          "name": "stdout",
          "output_type": "stream",
          "text": [
            "Training loss: 0.108100 - Train mined triplets: 11017762.700000\n"
          ]
        },
        {
          "metadata": {
            "tags": null
          },
          "name": "stderr",
          "output_type": "stream",
          "text": [
            "100%|██████████| 104/104 [02:41<00:00,  1.56s/it]\n"
          ]
        },
        {
          "metadata": {
            "tags": null
          },
          "name": "stdout",
          "output_type": "stream",
          "text": [
            "Train loss: 0.108071 - Val loss: 0.107758 \n",
            "\n",
            "Train mined triplets: 11020935.980769 - Val mined triplets: 11589282.105769 \n",
            "\n",
            "Last learning rate: [0.00025000000000000017]\n",
            "Epoch 22\n",
            "-------------------------------\n"
          ]
        },
        {
          "metadata": {
            "tags": null
          },
          "name": "stderr",
          "output_type": "stream",
          "text": [
            " 10%|▉         | 10/104 [00:15<02:22,  1.52s/it]"
          ]
        },
        {
          "metadata": {
            "tags": null
          },
          "name": "stdout",
          "output_type": "stream",
          "text": [
            "Training loss: 0.107546 - Train mined triplets: 11069894.700000\n"
          ]
        },
        {
          "metadata": {
            "tags": null
          },
          "name": "stderr",
          "output_type": "stream",
          "text": [
            " 19%|█▉        | 20/104 [00:31<02:12,  1.58s/it]"
          ]
        },
        {
          "metadata": {
            "tags": null
          },
          "name": "stdout",
          "output_type": "stream",
          "text": [
            "Training loss: 0.107467 - Train mined triplets: 11076076.750000\n"
          ]
        },
        {
          "metadata": {
            "tags": null
          },
          "name": "stderr",
          "output_type": "stream",
          "text": [
            " 29%|██▉       | 30/104 [00:46<01:55,  1.56s/it]"
          ]
        },
        {
          "metadata": {
            "tags": null
          },
          "name": "stdout",
          "output_type": "stream",
          "text": [
            "Training loss: 0.107547 - Train mined triplets: 11106792.900000\n"
          ]
        },
        {
          "metadata": {
            "tags": null
          },
          "name": "stderr",
          "output_type": "stream",
          "text": [
            " 38%|███▊      | 40/104 [01:01<01:37,  1.53s/it]"
          ]
        },
        {
          "metadata": {
            "tags": null
          },
          "name": "stdout",
          "output_type": "stream",
          "text": [
            "Training loss: 0.107474 - Train mined triplets: 11071271.550000\n"
          ]
        },
        {
          "metadata": {
            "tags": null
          },
          "name": "stderr",
          "output_type": "stream",
          "text": [
            " 48%|████▊     | 50/104 [01:17<01:21,  1.52s/it]"
          ]
        },
        {
          "metadata": {
            "tags": null
          },
          "name": "stdout",
          "output_type": "stream",
          "text": [
            "Training loss: 0.107549 - Train mined triplets: 11053601.860000\n"
          ]
        },
        {
          "metadata": {
            "tags": null
          },
          "name": "stderr",
          "output_type": "stream",
          "text": [
            " 58%|█████▊    | 60/104 [01:33<01:10,  1.59s/it]"
          ]
        },
        {
          "metadata": {
            "tags": null
          },
          "name": "stdout",
          "output_type": "stream",
          "text": [
            "Training loss: 0.107542 - Train mined triplets: 11041702.283333\n"
          ]
        },
        {
          "metadata": {
            "tags": null
          },
          "name": "stderr",
          "output_type": "stream",
          "text": [
            " 67%|██████▋   | 70/104 [01:49<00:55,  1.65s/it]"
          ]
        },
        {
          "metadata": {
            "tags": null
          },
          "name": "stdout",
          "output_type": "stream",
          "text": [
            "Training loss: 0.107499 - Train mined triplets: 11040718.085714\n"
          ]
        },
        {
          "metadata": {
            "tags": null
          },
          "name": "stderr",
          "output_type": "stream",
          "text": [
            " 77%|███████▋  | 80/104 [02:04<00:37,  1.54s/it]"
          ]
        },
        {
          "metadata": {
            "tags": null
          },
          "name": "stdout",
          "output_type": "stream",
          "text": [
            "Training loss: 0.107564 - Train mined triplets: 11037458.487500\n"
          ]
        },
        {
          "metadata": {
            "tags": null
          },
          "name": "stderr",
          "output_type": "stream",
          "text": [
            " 87%|████████▋ | 90/104 [02:20<00:21,  1.54s/it]"
          ]
        },
        {
          "metadata": {
            "tags": null
          },
          "name": "stdout",
          "output_type": "stream",
          "text": [
            "Training loss: 0.107634 - Train mined triplets: 11041633.711111\n"
          ]
        },
        {
          "metadata": {
            "tags": null
          },
          "name": "stderr",
          "output_type": "stream",
          "text": [
            " 96%|█████████▌| 100/104 [02:35<00:06,  1.51s/it]"
          ]
        },
        {
          "metadata": {
            "tags": null
          },
          "name": "stdout",
          "output_type": "stream",
          "text": [
            "Training loss: 0.107655 - Train mined triplets: 11040701.190000\n"
          ]
        },
        {
          "metadata": {
            "tags": null
          },
          "name": "stderr",
          "output_type": "stream",
          "text": [
            "100%|██████████| 104/104 [02:41<00:00,  1.56s/it]\n"
          ]
        },
        {
          "metadata": {
            "tags": null
          },
          "name": "stdout",
          "output_type": "stream",
          "text": [
            "Train loss: 0.107659 - Val loss: 0.107753 \n",
            "\n",
            "Train mined triplets: 11040518.326923 - Val mined triplets: 11492253.961538 \n",
            "\n",
            "Last learning rate: [0.00020610737385376354]\n",
            "Epoch 23\n",
            "-------------------------------\n"
          ]
        },
        {
          "metadata": {
            "tags": null
          },
          "name": "stderr",
          "output_type": "stream",
          "text": [
            " 10%|▉         | 10/104 [00:15<02:26,  1.56s/it]"
          ]
        },
        {
          "metadata": {
            "tags": null
          },
          "name": "stdout",
          "output_type": "stream",
          "text": [
            "Training loss: 0.107760 - Train mined triplets: 11114186.800000\n"
          ]
        },
        {
          "metadata": {
            "tags": null
          },
          "name": "stderr",
          "output_type": "stream",
          "text": [
            " 19%|█▉        | 20/104 [00:31<02:11,  1.56s/it]"
          ]
        },
        {
          "metadata": {
            "tags": null
          },
          "name": "stdout",
          "output_type": "stream",
          "text": [
            "Training loss: 0.107558 - Train mined triplets: 11080644.500000\n"
          ]
        },
        {
          "metadata": {
            "tags": null
          },
          "name": "stderr",
          "output_type": "stream",
          "text": [
            " 29%|██▉       | 30/104 [00:46<01:54,  1.55s/it]"
          ]
        },
        {
          "metadata": {
            "tags": null
          },
          "name": "stdout",
          "output_type": "stream",
          "text": [
            "Training loss: 0.107549 - Train mined triplets: 11042843.900000\n"
          ]
        },
        {
          "metadata": {
            "tags": null
          },
          "name": "stderr",
          "output_type": "stream",
          "text": [
            " 38%|███▊      | 40/104 [01:02<01:38,  1.54s/it]"
          ]
        },
        {
          "metadata": {
            "tags": null
          },
          "name": "stdout",
          "output_type": "stream",
          "text": [
            "Training loss: 0.107584 - Train mined triplets: 11045830.350000\n"
          ]
        },
        {
          "metadata": {
            "tags": null
          },
          "name": "stderr",
          "output_type": "stream",
          "text": [
            " 48%|████▊     | 50/104 [01:18<01:24,  1.56s/it]"
          ]
        },
        {
          "metadata": {
            "tags": null
          },
          "name": "stdout",
          "output_type": "stream",
          "text": [
            "Training loss: 0.107584 - Train mined triplets: 11015505.080000\n"
          ]
        },
        {
          "metadata": {
            "tags": null
          },
          "name": "stderr",
          "output_type": "stream",
          "text": [
            " 58%|█████▊    | 60/104 [01:33<01:11,  1.63s/it]"
          ]
        },
        {
          "metadata": {
            "tags": null
          },
          "name": "stdout",
          "output_type": "stream",
          "text": [
            "Training loss: 0.107545 - Train mined triplets: 11014490.716667\n"
          ]
        },
        {
          "metadata": {
            "tags": null
          },
          "name": "stderr",
          "output_type": "stream",
          "text": [
            " 67%|██████▋   | 70/104 [01:49<00:52,  1.55s/it]"
          ]
        },
        {
          "metadata": {
            "tags": null
          },
          "name": "stdout",
          "output_type": "stream",
          "text": [
            "Training loss: 0.107516 - Train mined triplets: 11031325.700000\n"
          ]
        },
        {
          "metadata": {
            "tags": null
          },
          "name": "stderr",
          "output_type": "stream",
          "text": [
            " 77%|███████▋  | 80/104 [02:04<00:36,  1.52s/it]"
          ]
        },
        {
          "metadata": {
            "tags": null
          },
          "name": "stdout",
          "output_type": "stream",
          "text": [
            "Training loss: 0.107475 - Train mined triplets: 11020085.500000\n"
          ]
        },
        {
          "metadata": {
            "tags": null
          },
          "name": "stderr",
          "output_type": "stream",
          "text": [
            " 87%|████████▋ | 90/104 [02:20<00:21,  1.52s/it]"
          ]
        },
        {
          "metadata": {
            "tags": null
          },
          "name": "stdout",
          "output_type": "stream",
          "text": [
            "Training loss: 0.107440 - Train mined triplets: 11006968.033333\n"
          ]
        },
        {
          "metadata": {
            "tags": null
          },
          "name": "stderr",
          "output_type": "stream",
          "text": [
            " 96%|█████████▌| 100/104 [02:35<00:06,  1.56s/it]"
          ]
        },
        {
          "metadata": {
            "tags": null
          },
          "name": "stdout",
          "output_type": "stream",
          "text": [
            "Training loss: 0.107431 - Train mined triplets: 11006696.550000\n"
          ]
        },
        {
          "metadata": {
            "tags": null
          },
          "name": "stderr",
          "output_type": "stream",
          "text": [
            "100%|██████████| 104/104 [02:42<00:00,  1.56s/it]\n"
          ]
        },
        {
          "metadata": {
            "tags": null
          },
          "name": "stdout",
          "output_type": "stream",
          "text": [
            "Train loss: 0.107425 - Val loss: 0.107337 \n",
            "\n",
            "Train mined triplets: 11014423.009615 - Val mined triplets: 11554258.759615 \n",
            "\n",
            "Last learning rate: [0.00016543469682057108]\n",
            "Epoch 24\n",
            "-------------------------------\n"
          ]
        },
        {
          "metadata": {
            "tags": null
          },
          "name": "stderr",
          "output_type": "stream",
          "text": [
            " 10%|▉         | 10/104 [00:15<02:23,  1.53s/it]"
          ]
        },
        {
          "metadata": {
            "tags": null
          },
          "name": "stdout",
          "output_type": "stream",
          "text": [
            "Training loss: 0.106970 - Train mined triplets: 11109563.400000\n"
          ]
        },
        {
          "metadata": {
            "tags": null
          },
          "name": "stderr",
          "output_type": "stream",
          "text": [
            " 19%|█▉        | 20/104 [00:31<02:10,  1.55s/it]"
          ]
        },
        {
          "metadata": {
            "tags": null
          },
          "name": "stdout",
          "output_type": "stream",
          "text": [
            "Training loss: 0.107064 - Train mined triplets: 11076893.350000\n"
          ]
        },
        {
          "metadata": {
            "tags": null
          },
          "name": "stderr",
          "output_type": "stream",
          "text": [
            " 29%|██▉       | 30/104 [00:46<01:54,  1.54s/it]"
          ]
        },
        {
          "metadata": {
            "tags": null
          },
          "name": "stdout",
          "output_type": "stream",
          "text": [
            "Training loss: 0.107194 - Train mined triplets: 11051390.033333\n"
          ]
        },
        {
          "metadata": {
            "tags": null
          },
          "name": "stderr",
          "output_type": "stream",
          "text": [
            " 38%|███▊      | 40/104 [01:01<01:39,  1.56s/it]"
          ]
        },
        {
          "metadata": {
            "tags": null
          },
          "name": "stdout",
          "output_type": "stream",
          "text": [
            "Training loss: 0.107099 - Train mined triplets: 11011464.425000\n"
          ]
        },
        {
          "metadata": {
            "tags": null
          },
          "name": "stderr",
          "output_type": "stream",
          "text": [
            " 48%|████▊     | 50/104 [01:17<01:22,  1.53s/it]"
          ]
        },
        {
          "metadata": {
            "tags": null
          },
          "name": "stdout",
          "output_type": "stream",
          "text": [
            "Training loss: 0.107016 - Train mined triplets: 11002435.620000\n"
          ]
        },
        {
          "metadata": {
            "tags": null
          },
          "name": "stderr",
          "output_type": "stream",
          "text": [
            " 58%|█████▊    | 60/104 [01:32<01:07,  1.53s/it]"
          ]
        },
        {
          "metadata": {
            "tags": null
          },
          "name": "stdout",
          "output_type": "stream",
          "text": [
            "Training loss: 0.107075 - Train mined triplets: 10988601.150000\n"
          ]
        },
        {
          "metadata": {
            "tags": null
          },
          "name": "stderr",
          "output_type": "stream",
          "text": [
            " 67%|██████▋   | 70/104 [01:47<00:51,  1.50s/it]"
          ]
        },
        {
          "metadata": {
            "tags": null
          },
          "name": "stdout",
          "output_type": "stream",
          "text": [
            "Training loss: 0.107095 - Train mined triplets: 10982561.400000\n"
          ]
        },
        {
          "metadata": {
            "tags": null
          },
          "name": "stderr",
          "output_type": "stream",
          "text": [
            " 77%|███████▋  | 80/104 [02:03<00:37,  1.55s/it]"
          ]
        },
        {
          "metadata": {
            "tags": null
          },
          "name": "stdout",
          "output_type": "stream",
          "text": [
            "Training loss: 0.107045 - Train mined triplets: 10997700.925000\n"
          ]
        },
        {
          "metadata": {
            "tags": null
          },
          "name": "stderr",
          "output_type": "stream",
          "text": [
            " 87%|████████▋ | 90/104 [02:18<00:21,  1.55s/it]"
          ]
        },
        {
          "metadata": {
            "tags": null
          },
          "name": "stdout",
          "output_type": "stream",
          "text": [
            "Training loss: 0.107023 - Train mined triplets: 10989018.555556\n"
          ]
        },
        {
          "metadata": {
            "tags": null
          },
          "name": "stderr",
          "output_type": "stream",
          "text": [
            " 96%|█████████▌| 100/104 [02:34<00:06,  1.56s/it]"
          ]
        },
        {
          "metadata": {
            "tags": null
          },
          "name": "stdout",
          "output_type": "stream",
          "text": [
            "Training loss: 0.107023 - Train mined triplets: 10983268.100000\n"
          ]
        },
        {
          "metadata": {
            "tags": null
          },
          "name": "stderr",
          "output_type": "stream",
          "text": [
            "100%|██████████| 104/104 [02:40<00:00,  1.54s/it]\n"
          ]
        },
        {
          "metadata": {
            "tags": null
          },
          "name": "stdout",
          "output_type": "stream",
          "text": [
            "Train loss: 0.107012 - Val loss: 0.107125 \n",
            "\n",
            "Train mined triplets: 10987071.634615 - Val mined triplets: 11262807.894231 \n",
            "\n",
            "Last learning rate: [0.00012842758726130303]\n",
            "Epoch 25\n",
            "-------------------------------\n"
          ]
        },
        {
          "metadata": {
            "tags": null
          },
          "name": "stderr",
          "output_type": "stream",
          "text": [
            " 10%|▉         | 10/104 [00:15<02:25,  1.55s/it]"
          ]
        },
        {
          "metadata": {
            "tags": null
          },
          "name": "stdout",
          "output_type": "stream",
          "text": [
            "Training loss: 0.106632 - Train mined triplets: 10764891.300000\n"
          ]
        },
        {
          "metadata": {
            "tags": null
          },
          "name": "stderr",
          "output_type": "stream",
          "text": [
            " 19%|█▉        | 20/104 [00:31<02:14,  1.60s/it]"
          ]
        },
        {
          "metadata": {
            "tags": null
          },
          "name": "stdout",
          "output_type": "stream",
          "text": [
            "Training loss: 0.106679 - Train mined triplets: 10868071.100000\n"
          ]
        },
        {
          "metadata": {
            "tags": null
          },
          "name": "stderr",
          "output_type": "stream",
          "text": [
            " 29%|██▉       | 30/104 [00:47<01:55,  1.56s/it]"
          ]
        },
        {
          "metadata": {
            "tags": null
          },
          "name": "stdout",
          "output_type": "stream",
          "text": [
            "Training loss: 0.106594 - Train mined triplets: 10921853.600000\n"
          ]
        },
        {
          "metadata": {
            "tags": null
          },
          "name": "stderr",
          "output_type": "stream",
          "text": [
            " 38%|███▊      | 40/104 [01:02<01:40,  1.57s/it]"
          ]
        },
        {
          "metadata": {
            "tags": null
          },
          "name": "stdout",
          "output_type": "stream",
          "text": [
            "Training loss: 0.106596 - Train mined triplets: 10929797.425000\n"
          ]
        },
        {
          "metadata": {
            "tags": null
          },
          "name": "stderr",
          "output_type": "stream",
          "text": [
            " 48%|████▊     | 50/104 [01:18<01:22,  1.52s/it]"
          ]
        },
        {
          "metadata": {
            "tags": null
          },
          "name": "stdout",
          "output_type": "stream",
          "text": [
            "Training loss: 0.106607 - Train mined triplets: 10959571.660000\n"
          ]
        },
        {
          "metadata": {
            "tags": null
          },
          "name": "stderr",
          "output_type": "stream",
          "text": [
            " 58%|█████▊    | 60/104 [01:33<01:07,  1.53s/it]"
          ]
        },
        {
          "metadata": {
            "tags": null
          },
          "name": "stdout",
          "output_type": "stream",
          "text": [
            "Training loss: 0.106622 - Train mined triplets: 10961322.683333\n"
          ]
        },
        {
          "metadata": {
            "tags": null
          },
          "name": "stderr",
          "output_type": "stream",
          "text": [
            " 67%|██████▋   | 70/104 [01:49<00:53,  1.58s/it]"
          ]
        },
        {
          "metadata": {
            "tags": null
          },
          "name": "stdout",
          "output_type": "stream",
          "text": [
            "Training loss: 0.106586 - Train mined triplets: 10968671.885714\n"
          ]
        },
        {
          "metadata": {
            "tags": null
          },
          "name": "stderr",
          "output_type": "stream",
          "text": [
            " 77%|███████▋  | 80/104 [02:04<00:37,  1.58s/it]"
          ]
        },
        {
          "metadata": {
            "tags": null
          },
          "name": "stdout",
          "output_type": "stream",
          "text": [
            "Training loss: 0.106566 - Train mined triplets: 10984787.400000\n"
          ]
        },
        {
          "metadata": {
            "tags": null
          },
          "name": "stderr",
          "output_type": "stream",
          "text": [
            " 87%|████████▋ | 90/104 [02:20<00:21,  1.52s/it]"
          ]
        },
        {
          "metadata": {
            "tags": null
          },
          "name": "stdout",
          "output_type": "stream",
          "text": [
            "Training loss: 0.106536 - Train mined triplets: 10991681.888889\n"
          ]
        },
        {
          "metadata": {
            "tags": null
          },
          "name": "stderr",
          "output_type": "stream",
          "text": [
            " 96%|█████████▌| 100/104 [02:35<00:06,  1.51s/it]"
          ]
        },
        {
          "metadata": {
            "tags": null
          },
          "name": "stdout",
          "output_type": "stream",
          "text": [
            "Training loss: 0.106540 - Train mined triplets: 10979056.650000\n"
          ]
        },
        {
          "metadata": {
            "tags": null
          },
          "name": "stderr",
          "output_type": "stream",
          "text": [
            "100%|██████████| 104/104 [02:42<00:00,  1.56s/it]\n"
          ]
        },
        {
          "output_type": "stream",
          "name": "stdout",
          "text": [
            "Train loss: 0.106545 - Val loss: 0.107188 \n",
            "\n",
            "Train mined triplets: 10977699.230769 - Val mined triplets: 11262265.019231 \n",
            "\n",
            "Last learning rate: [9.549150281252637e-05]\n",
            "Epoch 26\n",
            "-------------------------------\n"
          ]
        },
        {
          "output_type": "stream",
          "name": "stderr",
          "text": [
            " 10%|▉         | 10/104 [00:16<02:33,  1.63s/it]"
          ]
        },
        {
          "output_type": "stream",
          "name": "stdout",
          "text": [
            "Training loss: 0.106695 - Train mined triplets: 10814547.500000\n"
          ]
        },
        {
          "output_type": "stream",
          "name": "stderr",
          "text": [
            " 19%|█▉        | 20/104 [00:31<02:12,  1.57s/it]"
          ]
        },
        {
          "output_type": "stream",
          "name": "stdout",
          "text": [
            "Training loss: 0.106569 - Train mined triplets: 10882892.950000\n"
          ]
        },
        {
          "output_type": "stream",
          "name": "stderr",
          "text": [
            " 29%|██▉       | 30/104 [00:47<01:54,  1.55s/it]"
          ]
        },
        {
          "output_type": "stream",
          "name": "stdout",
          "text": [
            "Training loss: 0.106533 - Train mined triplets: 10868095.600000\n"
          ]
        },
        {
          "output_type": "stream",
          "name": "stderr",
          "text": [
            " 38%|███▊      | 40/104 [01:02<01:36,  1.51s/it]"
          ]
        },
        {
          "output_type": "stream",
          "name": "stdout",
          "text": [
            "Training loss: 0.106518 - Train mined triplets: 10905279.800000\n"
          ]
        },
        {
          "output_type": "stream",
          "name": "stderr",
          "text": [
            " 48%|████▊     | 50/104 [01:18<01:27,  1.62s/it]"
          ]
        },
        {
          "output_type": "stream",
          "name": "stdout",
          "text": [
            "Training loss: 0.106490 - Train mined triplets: 10894349.420000\n"
          ]
        },
        {
          "output_type": "stream",
          "name": "stderr",
          "text": [
            " 58%|█████▊    | 60/104 [01:33<01:10,  1.60s/it]"
          ]
        },
        {
          "output_type": "stream",
          "name": "stdout",
          "text": [
            "Training loss: 0.106446 - Train mined triplets: 10888558.533333\n"
          ]
        },
        {
          "output_type": "stream",
          "name": "stderr",
          "text": [
            " 67%|██████▋   | 70/104 [01:49<00:53,  1.56s/it]"
          ]
        },
        {
          "output_type": "stream",
          "name": "stdout",
          "text": [
            "Training loss: 0.106437 - Train mined triplets: 10880886.914286\n"
          ]
        },
        {
          "output_type": "stream",
          "name": "stderr",
          "text": [
            " 77%|███████▋  | 80/104 [02:04<00:36,  1.53s/it]"
          ]
        },
        {
          "output_type": "stream",
          "name": "stdout",
          "text": [
            "Training loss: 0.106422 - Train mined triplets: 10898699.275000\n"
          ]
        },
        {
          "output_type": "stream",
          "name": "stderr",
          "text": [
            " 87%|████████▋ | 90/104 [02:20<00:21,  1.54s/it]"
          ]
        },
        {
          "output_type": "stream",
          "name": "stdout",
          "text": [
            "Training loss: 0.106390 - Train mined triplets: 10910720.600000\n"
          ]
        },
        {
          "output_type": "stream",
          "name": "stderr",
          "text": [
            " 96%|█████████▌| 100/104 [02:36<00:06,  1.61s/it]"
          ]
        },
        {
          "output_type": "stream",
          "name": "stdout",
          "text": [
            "Training loss: 0.106365 - Train mined triplets: 10924458.580000\n"
          ]
        },
        {
          "output_type": "stream",
          "name": "stderr",
          "text": [
            "100%|██████████| 104/104 [02:42<00:00,  1.56s/it]\n"
          ]
        },
        {
          "output_type": "stream",
          "name": "stdout",
          "text": [
            "Train loss: 0.106359 - Val loss: 0.106640 \n",
            "\n",
            "Train mined triplets: 10927847.807692 - Val mined triplets: 11325398.913462 \n",
            "\n",
            "Last learning rate: [6.698729810778068e-05]\n",
            "Epoch 27\n",
            "-------------------------------\n"
          ]
        },
        {
          "output_type": "stream",
          "name": "stderr",
          "text": [
            " 10%|▉         | 10/104 [00:16<02:33,  1.63s/it]"
          ]
        },
        {
          "output_type": "stream",
          "name": "stdout",
          "text": [
            "Training loss: 0.106266 - Train mined triplets: 10769243.600000\n"
          ]
        },
        {
          "output_type": "stream",
          "name": "stderr",
          "text": [
            " 19%|█▉        | 20/104 [00:31<02:09,  1.55s/it]"
          ]
        },
        {
          "output_type": "stream",
          "name": "stdout",
          "text": [
            "Training loss: 0.106274 - Train mined triplets: 10885488.900000\n"
          ]
        },
        {
          "output_type": "stream",
          "name": "stderr",
          "text": [
            " 29%|██▉       | 30/104 [00:47<01:54,  1.55s/it]"
          ]
        },
        {
          "output_type": "stream",
          "name": "stdout",
          "text": [
            "Training loss: 0.106213 - Train mined triplets: 10885592.866667\n"
          ]
        },
        {
          "output_type": "stream",
          "name": "stderr",
          "text": [
            " 38%|███▊      | 40/104 [01:02<01:38,  1.54s/it]"
          ]
        },
        {
          "output_type": "stream",
          "name": "stdout",
          "text": [
            "Training loss: 0.106197 - Train mined triplets: 10893281.575000\n"
          ]
        },
        {
          "output_type": "stream",
          "name": "stderr",
          "text": [
            " 48%|████▊     | 50/104 [01:18<01:26,  1.60s/it]"
          ]
        },
        {
          "output_type": "stream",
          "name": "stdout",
          "text": [
            "Training loss: 0.106210 - Train mined triplets: 10883866.560000\n"
          ]
        },
        {
          "output_type": "stream",
          "name": "stderr",
          "text": [
            " 58%|█████▊    | 60/104 [01:34<01:08,  1.56s/it]"
          ]
        },
        {
          "output_type": "stream",
          "name": "stdout",
          "text": [
            "Training loss: 0.106184 - Train mined triplets: 10900444.183333\n"
          ]
        },
        {
          "output_type": "stream",
          "name": "stderr",
          "text": [
            " 67%|██████▋   | 70/104 [01:49<00:52,  1.55s/it]"
          ]
        },
        {
          "output_type": "stream",
          "name": "stdout",
          "text": [
            "Training loss: 0.106174 - Train mined triplets: 10909266.000000\n"
          ]
        },
        {
          "output_type": "stream",
          "name": "stderr",
          "text": [
            " 77%|███████▋  | 80/104 [02:05<00:36,  1.52s/it]"
          ]
        },
        {
          "output_type": "stream",
          "name": "stdout",
          "text": [
            "Training loss: 0.106200 - Train mined triplets: 10906124.012500\n"
          ]
        },
        {
          "output_type": "stream",
          "name": "stderr",
          "text": [
            " 87%|████████▋ | 90/104 [02:21<00:22,  1.58s/it]"
          ]
        },
        {
          "output_type": "stream",
          "name": "stdout",
          "text": [
            "Training loss: 0.106186 - Train mined triplets: 10913156.488889\n"
          ]
        },
        {
          "output_type": "stream",
          "name": "stderr",
          "text": [
            " 96%|█████████▌| 100/104 [02:36<00:06,  1.58s/it]"
          ]
        },
        {
          "output_type": "stream",
          "name": "stdout",
          "text": [
            "Training loss: 0.106172 - Train mined triplets: 10914336.030000\n"
          ]
        },
        {
          "output_type": "stream",
          "name": "stderr",
          "text": [
            "100%|██████████| 104/104 [02:42<00:00,  1.56s/it]\n"
          ]
        },
        {
          "output_type": "stream",
          "name": "stdout",
          "text": [
            "Train loss: 0.106178 - Val loss: 0.106384 \n",
            "\n",
            "Train mined triplets: 10918746.028846 - Val mined triplets: 11303455.567308 \n",
            "\n",
            "Last learning rate: [4.322727117869953e-05]\n",
            "Epoch 28\n",
            "-------------------------------\n"
          ]
        },
        {
          "output_type": "stream",
          "name": "stderr",
          "text": [
            " 10%|▉         | 10/104 [00:15<02:23,  1.53s/it]"
          ]
        },
        {
          "output_type": "stream",
          "name": "stdout",
          "text": [
            "Training loss: 0.105939 - Train mined triplets: 10818067.500000\n"
          ]
        },
        {
          "output_type": "stream",
          "name": "stderr",
          "text": [
            " 19%|█▉        | 20/104 [00:30<02:07,  1.52s/it]"
          ]
        },
        {
          "output_type": "stream",
          "name": "stdout",
          "text": [
            "Training loss: 0.105945 - Train mined triplets: 10864805.300000\n"
          ]
        },
        {
          "output_type": "stream",
          "name": "stderr",
          "text": [
            " 29%|██▉       | 30/104 [00:46<01:55,  1.56s/it]"
          ]
        },
        {
          "output_type": "stream",
          "name": "stdout",
          "text": [
            "Training loss: 0.105961 - Train mined triplets: 10810853.333333\n"
          ]
        },
        {
          "output_type": "stream",
          "name": "stderr",
          "text": [
            " 38%|███▊      | 40/104 [01:02<01:42,  1.60s/it]"
          ]
        },
        {
          "output_type": "stream",
          "name": "stdout",
          "text": [
            "Training loss: 0.105960 - Train mined triplets: 10854204.450000\n"
          ]
        },
        {
          "output_type": "stream",
          "name": "stderr",
          "text": [
            " 48%|████▊     | 50/104 [01:17<01:23,  1.55s/it]"
          ]
        },
        {
          "output_type": "stream",
          "name": "stdout",
          "text": [
            "Training loss: 0.105957 - Train mined triplets: 10855119.720000\n"
          ]
        },
        {
          "output_type": "stream",
          "name": "stderr",
          "text": [
            " 58%|█████▊    | 60/104 [01:33<01:07,  1.53s/it]"
          ]
        },
        {
          "output_type": "stream",
          "name": "stdout",
          "text": [
            "Training loss: 0.105951 - Train mined triplets: 10847105.366667\n"
          ]
        },
        {
          "output_type": "stream",
          "name": "stderr",
          "text": [
            " 67%|██████▋   | 70/104 [01:48<00:51,  1.52s/it]"
          ]
        },
        {
          "output_type": "stream",
          "name": "stdout",
          "text": [
            "Training loss: 0.105951 - Train mined triplets: 10854384.300000\n"
          ]
        },
        {
          "output_type": "stream",
          "name": "stderr",
          "text": [
            " 77%|███████▋  | 80/104 [02:04<00:38,  1.61s/it]"
          ]
        },
        {
          "output_type": "stream",
          "name": "stdout",
          "text": [
            "Training loss: 0.105960 - Train mined triplets: 10871898.675000\n"
          ]
        },
        {
          "output_type": "stream",
          "name": "stderr",
          "text": [
            " 87%|████████▋ | 90/104 [02:19<00:21,  1.54s/it]"
          ]
        },
        {
          "output_type": "stream",
          "name": "stdout",
          "text": [
            "Training loss: 0.105946 - Train mined triplets: 10878436.577778\n"
          ]
        },
        {
          "output_type": "stream",
          "name": "stderr",
          "text": [
            " 96%|█████████▌| 100/104 [02:34<00:06,  1.52s/it]"
          ]
        },
        {
          "output_type": "stream",
          "name": "stdout",
          "text": [
            "Training loss: 0.105927 - Train mined triplets: 10875292.650000\n"
          ]
        },
        {
          "output_type": "stream",
          "name": "stderr",
          "text": [
            "100%|██████████| 104/104 [02:40<00:00,  1.55s/it]\n"
          ]
        },
        {
          "output_type": "stream",
          "name": "stdout",
          "text": [
            "Train loss: 0.105943 - Val loss: 0.106239 \n",
            "\n",
            "Train mined triplets: 10883860.432692 - Val mined triplets: 11411755.125000 \n",
            "\n",
            "Last learning rate: [2.447174185242324e-05]\n",
            "Epoch 29\n",
            "-------------------------------\n"
          ]
        },
        {
          "output_type": "stream",
          "name": "stderr",
          "text": [
            " 10%|▉         | 10/104 [00:15<02:26,  1.56s/it]"
          ]
        },
        {
          "output_type": "stream",
          "name": "stdout",
          "text": [
            "Training loss: 0.105743 - Train mined triplets: 10944093.800000\n"
          ]
        },
        {
          "output_type": "stream",
          "name": "stderr",
          "text": [
            " 19%|█▉        | 20/104 [00:31<02:12,  1.58s/it]"
          ]
        },
        {
          "output_type": "stream",
          "name": "stdout",
          "text": [
            "Training loss: 0.105743 - Train mined triplets: 10891741.750000\n"
          ]
        },
        {
          "output_type": "stream",
          "name": "stderr",
          "text": [
            " 29%|██▉       | 30/104 [00:46<01:56,  1.58s/it]"
          ]
        },
        {
          "output_type": "stream",
          "name": "stdout",
          "text": [
            "Training loss: 0.105790 - Train mined triplets: 10893186.566667\n"
          ]
        },
        {
          "output_type": "stream",
          "name": "stderr",
          "text": [
            " 38%|███▊      | 40/104 [01:02<01:37,  1.52s/it]"
          ]
        },
        {
          "output_type": "stream",
          "name": "stdout",
          "text": [
            "Training loss: 0.105790 - Train mined triplets: 10894871.775000\n"
          ]
        },
        {
          "output_type": "stream",
          "name": "stderr",
          "text": [
            " 48%|████▊     | 50/104 [01:17<01:21,  1.51s/it]"
          ]
        },
        {
          "output_type": "stream",
          "name": "stdout",
          "text": [
            "Training loss: 0.105815 - Train mined triplets: 10892205.800000\n"
          ]
        },
        {
          "output_type": "stream",
          "name": "stderr",
          "text": [
            " 58%|█████▊    | 60/104 [01:33<01:07,  1.54s/it]"
          ]
        },
        {
          "output_type": "stream",
          "name": "stdout",
          "text": [
            "Training loss: 0.105815 - Train mined triplets: 10893077.783333\n"
          ]
        },
        {
          "output_type": "stream",
          "name": "stderr",
          "text": [
            " 67%|██████▋   | 70/104 [01:48<00:53,  1.56s/it]"
          ]
        },
        {
          "output_type": "stream",
          "name": "stdout",
          "text": [
            "Training loss: 0.105823 - Train mined triplets: 10912336.285714\n"
          ]
        },
        {
          "output_type": "stream",
          "name": "stderr",
          "text": [
            " 77%|███████▋  | 80/104 [02:03<00:36,  1.54s/it]"
          ]
        },
        {
          "output_type": "stream",
          "name": "stdout",
          "text": [
            "Training loss: 0.105818 - Train mined triplets: 10919985.062500\n"
          ]
        },
        {
          "output_type": "stream",
          "name": "stderr",
          "text": [
            " 87%|████████▋ | 90/104 [02:19<00:21,  1.52s/it]"
          ]
        },
        {
          "output_type": "stream",
          "name": "stdout",
          "text": [
            "Training loss: 0.105816 - Train mined triplets: 10898646.244444\n"
          ]
        },
        {
          "output_type": "stream",
          "name": "stderr",
          "text": [
            " 96%|█████████▌| 100/104 [02:34<00:06,  1.52s/it]"
          ]
        },
        {
          "output_type": "stream",
          "name": "stdout",
          "text": [
            "Training loss: 0.105820 - Train mined triplets: 10892354.330000\n"
          ]
        },
        {
          "output_type": "stream",
          "name": "stderr",
          "text": [
            "100%|██████████| 104/104 [02:41<00:00,  1.55s/it]\n"
          ]
        },
        {
          "output_type": "stream",
          "name": "stdout",
          "text": [
            "Train loss: 0.105822 - Val loss: 0.105935 \n",
            "\n",
            "Train mined triplets: 10895419.826923 - Val mined triplets: 11317989.769231 \n",
            "\n",
            "Last learning rate: [1.092619963309716e-05]\n",
            "Epoch 30\n",
            "-------------------------------\n"
          ]
        },
        {
          "output_type": "stream",
          "name": "stderr",
          "text": [
            " 10%|▉         | 10/104 [00:15<02:26,  1.56s/it]"
          ]
        },
        {
          "output_type": "stream",
          "name": "stdout",
          "text": [
            "Training loss: 0.105512 - Train mined triplets: 10785346.500000\n"
          ]
        },
        {
          "output_type": "stream",
          "name": "stderr",
          "text": [
            " 19%|█▉        | 20/104 [00:31<02:09,  1.54s/it]"
          ]
        },
        {
          "output_type": "stream",
          "name": "stdout",
          "text": [
            "Training loss: 0.105588 - Train mined triplets: 10761657.450000\n"
          ]
        },
        {
          "output_type": "stream",
          "name": "stderr",
          "text": [
            " 29%|██▉       | 30/104 [00:46<01:56,  1.58s/it]"
          ]
        },
        {
          "output_type": "stream",
          "name": "stdout",
          "text": [
            "Training loss: 0.105577 - Train mined triplets: 10768503.666667\n"
          ]
        },
        {
          "output_type": "stream",
          "name": "stderr",
          "text": [
            " 38%|███▊      | 40/104 [01:02<01:39,  1.55s/it]"
          ]
        },
        {
          "output_type": "stream",
          "name": "stdout",
          "text": [
            "Training loss: 0.105619 - Train mined triplets: 10793549.575000\n"
          ]
        },
        {
          "output_type": "stream",
          "name": "stderr",
          "text": [
            " 48%|████▊     | 50/104 [01:17<01:23,  1.55s/it]"
          ]
        },
        {
          "output_type": "stream",
          "name": "stdout",
          "text": [
            "Training loss: 0.105664 - Train mined triplets: 10819340.020000\n"
          ]
        },
        {
          "output_type": "stream",
          "name": "stderr",
          "text": [
            " 58%|█████▊    | 60/104 [01:33<01:08,  1.55s/it]"
          ]
        },
        {
          "output_type": "stream",
          "name": "stdout",
          "text": [
            "Training loss: 0.105660 - Train mined triplets: 10830779.683333\n"
          ]
        },
        {
          "output_type": "stream",
          "name": "stderr",
          "text": [
            " 67%|██████▋   | 70/104 [01:48<00:52,  1.54s/it]"
          ]
        },
        {
          "output_type": "stream",
          "name": "stdout",
          "text": [
            "Training loss: 0.105652 - Train mined triplets: 10837587.414286\n"
          ]
        },
        {
          "output_type": "stream",
          "name": "stderr",
          "text": [
            " 77%|███████▋  | 80/104 [02:04<00:36,  1.53s/it]"
          ]
        },
        {
          "output_type": "stream",
          "name": "stdout",
          "text": [
            "Training loss: 0.105666 - Train mined triplets: 10839947.000000\n"
          ]
        },
        {
          "output_type": "stream",
          "name": "stderr",
          "text": [
            " 87%|████████▋ | 90/104 [02:19<00:21,  1.55s/it]"
          ]
        },
        {
          "output_type": "stream",
          "name": "stdout",
          "text": [
            "Training loss: 0.105670 - Train mined triplets: 10836273.522222\n"
          ]
        },
        {
          "output_type": "stream",
          "name": "stderr",
          "text": [
            " 96%|█████████▌| 100/104 [02:35<00:06,  1.54s/it]"
          ]
        },
        {
          "output_type": "stream",
          "name": "stdout",
          "text": [
            "Training loss: 0.105667 - Train mined triplets: 10840648.260000\n"
          ]
        },
        {
          "output_type": "stream",
          "name": "stderr",
          "text": [
            "100%|██████████| 104/104 [02:41<00:00,  1.55s/it]\n"
          ]
        },
        {
          "output_type": "stream",
          "name": "stdout",
          "text": [
            "Train loss: 0.105671 - Val loss: 0.106102 \n",
            "\n",
            "Train mined triplets: 10842602.865385 - Val mined triplets: 11294808.240385 \n",
            "\n",
            "Last learning rate: [2.7390523158633003e-06]\n"
          ]
        }
      ]
    },
    {
      "cell_type": "markdown",
      "source": [
        "# Evaluation"
      ],
      "metadata": {
        "id": "Rw0HPXFwR3Mq"
      }
    },
    {
      "cell_type": "markdown",
      "source": [
        "Loss Graphs"
      ],
      "metadata": {
        "id": "uXUzmmFqR97J"
      }
    },
    {
      "cell_type": "code",
      "source": [
        "best_val_loss = min(val_losses)\n",
        "best_val_loss_epoch = val_losses.index(best_val_loss)\n",
        "\n",
        "plt.figure(figsize=(10, 5))\n",
        "plt.plot(train_losses, label='Training Loss')\n",
        "plt.plot(val_losses, label='Validation Loss')\n",
        "plt.scatter(best_val_loss_epoch, best_val_loss, color='red', label=f'Best Val Loss (Epoch: {best_val_loss_epoch} Value: {best_val_loss})')\n",
        "plt.xlabel('Epochs')\n",
        "plt.ylabel('Loss')\n",
        "plt.legend()\n",
        "plt.title('Training and Validation Losses')\n",
        "plt.show()\n",
        "\n",
        "best_mined_triplets = min(val_mined_triplets)\n",
        "best_mined_triplets_epoch = val_mined_triplets.index(best_mined_triplets)\n",
        "\n",
        "plt.figure(figsize=(10, 5))\n",
        "plt.plot(train_losses, label='Training Mined Triplets')\n",
        "plt.plot(val_losses, label='Validation Mined Triplets')\n",
        "plt.scatter(best_val_loss_epoch, best_val_loss, color='red', label=f'Best Mined Triplets (Epoch: {best_mined_triplets_epoch} Value: {best_mined_triplets})')\n",
        "plt.xlabel('Epochs')\n",
        "plt.ylabel('Mined Triplets')\n",
        "plt.legend()\n",
        "plt.title('Training and Validation Mined Triplets')\n",
        "plt.show()"
      ],
      "metadata": {
        "id": "PjFfGG7kR8t_",
        "colab": {
          "base_uri": "https://localhost:8080/",
          "height": 957
        },
        "outputId": "f22b1013-5d21-493b-a675-9206e05db125"
      },
      "execution_count": 18,
      "outputs": [
        {
          "output_type": "display_data",
          "data": {
            "text/plain": [
              "<Figure size 1000x500 with 1 Axes>"
            ],
            "image/png": "[encoded data removed]"
          },
          "metadata": {}
        },
        {
          "output_type": "display_data",
          "data": {
            "text/plain": [
              "<Figure size 1000x500 with 1 Axes>"
            ],
            "image/png": "[encoded data removed]"
          },
          "metadata": {}
        }
      ]
    },
    {
      "cell_type": "markdown",
      "source": [
        "Embedding Graphs"
      ],
      "metadata": {
        "id": "1DlR88btSAHu"
      }
    },
    {
      "cell_type": "code",
      "source": [
        "classes = ['0', '1', '2', '3', '4', '5', '6', '7']\n",
        "colors = ['#1f77b4', '#ff7f0e', '#2ca02c', '#d62728',\n",
        "          '#9467bd', '#8c564b', '#e377c2', '#7f7f7f']\n",
        "\n",
        "def plot_embeddings(embeddings, targets, xlim=None, ylim=None):\n",
        "    plt.figure(figsize=(10, 10))\n",
        "    for i in range(8):\n",
        "        inds = np.where(targets == i)[0]\n",
        "        plt.scatter(embeddings[inds, 0], embeddings[inds, 1], alpha=0.5, color=colors[i], label=classes[i])\n",
        "    if xlim:\n",
        "        plt.xlim(xlim[0], xlim[1])\n",
        "    if ylim:\n",
        "        plt.ylim(ylim[0], ylim[1])\n",
        "    plt.legend(loc='best')\n",
        "    plt.xlabel(\"t-SNE component 1\")\n",
        "    plt.ylabel(\"t-SNE component 2\")\n",
        "    plt.title(\"t-SNE Embeddings\")\n",
        "\n",
        "def extract_embeddings(model, dataloader):\n",
        "    model.eval()  # Set the model to evaluation mode\n",
        "    embeddings = []\n",
        "    labels = []\n",
        "    with torch.no_grad():\n",
        "        for data in dataloader:\n",
        "            inputs, target_labels = data\n",
        "            inputs = inputs.to(device)  # Move inputs to the appropriate device\n",
        "            emb = model.get_embedding(inputs)\n",
        "            embeddings.append(emb.cpu().numpy())\n",
        "            labels.append(target_labels.cpu().numpy())\n",
        "    return np.concatenate(embeddings), np.concatenate(labels)\n",
        "\n",
        "test_embeddings, test_embedding_labels = extract_embeddings(embedding_model, audio_test_loader)"
      ],
      "metadata": {
        "id": "n-wCOpGPSBHf"
      },
      "execution_count": 22,
      "outputs": []
    },
    {
      "cell_type": "code",
      "source": [
        "def apply_tsne(embeddings):\n",
        "    tsne = TSNE(n_components=2, perplexity=50, learning_rate=10, n_iter=1000, random_state=42)\n",
        "    return tsne.fit_transform(embeddings)\n",
        "\n",
        "test_embeddings_tsne = apply_tsne(test_embeddings)\n",
        "plot_embeddings(test_embeddings_tsne, test_embedding_labels)\n",
        "plt.show()"
      ],
      "metadata": {
        "id": "tV7tACFTSDsZ",
        "colab": {
          "base_uri": "https://localhost:8080/",
          "height": 1000
        },
        "outputId": "9452c344-6e1a-49ee-e304-178b293137fe"
      },
      "execution_count": 23,
      "outputs": [
        {
          "output_type": "stream",
          "name": "stderr",
          "text": [
            "Exception ignored on calling ctypes callback function: <function ThreadpoolController._find_libraries_with_dl_iterate_phdr.<locals>.match_library_callback at 0x7adae02a9090>\n",
            "Traceback (most recent call last):\n",
            "  File \"/usr/local/lib/python3.10/dist-packages/threadpoolctl.py\", line 1005, in match_library_callback\n",
            "    self._make_controller_from_path(filepath)\n",
            "  File \"/usr/local/lib/python3.10/dist-packages/threadpoolctl.py\", line 1175, in _make_controller_from_path\n",
            "    lib_controller = controller_class(\n",
            "  File \"/usr/local/lib/python3.10/dist-packages/threadpoolctl.py\", line 114, in __init__\n",
            "    self.dynlib = ctypes.CDLL(filepath, mode=_RTLD_NOLOAD)\n",
            "  File \"/usr/lib/python3.10/ctypes/__init__.py\", line 374, in __init__\n",
            "    self._handle = _dlopen(self._name, mode)\n",
            "OSError: /usr/local/lib/python3.10/dist-packages/scipy.libs/libopenblasp-r0-01191904.3.27.so: cannot open shared object file: No such file or directory\n"
          ]
        },
        {
          "output_type": "display_data",
          "data": {
            "text/plain": [
              "<Figure size 1000x1000 with 1 Axes>"
            ],
            "image/png": "[encoded data removed]"
          },
          "metadata": {}
        }
      ]
    },
    {
      "cell_type": "markdown",
      "source": [
        "# Unassign"
      ],
      "metadata": {
        "id": "QucaoN8_HOD0"
      }
    },
    {
      "cell_type": "code",
      "source": [
        "runtime.unassign()"
      ],
      "metadata": {
        "id": "Qw3nYWqqKkKw"
      },
      "execution_count": null,
      "outputs": []
    }
  ],
  "metadata": {
    "accelerator": "GPU",
    "colab": {
      "gpuType": "L4",
      "machine_shape": "hm",
      "provenance": []
    },
    "kernelspec": {
      "display_name": "Python 3",
      "name": "python3"
    },
    "language_info": {
      "codemirror_mode": {
        "name": "ipython",
        "version": 3
      },
      "file_extension": ".py",
      "mimetype": "text/x-python",
      "name": "python",
      "nbconvert_exporter": "python",
      "pygments_lexer": "ipython3",
      "version": "3.11.4"
    }
  },
  "nbformat": 4,
  "nbformat_minor": 0
}