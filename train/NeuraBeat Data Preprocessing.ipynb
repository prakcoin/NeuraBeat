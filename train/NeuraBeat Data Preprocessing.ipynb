{
  "cells": [
    {
      "cell_type": "code",
      "execution_count": null,
      "metadata": {
        "colab": {
          "base_uri": "https://localhost:8080/"
        },
        "id": "UIVhGljcXYEU",
        "outputId": "26055039-4f01-4e7d-aac6-7915b45be1ab"
      },
      "outputs": [
        {
          "output_type": "stream",
          "name": "stdout",
          "text": [
            "Mounted at /content/drive\n"
          ]
        }
      ],
      "source": [
        "import pickle\n",
        "import os\n",
        "import csv\n",
        "import re\n",
        "import string\n",
        "import librosa\n",
        "import matplotlib.pyplot as plt\n",
        "import numpy as np\n",
        "import shutil\n",
        "import soundfile as sf\n",
        "import torch\n",
        "import h5py\n",
        "import torchaudio\n",
        "import torchaudio.transforms as T\n",
        "from PIL import Image\n",
        "from scipy.ndimage import zoom\n",
        "from librosa.util import normalize\n",
        "from librosa.util import fix_length\n",
        "from sklearn.model_selection import train_test_split\n",
        "from google.colab import drive\n",
        "from google.colab import runtime\n",
        "from collections import defaultdict\n",
        "\n",
        "drive.mount('/content/drive')"
      ]
    },
    {
      "cell_type": "markdown",
      "metadata": {
        "id": "w7QMKteTXYEX"
      },
      "source": [
        "Paths"
      ]
    },
    {
      "cell_type": "code",
      "execution_count": null,
      "metadata": {
        "id": "yQ8YyGMIXYEY"
      },
      "outputs": [],
      "source": [
        "mp3_data_path = '/content/drive/My Drive/Projects/NeuraBeat/Data/fma_small/'\n",
        "csv_path = '/content/drive/My Drive/Projects/NeuraBeat/tracks.csv'"
      ]
    },
    {
      "cell_type": "markdown",
      "metadata": {
        "id": "q18kOrcrXYEZ"
      },
      "source": [
        "Create File:Genre Map"
      ]
    },
    {
      "cell_type": "code",
      "execution_count": null,
      "metadata": {
        "id": "AEmnCVMWXYEZ"
      },
      "outputs": [],
      "source": [
        "file_genre_map = {}  # Dictionary to store file-genre mapping\n",
        "track_ids = [file_name.split('.')[0].lstrip('0') for file_name in os.listdir(mp3_data_path) if file_name.endswith('.mp3')]\n",
        "\n",
        "# Read CSV file and create file-genre mapping\n",
        "with open(csv_path, 'r') as csvfile:\n",
        "    csvreader = csv.reader(csvfile)\n",
        "    next(csvreader) # Skip headers\n",
        "    next(csvreader)\n",
        "    next(csvreader)\n",
        "    for row in csvreader:\n",
        "        if row[0] in track_ids:\n",
        "            genre = row[40]\n",
        "            file_genre_map[row[0]] = genre"
      ]
    },
    {
      "cell_type": "code",
      "source": [
        "# Initialize genre dist dictionary\n",
        "genre_dist = {}\n",
        "total_songs = 0\n",
        "\n",
        "# Count the number of each genre\n",
        "for genre in file_genre_map.values():\n",
        "    if genre not in genre_dist:\n",
        "        genre_dist[genre] = 0\n",
        "    genre_dist[genre] += 1\n",
        "\n",
        "# Calculate the total number of songs\n",
        "total_songs = len(file_genre_map)\n",
        "\n",
        "# Output the genre distribution and total number of songs\n",
        "print(\"Genre distribution:\")\n",
        "for genre, count in genre_dist.items():\n",
        "    print(f\"{genre}: {count}\")\n",
        "print(f\"Total number of songs: {total_songs}\")"
      ],
      "metadata": {
        "id": "oicBmxcxorhA",
        "colab": {
          "base_uri": "https://localhost:8080/"
        },
        "outputId": "f698521a-8d7c-4e6d-a4ae-ac504e77af70"
      },
      "execution_count": null,
      "outputs": [
        {
          "output_type": "stream",
          "name": "stdout",
          "text": [
            "Genre distribution:\n",
            "Hip-Hop: 1000\n",
            "Pop: 1000\n",
            "Folk: 1000\n",
            "Experimental: 1000\n",
            "Rock: 1000\n",
            "International: 1000\n",
            "Electronic: 1000\n",
            "Instrumental: 1000\n",
            "Total number of songs: 8000\n"
          ]
        }
      ]
    },
    {
      "cell_type": "markdown",
      "metadata": {
        "id": "stbJZme8XYEa"
      },
      "source": [
        "Preprocess Training Data"
      ]
    },
    {
      "cell_type": "code",
      "execution_count": null,
      "metadata": {
        "id": "AtfX0yWwXYEa",
        "colab": {
          "base_uri": "https://localhost:8080/"
        },
        "outputId": "742d097b-9c6e-420f-a8b1-934ec0addc81"
      },
      "outputs": [
        {
          "output_type": "stream",
          "name": "stdout",
          "text": [
            "Skipped short file: 098565.mp3\n",
            "Skipped corrupt file: 133297.mp3\n",
            "Skipped short file: 098569.mp3\n",
            "Skipped corrupt file: 108925.mp3\n",
            "Skipped corrupt file: 099134.mp3\n",
            "Skipped short file: 098567.mp3\n",
            "defaultdict(<class 'int'>, {'Folk': 990, 'Instrumental': 990, 'Electronic': 990, 'Rock': 990, 'Hip-Hop': 990, 'Pop': 990, 'Experimental': 990, 'International': 990})\n"
          ]
        }
      ],
      "source": [
        "data = []\n",
        "labels = []\n",
        "\n",
        "genre_counts = defaultdict(int)\n",
        "max_songs_per_genre = 990\n",
        "target_sr = 16000\n",
        "chunk_duration = 3\n",
        "full_song_length = 27\n",
        "num_chunks = full_song_length // chunk_duration\n",
        "\n",
        "genre_to_number = {'Electronic': 0, 'Experimental': 1, 'Folk': 2, 'Hip-Hop': 3, 'Instrumental': 4, 'International': 5, 'Pop': 6, 'Rock': 7}\n",
        "\n",
        "with open(csv_path, 'r') as csvfile:\n",
        "    for mp3_file in os.listdir(mp3_data_path):\n",
        "        track_id = mp3_file.split('.')[0].lstrip('0')\n",
        "        genre = file_genre_map[track_id]\n",
        "\n",
        "        if genre_counts[genre] >= max_songs_per_genre:\n",
        "            continue\n",
        "\n",
        "        try:\n",
        "            audio, sr = torchaudio.load(os.path.join(mp3_data_path, mp3_file))\n",
        "            audio = T.Resample(orig_freq=sr, new_freq=target_sr)(audio)\n",
        "            audio = torch.mean(audio, dim=0)\n",
        "            if (len(audio) / target_sr) < full_song_length:\n",
        "                print(f\"Skipped short file: {mp3_file}\")\n",
        "                continue\n",
        "            padded_audio = fix_length(audio, size=target_sr * full_song_length)\n",
        "\n",
        "            chunk_length = target_sr * chunk_duration\n",
        "            for i in range(num_chunks):\n",
        "                start_sample = i * chunk_length\n",
        "                end_sample = start_sample + chunk_length\n",
        "                if end_sample > len(padded_audio):\n",
        "                    break\n",
        "                audio_chunk = padded_audio[start_sample:end_sample]\n",
        "                data.append(audio_chunk)\n",
        "                numeric_label = genre_to_number[genre]\n",
        "                labels.append(numeric_label)\n",
        "            genre_counts[genre] += 1\n",
        "\n",
        "        except Exception as e:\n",
        "            print(f\"Skipped corrupt file: {mp3_file}\")\n",
        "\n",
        "data = np.array(data)\n",
        "labels = np.array(labels)\n",
        "print(genre_counts)"
      ]
    },
    {
      "cell_type": "code",
      "execution_count": null,
      "metadata": {
        "id": "ZrJ3WB4RXYEb"
      },
      "outputs": [],
      "source": [
        "training_data, val_data, training_labels, val_labels = train_test_split(data,\n",
        "                                                                        labels,\n",
        "                                                                        test_size=0.2,\n",
        "                                                                        stratify=labels,\n",
        "                                                                        random_state=42)\n",
        "\n",
        "del data, labels\n",
        "\n",
        "with h5py.File('/content/drive/My Drive/Projects/NeuraBeat/Data/torchaudio_train_data.h5', 'w') as f:\n",
        "    f.create_dataset('data', data=np.array(training_data))\n",
        "    f.create_dataset('labels', data=np.array(training_labels))\n",
        "\n",
        "val_data, test_data, val_labels, test_labels = train_test_split(val_data,\n",
        "                                                                val_labels,\n",
        "                                                                test_size=0.5,\n",
        "                                                                stratify=val_labels,\n",
        "                                                                random_state=42)\n",
        "\n",
        "with h5py.File('/content/drive/My Drive/Projects/NeuraBeat/Data/torchaudio_val_data.h5', 'w') as f:\n",
        "    f.create_dataset('data', data=np.array(val_data))\n",
        "    f.create_dataset('labels', data=np.array(val_labels))\n",
        "\n",
        "with h5py.File('/content/drive/My Drive/Projects/NeuraBeat/Data/torchaudio_test_data.h5', 'w') as f:\n",
        "    f.create_dataset('data', data=np.array(test_data))\n",
        "    f.create_dataset('labels', data=np.array(test_labels))"
      ]
    },
    {
      "cell_type": "code",
      "source": [
        "runtime.unassign()"
      ],
      "metadata": {
        "id": "qSCmj2lGidH8"
      },
      "execution_count": null,
      "outputs": []
    }
  ],
  "metadata": {
    "kernelspec": {
      "display_name": "Python 3",
      "name": "python3"
    },
    "language_info": {
      "codemirror_mode": {
        "name": "ipython",
        "version": 3
      },
      "file_extension": ".py",
      "mimetype": "text/x-python",
      "name": "python",
      "nbconvert_exporter": "python",
      "pygments_lexer": "ipython3",
      "version": "3.11.4"
    },
    "colab": {
      "provenance": [],
      "machine_shape": "hm"
    }
  },
  "nbformat": 4,
  "nbformat_minor": 0
}