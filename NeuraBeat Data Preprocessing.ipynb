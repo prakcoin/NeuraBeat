{
  "cells": [
    {
      "cell_type": "code",
      "execution_count": null,
      "metadata": {
        "colab": {
          "base_uri": "https://localhost:8080/"
        },
        "id": "UIVhGljcXYEU",
        "outputId": "b6f87e6d-ac09-49a5-f8ca-58b9a0f0e090"
      },
      "outputs": [
        {
          "output_type": "stream",
          "name": "stdout",
          "text": [
            "Mounted at /content/drive\n"
          ]
        }
      ],
      "source": [
        "import pickle\n",
        "import os\n",
        "import csv\n",
        "import string\n",
        "import librosa\n",
        "import matplotlib.pyplot as plt\n",
        "import numpy as np\n",
        "import shutil\n",
        "import soundfile as sf\n",
        "import torch\n",
        "import h5py\n",
        "from PIL import Image\n",
        "from scipy.ndimage import zoom\n",
        "from librosa.util import normalize\n",
        "from librosa.util import fix_length\n",
        "from sklearn.model_selection import train_test_split\n",
        "from google.colab import drive\n",
        "from google.colab import runtime\n",
        "from collections import defaultdict\n",
        "\n",
        "drive.mount('/content/drive')"
      ]
    },
    {
      "cell_type": "markdown",
      "metadata": {
        "id": "w7QMKteTXYEX"
      },
      "source": [
        "Paths"
      ]
    },
    {
      "cell_type": "code",
      "execution_count": null,
      "metadata": {
        "id": "yQ8YyGMIXYEY"
      },
      "outputs": [],
      "source": [
        "mp3_data_path = '/content/drive/My Drive/Projects/NeuraBeat/Data/fma_small/'\n",
        "csv_path = '/content/drive/My Drive/Projects/NeuraBeat/tracks.csv'"
      ]
    },
    {
      "cell_type": "markdown",
      "metadata": {
        "id": "nvu3RDehXYEY"
      },
      "source": [
        "Clean Filesystem"
      ]
    },
    {
      "cell_type": "code",
      "execution_count": null,
      "metadata": {
        "id": "CQNPKXvIXYEZ"
      },
      "outputs": [],
      "source": [
        "# !apt install ffmpeg\n",
        "# !wget -O fma.zip https://os.unil.cloud.switch.ch/fma/fma_small.zip\n",
        "# !unzip fma.zip\n",
        "# !rm fma.zip"
      ]
    },
    {
      "cell_type": "code",
      "source": [
        "# os.remove(mp3_data_path + \"README.txt\")\n",
        "# os.remove(mp3_data_path + \"checksums\")\n",
        "# for root, dirs, files in os.walk(mp3_data_path):\n",
        "#     for file in files:\n",
        "#         file_path = os.path.join(root, file)\n",
        "#         if file_path != mp3_data_path + file:\n",
        "#             shutil.move(file_path, mp3_data_path)\n",
        "\n",
        "# for root, dirs, _ in os.walk(mp3_data_path, topdown=False):\n",
        "#     for folder in dirs:\n",
        "#         folder_path = os.path.join(root, folder)\n",
        "#         if os.path.isdir(folder_path):\n",
        "#             os.rmdir(folder_path)"
      ],
      "metadata": {
        "id": "ir1mHVgbXOeH"
      },
      "execution_count": null,
      "outputs": []
    },
    {
      "cell_type": "markdown",
      "metadata": {
        "id": "q18kOrcrXYEZ"
      },
      "source": [
        "Create File:Genre Map"
      ]
    },
    {
      "cell_type": "code",
      "execution_count": null,
      "metadata": {
        "id": "AEmnCVMWXYEZ"
      },
      "outputs": [],
      "source": [
        "file_genre_map = {}  # Dictionary to store file-genre mapping\n",
        "track_ids = [file_name.split('.')[0].lstrip('0') for file_name in os.listdir(mp3_data_path) if file_name.endswith('.mp3')]\n",
        "\n",
        "# Read CSV file and create file-genre mapping\n",
        "with open(csv_path, 'r') as csvfile:\n",
        "    csvreader = csv.reader(csvfile)\n",
        "    next(csvreader) # Skip headers\n",
        "    next(csvreader)\n",
        "    next(csvreader)\n",
        "    for row in csvreader:\n",
        "        if row[0] in track_ids:\n",
        "            genre = row[40]\n",
        "            file_genre_map[row[0]] = genre"
      ]
    },
    {
      "cell_type": "code",
      "source": [
        "# Initialize genre dist dictionary\n",
        "genre_dist = {}\n",
        "total_songs = 0\n",
        "\n",
        "# Count the number of each genre\n",
        "for genre in file_genre_map.values():\n",
        "    if genre not in genre_dist:\n",
        "        genre_dist[genre] = 0\n",
        "    genre_dist[genre] += 1\n",
        "\n",
        "# Calculate the total number of songs\n",
        "total_songs = len(file_genre_map)\n",
        "\n",
        "# Output the genre distribution and total number of songs\n",
        "print(\"Genre distribution:\")\n",
        "for genre, count in genre_dist.items():\n",
        "    print(f\"{genre}: {count}\")\n",
        "print(f\"Total number of songs: {total_songs}\")"
      ],
      "metadata": {
        "id": "oicBmxcxorhA",
        "colab": {
          "base_uri": "https://localhost:8080/"
        },
        "outputId": "8b368144-bf98-4e63-a991-36f1269931f3"
      },
      "execution_count": null,
      "outputs": [
        {
          "output_type": "stream",
          "name": "stdout",
          "text": [
            "Genre distribution:\n",
            "Hip-Hop: 1000\n",
            "Pop: 1000\n",
            "Folk: 1000\n",
            "Experimental: 1000\n",
            "Rock: 1000\n",
            "International: 1000\n",
            "Electronic: 1000\n",
            "Instrumental: 1000\n",
            "Total number of songs: 8000\n"
          ]
        }
      ]
    },
    {
      "cell_type": "markdown",
      "metadata": {
        "id": "stbJZme8XYEa"
      },
      "source": [
        "Preprocess Training Data"
      ]
    },
    {
      "cell_type": "code",
      "execution_count": null,
      "metadata": {
        "id": "AtfX0yWwXYEa",
        "colab": {
          "base_uri": "https://localhost:8080/"
        },
        "outputId": "ad2036a4-d2d2-4fd4-8753-a9da51f49463"
      },
      "outputs": [
        {
          "metadata": {
            "tags": null
          },
          "name": "stderr",
          "output_type": "stream",
          "text": [
            "<ipython-input-7-76df3c7c75e9>:22: UserWarning: PySoundFile failed. Trying audioread instead.\n",
            "  audio, sr = librosa.load(os.path.join(mp3_data_path, mp3_file))\n",
            "/usr/local/lib/python3.10/dist-packages/librosa/core/audio.py:184: FutureWarning: librosa.core.audio.__audioread_load\n",
            "\tDeprecated as of librosa version 0.10.0.\n",
            "\tIt will be removed in librosa version 1.0.\n",
            "  y, sr_native = __audioread_load(path, offset, duration, dtype)\n"
          ]
        },
        {
          "metadata": {
            "tags": null
          },
          "name": "stdout",
          "output_type": "stream",
          "text": [
            "Skipped short file: 098565.mp3\n"
          ]
        },
        {
          "metadata": {
            "tags": null
          },
          "name": "stderr",
          "output_type": "stream",
          "text": [
            "<ipython-input-7-76df3c7c75e9>:22: UserWarning: PySoundFile failed. Trying audioread instead.\n",
            "  audio, sr = librosa.load(os.path.join(mp3_data_path, mp3_file))\n",
            "/usr/local/lib/python3.10/dist-packages/librosa/core/audio.py:184: FutureWarning: librosa.core.audio.__audioread_load\n",
            "\tDeprecated as of librosa version 0.10.0.\n",
            "\tIt will be removed in librosa version 1.0.\n",
            "  y, sr_native = __audioread_load(path, offset, duration, dtype)\n"
          ]
        },
        {
          "metadata": {
            "tags": null
          },
          "name": "stdout",
          "output_type": "stream",
          "text": [
            "Skipped corrupt file: 133297.mp3\n"
          ]
        },
        {
          "metadata": {
            "tags": null
          },
          "name": "stderr",
          "output_type": "stream",
          "text": [
            "<ipython-input-7-76df3c7c75e9>:22: UserWarning: PySoundFile failed. Trying audioread instead.\n",
            "  audio, sr = librosa.load(os.path.join(mp3_data_path, mp3_file))\n",
            "/usr/local/lib/python3.10/dist-packages/librosa/core/audio.py:184: FutureWarning: librosa.core.audio.__audioread_load\n",
            "\tDeprecated as of librosa version 0.10.0.\n",
            "\tIt will be removed in librosa version 1.0.\n",
            "  y, sr_native = __audioread_load(path, offset, duration, dtype)\n"
          ]
        },
        {
          "metadata": {
            "tags": null
          },
          "name": "stdout",
          "output_type": "stream",
          "text": [
            "Skipped short file: 098569.mp3\n"
          ]
        },
        {
          "metadata": {
            "tags": null
          },
          "name": "stderr",
          "output_type": "stream",
          "text": [
            "<ipython-input-7-76df3c7c75e9>:22: UserWarning: PySoundFile failed. Trying audioread instead.\n",
            "  audio, sr = librosa.load(os.path.join(mp3_data_path, mp3_file))\n",
            "/usr/local/lib/python3.10/dist-packages/librosa/core/audio.py:184: FutureWarning: librosa.core.audio.__audioread_load\n",
            "\tDeprecated as of librosa version 0.10.0.\n",
            "\tIt will be removed in librosa version 1.0.\n",
            "  y, sr_native = __audioread_load(path, offset, duration, dtype)\n"
          ]
        },
        {
          "metadata": {
            "tags": null
          },
          "name": "stdout",
          "output_type": "stream",
          "text": [
            "Skipped corrupt file: 108925.mp3\n"
          ]
        },
        {
          "metadata": {
            "tags": null
          },
          "name": "stderr",
          "output_type": "stream",
          "text": [
            "<ipython-input-7-76df3c7c75e9>:22: UserWarning: PySoundFile failed. Trying audioread instead.\n",
            "  audio, sr = librosa.load(os.path.join(mp3_data_path, mp3_file))\n",
            "/usr/local/lib/python3.10/dist-packages/librosa/core/audio.py:184: FutureWarning: librosa.core.audio.__audioread_load\n",
            "\tDeprecated as of librosa version 0.10.0.\n",
            "\tIt will be removed in librosa version 1.0.\n",
            "  y, sr_native = __audioread_load(path, offset, duration, dtype)\n"
          ]
        },
        {
          "metadata": {
            "tags": null
          },
          "name": "stdout",
          "output_type": "stream",
          "text": [
            "Skipped corrupt file: 099134.mp3\n"
          ]
        },
        {
          "metadata": {
            "tags": null
          },
          "name": "stderr",
          "output_type": "stream",
          "text": [
            "<ipython-input-7-76df3c7c75e9>:22: UserWarning: PySoundFile failed. Trying audioread instead.\n",
            "  audio, sr = librosa.load(os.path.join(mp3_data_path, mp3_file))\n",
            "/usr/local/lib/python3.10/dist-packages/librosa/core/audio.py:184: FutureWarning: librosa.core.audio.__audioread_load\n",
            "\tDeprecated as of librosa version 0.10.0.\n",
            "\tIt will be removed in librosa version 1.0.\n",
            "  y, sr_native = __audioread_load(path, offset, duration, dtype)\n"
          ]
        },
        {
          "output_type": "stream",
          "name": "stdout",
          "text": [
            "Skipped short file: 098567.mp3\n",
            "defaultdict(<class 'int'>, {'Folk': 990, 'Instrumental': 990, 'Electronic': 990, 'Rock': 990, 'Hip-Hop': 990, 'Pop': 990, 'Experimental': 990, 'International': 990})\n"
          ]
        }
      ],
      "source": [
        "melspec_data = []\n",
        "labels = []\n",
        "\n",
        "genre_counts = defaultdict(int)\n",
        "max_songs_per_genre = 990\n",
        "target_sr = 22050\n",
        "chunk_duration = 3\n",
        "num_chunks = 10\n",
        "full_song_length = 27\n",
        "\n",
        "genre_to_number = {'Electronic': 0, 'Experimental': 1, 'Folk': 2, 'Hip-Hop': 3, 'Instrumental': 4, 'International': 5, 'Pop': 6, 'Rock': 7}\n",
        "\n",
        "with open(csv_path, 'r') as csvfile:\n",
        "    for mp3_file in os.listdir(mp3_data_path):\n",
        "        track_id = mp3_file.split('.')[0].lstrip('0')\n",
        "        genre = file_genre_map[track_id]\n",
        "\n",
        "        if genre_counts[genre] >= max_songs_per_genre:\n",
        "            continue\n",
        "\n",
        "        try:\n",
        "            audio, sr = librosa.load(os.path.join(mp3_data_path, mp3_file))\n",
        "            if (len(audio) / sr) < full_song_length:\n",
        "                print(f\"Skipped short file: {mp3_file}\")\n",
        "                continue\n",
        "            resampled_audio = librosa.resample(audio, orig_sr=sr, target_sr=target_sr)\n",
        "            padded_audio = fix_length(resampled_audio, size=target_sr * full_song_length)\n",
        "            normalized_audio = normalize(padded_audio, norm=1)\n",
        "\n",
        "            chunk_length = target_sr * chunk_duration\n",
        "            for i in range(num_chunks):\n",
        "                start_sample = i * chunk_length\n",
        "                end_sample = start_sample + chunk_length\n",
        "                if end_sample > len(normalized_audio):\n",
        "                    break\n",
        "                audio_chunk = normalized_audio[start_sample:end_sample]\n",
        "\n",
        "                melspec = librosa.feature.melspectrogram(y=audio_chunk, sr=target_sr, n_mels=256)\n",
        "                melspec = librosa.power_to_db(melspec, ref=np.max)\n",
        "                melspec_tensor = np.expand_dims(melspec, axis=0)\n",
        "                melspec_tensor = torch.tensor(melspec_tensor)\n",
        "                melspec_data.append(melspec_tensor)\n",
        "\n",
        "                numeric_label = genre_to_number[genre]\n",
        "                labels.append(numeric_label)\n",
        "            genre_counts[genre] += 1\n",
        "\n",
        "        except Exception as e:\n",
        "            print(f\"Skipped corrupt file: {mp3_file}\")\n",
        "\n",
        "melspec_data = np.array(melspec_data)\n",
        "labels = np.array(labels)\n",
        "print(genre_counts)"
      ]
    },
    {
      "cell_type": "code",
      "execution_count": null,
      "metadata": {
        "id": "ZrJ3WB4RXYEb"
      },
      "outputs": [],
      "source": [
        "melspec_training_data, melspec_val_data, melspec_training_labels, melspec_val_labels = train_test_split(melspec_data,\n",
        "                                                                                                        labels,\n",
        "                                                                                                        test_size=0.2,\n",
        "                                                                                                        stratify=labels,\n",
        "                                                                                                        random_state=42)"
      ]
    },
    {
      "cell_type": "code",
      "source": [
        "with h5py.File('/content/drive/My Drive/Projects/NeuraBeat/Data/train_data_melspec_expanded.h5', 'w') as f:\n",
        "    f.create_dataset('data', data=np.array(melspec_training_data))\n",
        "    f.create_dataset('labels', data=np.array(melspec_training_labels))\n",
        "\n",
        "with h5py.File('/content/drive/My Drive/Projects/NeuraBeat/Data/val_data_melspec_expanded.h5', 'w') as f:\n",
        "    f.create_dataset('data', data=np.array(melspec_val_data))\n",
        "    f.create_dataset('labels', data=np.array(melspec_val_labels))"
      ],
      "metadata": {
        "id": "q5aaF-kjgtXv"
      },
      "execution_count": null,
      "outputs": []
    },
    {
      "cell_type": "code",
      "source": [
        "print(melspec_training_data.shape)\n",
        "print(melspec_training_labels.shape)\n",
        "print(melspec_val_data.shape)\n",
        "print(melspec_val_labels.shape)"
      ],
      "metadata": {
        "colab": {
          "base_uri": "https://localhost:8080/"
        },
        "id": "KcERmtyKWaJH",
        "outputId": "dd718ffa-13ff-4f1b-ece8-264c1dc2ef92"
      },
      "execution_count": null,
      "outputs": [
        {
          "output_type": "stream",
          "name": "stdout",
          "text": [
            "(57024, 1, 256, 130)\n",
            "(57024,)\n",
            "(14256, 1, 256, 130)\n",
            "(14256,)\n"
          ]
        }
      ]
    },
    {
      "cell_type": "code",
      "source": [
        "runtime.unassign()"
      ],
      "metadata": {
        "id": "qSCmj2lGidH8"
      },
      "execution_count": null,
      "outputs": []
    }
  ],
  "metadata": {
    "kernelspec": {
      "display_name": "Python 3",
      "name": "python3"
    },
    "language_info": {
      "codemirror_mode": {
        "name": "ipython",
        "version": 3
      },
      "file_extension": ".py",
      "mimetype": "text/x-python",
      "name": "python",
      "nbconvert_exporter": "python",
      "pygments_lexer": "ipython3",
      "version": "3.11.4"
    },
    "colab": {
      "provenance": [],
      "machine_shape": "hm"
    }
  },
  "nbformat": 4,
  "nbformat_minor": 0
}